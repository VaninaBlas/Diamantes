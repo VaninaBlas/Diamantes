{
  "cells": [
    {
      "cell_type": "markdown",
      "metadata": {
        "id": "view-in-github",
        "colab_type": "text"
      },
      "source": [
        "<a href=\"https://colab.research.google.com/github/VaninaBlas/Diamantes/blob/main/Proyecto_diamantes.ipynb\" target=\"_parent\"><img src=\"https://colab.research.google.com/assets/colab-badge.svg\" alt=\"Open In Colab\"/></a>"
      ]
    },
    {
      "cell_type": "markdown",
      "source": [
        "# Prediccion precio de un diamante"
      ],
      "metadata": {
        "id": "DeccdOhYcVob"
      }
    },
    {
      "cell_type": "markdown",
      "metadata": {
        "id": "7kt3iM2sA9UD"
      },
      "source": [
        "Este Proyecto se va a desarrollar dentro de estas etapas:\n",
        "\n",
        "- Exploración del Dataset\n",
        "- Limpieza (seleccionar columnas necesarios, corregir errores, datos nulos y transformar las variables para que todas sean numéricas)\n",
        "- Visualizaciones de los datos\n",
        "\n",
        "- Dividir los datos en variable a predecir y variables predictoras\n",
        "- Dividir los datos en entrenamiento y testeo\n",
        "- Entrenamiento de **tres modelos de aprendizaje automático supervisado**\n",
        "- Medir su performance y compararlos\n",
        "\n"
      ]
    },
    {
      "cell_type": "markdown",
      "source": [
        "Dataset: [Diamonds](https://www.canva.com/design/DAF1ZcMebR0/fLFC_HP6g2se5gcOvRC-Dw/edit?utm_content=DAF1ZcMebR0&utm_campaign=designshare&utm_medium=link2&utm_source=sharebutton)"
      ],
      "metadata": {
        "id": "x5oWJHWKfWHV"
      }
    },
    {
      "cell_type": "markdown",
      "source": [
        "Esta es una presentacion del proyecto para entender de manera mas amigable: [Proyecto Diamantes](https://www.canva.com/design/DAF1ZcMebR0/fLFC_HP6g2se5gcOvRC-Dw/edit?utm_content=DAF1ZcMebR0&utm_campaign=designshare&utm_medium=link2&utm_source=sharebutton)"
      ],
      "metadata": {
        "id": "fypPxH6eeNVz"
      }
    },
    {
      "cell_type": "markdown",
      "metadata": {
        "id": "dHKns6mEE4q5"
      },
      "source": [
        "### Definición del problema\n",
        "\n"
      ]
    },
    {
      "cell_type": "markdown",
      "metadata": {
        "id": "OIwiPkEOBtjo"
      },
      "source": [
        "**¿Cuál será el precio de un diamante en base a determinadas características?**"
      ]
    },
    {
      "cell_type": "markdown",
      "metadata": {
        "id": "X1nx_SHcA9UJ"
      },
      "source": [
        "### Búsqueda de datos\n",
        "\n"
      ]
    },
    {
      "cell_type": "markdown",
      "metadata": {
        "id": "88q-3ghxBun6"
      },
      "source": [
        "Vamos a usar el dataset diamantes que sacamos de kaggle, hicimos una busqueda encontrando el que mejor se adapta, elegimos estos datos porque nos parecian los mejores para predecir el precio de un diamante. Estas son las variables:\n",
        "\n",
        "\n",
        "*   **carat**: peso del diamante, un equilate equivale a 0,2 gramos\n",
        "*   **clarity**: es la claridad del diamante. Los diamantes suelen contener imperfecciones como grietas o depósitos minerales. Cuanto menos notables sean las imperfecciones de un diamante, mejor será su claridad. La claridad contiene 8 niveles ordenados, desde “I1” (el peor) hasta “IF” (el mejor).\n",
        "*   **color**: se refiere al color del diamante. Los diamantes incoloros se consideran mejores que los diamantes con un tinte amarillo. Hay de 7 colores diferentes, representados por diferentes letras. Los diamantes “D” - “F” se consideran incoloros, mientras que los diamantes “G” - “J” tienen un color muy tenue.\n",
        "*  **cut**: se refiere a cómo se le da forma a un diamante en bruto para convertirlo en un diamante terminado. Mejores cortes crean diamantes más simétricos y luminosos. El corte tiene 5 niveles ordenados:“Fair,” “Good,” “Very Good,” “Premium,” “Ideal.”\n",
        "*  **x, y, z, depth, y table**:son varias medidas del tamaño de un diamante, en milímetros.\n",
        "* **price**: el precio del diamante, variable a predecir\n",
        "\n",
        "\n",
        "\n"
      ]
    },
    {
      "cell_type": "code",
      "execution_count": null,
      "metadata": {
        "id": "studied-statistics"
      },
      "outputs": [],
      "source": [
        "#importamos las librerias que utilizaremos\n",
        "\n",
        "import pandas as pd\n",
        "import matplotlib.pyplot as plt\n",
        "import seaborn as sns"
      ]
    },
    {
      "cell_type": "code",
      "execution_count": null,
      "metadata": {
        "colab": {
          "base_uri": "https://localhost:8080/",
          "height": 73
        },
        "id": "kU2sWsDV3f8B",
        "outputId": "84b475e5-c868-4470-b311-9be621a62a35"
      },
      "outputs": [
        {
          "output_type": "display_data",
          "data": {
            "text/plain": [
              "<IPython.core.display.HTML object>"
            ],
            "text/html": [
              "\n",
              "     <input type=\"file\" id=\"files-365988e8-b207-4e78-92e5-d1f435894ac9\" name=\"files[]\" multiple disabled\n",
              "        style=\"border:none\" />\n",
              "     <output id=\"result-365988e8-b207-4e78-92e5-d1f435894ac9\">\n",
              "      Upload widget is only available when the cell has been executed in the\n",
              "      current browser session. Please rerun this cell to enable.\n",
              "      </output>\n",
              "      <script>// Copyright 2017 Google LLC\n",
              "//\n",
              "// Licensed under the Apache License, Version 2.0 (the \"License\");\n",
              "// you may not use this file except in compliance with the License.\n",
              "// You may obtain a copy of the License at\n",
              "//\n",
              "//      http://www.apache.org/licenses/LICENSE-2.0\n",
              "//\n",
              "// Unless required by applicable law or agreed to in writing, software\n",
              "// distributed under the License is distributed on an \"AS IS\" BASIS,\n",
              "// WITHOUT WARRANTIES OR CONDITIONS OF ANY KIND, either express or implied.\n",
              "// See the License for the specific language governing permissions and\n",
              "// limitations under the License.\n",
              "\n",
              "/**\n",
              " * @fileoverview Helpers for google.colab Python module.\n",
              " */\n",
              "(function(scope) {\n",
              "function span(text, styleAttributes = {}) {\n",
              "  const element = document.createElement('span');\n",
              "  element.textContent = text;\n",
              "  for (const key of Object.keys(styleAttributes)) {\n",
              "    element.style[key] = styleAttributes[key];\n",
              "  }\n",
              "  return element;\n",
              "}\n",
              "\n",
              "// Max number of bytes which will be uploaded at a time.\n",
              "const MAX_PAYLOAD_SIZE = 100 * 1024;\n",
              "\n",
              "function _uploadFiles(inputId, outputId) {\n",
              "  const steps = uploadFilesStep(inputId, outputId);\n",
              "  const outputElement = document.getElementById(outputId);\n",
              "  // Cache steps on the outputElement to make it available for the next call\n",
              "  // to uploadFilesContinue from Python.\n",
              "  outputElement.steps = steps;\n",
              "\n",
              "  return _uploadFilesContinue(outputId);\n",
              "}\n",
              "\n",
              "// This is roughly an async generator (not supported in the browser yet),\n",
              "// where there are multiple asynchronous steps and the Python side is going\n",
              "// to poll for completion of each step.\n",
              "// This uses a Promise to block the python side on completion of each step,\n",
              "// then passes the result of the previous step as the input to the next step.\n",
              "function _uploadFilesContinue(outputId) {\n",
              "  const outputElement = document.getElementById(outputId);\n",
              "  const steps = outputElement.steps;\n",
              "\n",
              "  const next = steps.next(outputElement.lastPromiseValue);\n",
              "  return Promise.resolve(next.value.promise).then((value) => {\n",
              "    // Cache the last promise value to make it available to the next\n",
              "    // step of the generator.\n",
              "    outputElement.lastPromiseValue = value;\n",
              "    return next.value.response;\n",
              "  });\n",
              "}\n",
              "\n",
              "/**\n",
              " * Generator function which is called between each async step of the upload\n",
              " * process.\n",
              " * @param {string} inputId Element ID of the input file picker element.\n",
              " * @param {string} outputId Element ID of the output display.\n",
              " * @return {!Iterable<!Object>} Iterable of next steps.\n",
              " */\n",
              "function* uploadFilesStep(inputId, outputId) {\n",
              "  const inputElement = document.getElementById(inputId);\n",
              "  inputElement.disabled = false;\n",
              "\n",
              "  const outputElement = document.getElementById(outputId);\n",
              "  outputElement.innerHTML = '';\n",
              "\n",
              "  const pickedPromise = new Promise((resolve) => {\n",
              "    inputElement.addEventListener('change', (e) => {\n",
              "      resolve(e.target.files);\n",
              "    });\n",
              "  });\n",
              "\n",
              "  const cancel = document.createElement('button');\n",
              "  inputElement.parentElement.appendChild(cancel);\n",
              "  cancel.textContent = 'Cancel upload';\n",
              "  const cancelPromise = new Promise((resolve) => {\n",
              "    cancel.onclick = () => {\n",
              "      resolve(null);\n",
              "    };\n",
              "  });\n",
              "\n",
              "  // Wait for the user to pick the files.\n",
              "  const files = yield {\n",
              "    promise: Promise.race([pickedPromise, cancelPromise]),\n",
              "    response: {\n",
              "      action: 'starting',\n",
              "    }\n",
              "  };\n",
              "\n",
              "  cancel.remove();\n",
              "\n",
              "  // Disable the input element since further picks are not allowed.\n",
              "  inputElement.disabled = true;\n",
              "\n",
              "  if (!files) {\n",
              "    return {\n",
              "      response: {\n",
              "        action: 'complete',\n",
              "      }\n",
              "    };\n",
              "  }\n",
              "\n",
              "  for (const file of files) {\n",
              "    const li = document.createElement('li');\n",
              "    li.append(span(file.name, {fontWeight: 'bold'}));\n",
              "    li.append(span(\n",
              "        `(${file.type || 'n/a'}) - ${file.size} bytes, ` +\n",
              "        `last modified: ${\n",
              "            file.lastModifiedDate ? file.lastModifiedDate.toLocaleDateString() :\n",
              "                                    'n/a'} - `));\n",
              "    const percent = span('0% done');\n",
              "    li.appendChild(percent);\n",
              "\n",
              "    outputElement.appendChild(li);\n",
              "\n",
              "    const fileDataPromise = new Promise((resolve) => {\n",
              "      const reader = new FileReader();\n",
              "      reader.onload = (e) => {\n",
              "        resolve(e.target.result);\n",
              "      };\n",
              "      reader.readAsArrayBuffer(file);\n",
              "    });\n",
              "    // Wait for the data to be ready.\n",
              "    let fileData = yield {\n",
              "      promise: fileDataPromise,\n",
              "      response: {\n",
              "        action: 'continue',\n",
              "      }\n",
              "    };\n",
              "\n",
              "    // Use a chunked sending to avoid message size limits. See b/62115660.\n",
              "    let position = 0;\n",
              "    do {\n",
              "      const length = Math.min(fileData.byteLength - position, MAX_PAYLOAD_SIZE);\n",
              "      const chunk = new Uint8Array(fileData, position, length);\n",
              "      position += length;\n",
              "\n",
              "      const base64 = btoa(String.fromCharCode.apply(null, chunk));\n",
              "      yield {\n",
              "        response: {\n",
              "          action: 'append',\n",
              "          file: file.name,\n",
              "          data: base64,\n",
              "        },\n",
              "      };\n",
              "\n",
              "      let percentDone = fileData.byteLength === 0 ?\n",
              "          100 :\n",
              "          Math.round((position / fileData.byteLength) * 100);\n",
              "      percent.textContent = `${percentDone}% done`;\n",
              "\n",
              "    } while (position < fileData.byteLength);\n",
              "  }\n",
              "\n",
              "  // All done.\n",
              "  yield {\n",
              "    response: {\n",
              "      action: 'complete',\n",
              "    }\n",
              "  };\n",
              "}\n",
              "\n",
              "scope.google = scope.google || {};\n",
              "scope.google.colab = scope.google.colab || {};\n",
              "scope.google.colab._files = {\n",
              "  _uploadFiles,\n",
              "  _uploadFilesContinue,\n",
              "};\n",
              "})(self);\n",
              "</script> "
            ]
          },
          "metadata": {}
        },
        {
          "output_type": "stream",
          "name": "stdout",
          "text": [
            "Saving diamonds.csv to diamonds (1).csv\n"
          ]
        }
      ],
      "source": [
        "# Archivo desde computadora\n",
        "\n",
        "from google.colab import files\n",
        "import io\n",
        "\n",
        "filesUploaded = files.upload()"
      ]
    },
    {
      "cell_type": "code",
      "execution_count": null,
      "metadata": {
        "id": "aIMkhnnc8ngF"
      },
      "outputs": [],
      "source": [
        "data = pd.read_csv(\"diamonds.csv\", sep=\",\")"
      ]
    },
    {
      "cell_type": "code",
      "execution_count": null,
      "metadata": {
        "colab": {
          "base_uri": "https://localhost:8080/",
          "height": 424
        },
        "id": "EsfO9MzdgXpv",
        "outputId": "f871a73e-17be-46a3-8bc9-29bda7fe0526"
      },
      "outputs": [
        {
          "output_type": "execute_result",
          "data": {
            "text/plain": [
              "       carat        cut color clarity  depth  table  price     x     y     z\n",
              "0       0.23      Ideal     E     SI2   61.5   55.0    326  3.95  3.98  2.43\n",
              "1       0.21    Premium     E     SI1   59.8   61.0    326  3.89  3.84  2.31\n",
              "2       0.23       Good     E     VS1   56.9   65.0    327  4.05  4.07  2.31\n",
              "3       0.29    Premium     I     VS2   62.4   58.0    334  4.20  4.23  2.63\n",
              "4       0.31       Good     J     SI2   63.3   58.0    335  4.34  4.35  2.75\n",
              "...      ...        ...   ...     ...    ...    ...    ...   ...   ...   ...\n",
              "53935   0.72      Ideal     D     SI1   60.8   57.0   2757  5.75  5.76  3.50\n",
              "53936   0.72       Good     D     SI1   63.1   55.0   2757  5.69  5.75  3.61\n",
              "53937   0.70  Very Good     D     SI1   62.8   60.0   2757  5.66  5.68  3.56\n",
              "53938   0.86    Premium     H     SI2   61.0   58.0   2757  6.15  6.12  3.74\n",
              "53939   0.75      Ideal     D     SI2   62.2   55.0   2757  5.83  5.87  3.64\n",
              "\n",
              "[53940 rows x 10 columns]"
            ],
            "text/html": [
              "\n",
              "  <div id=\"df-b1d19663-5881-4309-9f5b-bd0f89b3fdd1\" class=\"colab-df-container\">\n",
              "    <div>\n",
              "<style scoped>\n",
              "    .dataframe tbody tr th:only-of-type {\n",
              "        vertical-align: middle;\n",
              "    }\n",
              "\n",
              "    .dataframe tbody tr th {\n",
              "        vertical-align: top;\n",
              "    }\n",
              "\n",
              "    .dataframe thead th {\n",
              "        text-align: right;\n",
              "    }\n",
              "</style>\n",
              "<table border=\"1\" class=\"dataframe\">\n",
              "  <thead>\n",
              "    <tr style=\"text-align: right;\">\n",
              "      <th></th>\n",
              "      <th>carat</th>\n",
              "      <th>cut</th>\n",
              "      <th>color</th>\n",
              "      <th>clarity</th>\n",
              "      <th>depth</th>\n",
              "      <th>table</th>\n",
              "      <th>price</th>\n",
              "      <th>x</th>\n",
              "      <th>y</th>\n",
              "      <th>z</th>\n",
              "    </tr>\n",
              "  </thead>\n",
              "  <tbody>\n",
              "    <tr>\n",
              "      <th>0</th>\n",
              "      <td>0.23</td>\n",
              "      <td>Ideal</td>\n",
              "      <td>E</td>\n",
              "      <td>SI2</td>\n",
              "      <td>61.5</td>\n",
              "      <td>55.0</td>\n",
              "      <td>326</td>\n",
              "      <td>3.95</td>\n",
              "      <td>3.98</td>\n",
              "      <td>2.43</td>\n",
              "    </tr>\n",
              "    <tr>\n",
              "      <th>1</th>\n",
              "      <td>0.21</td>\n",
              "      <td>Premium</td>\n",
              "      <td>E</td>\n",
              "      <td>SI1</td>\n",
              "      <td>59.8</td>\n",
              "      <td>61.0</td>\n",
              "      <td>326</td>\n",
              "      <td>3.89</td>\n",
              "      <td>3.84</td>\n",
              "      <td>2.31</td>\n",
              "    </tr>\n",
              "    <tr>\n",
              "      <th>2</th>\n",
              "      <td>0.23</td>\n",
              "      <td>Good</td>\n",
              "      <td>E</td>\n",
              "      <td>VS1</td>\n",
              "      <td>56.9</td>\n",
              "      <td>65.0</td>\n",
              "      <td>327</td>\n",
              "      <td>4.05</td>\n",
              "      <td>4.07</td>\n",
              "      <td>2.31</td>\n",
              "    </tr>\n",
              "    <tr>\n",
              "      <th>3</th>\n",
              "      <td>0.29</td>\n",
              "      <td>Premium</td>\n",
              "      <td>I</td>\n",
              "      <td>VS2</td>\n",
              "      <td>62.4</td>\n",
              "      <td>58.0</td>\n",
              "      <td>334</td>\n",
              "      <td>4.20</td>\n",
              "      <td>4.23</td>\n",
              "      <td>2.63</td>\n",
              "    </tr>\n",
              "    <tr>\n",
              "      <th>4</th>\n",
              "      <td>0.31</td>\n",
              "      <td>Good</td>\n",
              "      <td>J</td>\n",
              "      <td>SI2</td>\n",
              "      <td>63.3</td>\n",
              "      <td>58.0</td>\n",
              "      <td>335</td>\n",
              "      <td>4.34</td>\n",
              "      <td>4.35</td>\n",
              "      <td>2.75</td>\n",
              "    </tr>\n",
              "    <tr>\n",
              "      <th>...</th>\n",
              "      <td>...</td>\n",
              "      <td>...</td>\n",
              "      <td>...</td>\n",
              "      <td>...</td>\n",
              "      <td>...</td>\n",
              "      <td>...</td>\n",
              "      <td>...</td>\n",
              "      <td>...</td>\n",
              "      <td>...</td>\n",
              "      <td>...</td>\n",
              "    </tr>\n",
              "    <tr>\n",
              "      <th>53935</th>\n",
              "      <td>0.72</td>\n",
              "      <td>Ideal</td>\n",
              "      <td>D</td>\n",
              "      <td>SI1</td>\n",
              "      <td>60.8</td>\n",
              "      <td>57.0</td>\n",
              "      <td>2757</td>\n",
              "      <td>5.75</td>\n",
              "      <td>5.76</td>\n",
              "      <td>3.50</td>\n",
              "    </tr>\n",
              "    <tr>\n",
              "      <th>53936</th>\n",
              "      <td>0.72</td>\n",
              "      <td>Good</td>\n",
              "      <td>D</td>\n",
              "      <td>SI1</td>\n",
              "      <td>63.1</td>\n",
              "      <td>55.0</td>\n",
              "      <td>2757</td>\n",
              "      <td>5.69</td>\n",
              "      <td>5.75</td>\n",
              "      <td>3.61</td>\n",
              "    </tr>\n",
              "    <tr>\n",
              "      <th>53937</th>\n",
              "      <td>0.70</td>\n",
              "      <td>Very Good</td>\n",
              "      <td>D</td>\n",
              "      <td>SI1</td>\n",
              "      <td>62.8</td>\n",
              "      <td>60.0</td>\n",
              "      <td>2757</td>\n",
              "      <td>5.66</td>\n",
              "      <td>5.68</td>\n",
              "      <td>3.56</td>\n",
              "    </tr>\n",
              "    <tr>\n",
              "      <th>53938</th>\n",
              "      <td>0.86</td>\n",
              "      <td>Premium</td>\n",
              "      <td>H</td>\n",
              "      <td>SI2</td>\n",
              "      <td>61.0</td>\n",
              "      <td>58.0</td>\n",
              "      <td>2757</td>\n",
              "      <td>6.15</td>\n",
              "      <td>6.12</td>\n",
              "      <td>3.74</td>\n",
              "    </tr>\n",
              "    <tr>\n",
              "      <th>53939</th>\n",
              "      <td>0.75</td>\n",
              "      <td>Ideal</td>\n",
              "      <td>D</td>\n",
              "      <td>SI2</td>\n",
              "      <td>62.2</td>\n",
              "      <td>55.0</td>\n",
              "      <td>2757</td>\n",
              "      <td>5.83</td>\n",
              "      <td>5.87</td>\n",
              "      <td>3.64</td>\n",
              "    </tr>\n",
              "  </tbody>\n",
              "</table>\n",
              "<p>53940 rows × 10 columns</p>\n",
              "</div>\n",
              "    <div class=\"colab-df-buttons\">\n",
              "\n",
              "  <div class=\"colab-df-container\">\n",
              "    <button class=\"colab-df-convert\" onclick=\"convertToInteractive('df-b1d19663-5881-4309-9f5b-bd0f89b3fdd1')\"\n",
              "            title=\"Convert this dataframe to an interactive table.\"\n",
              "            style=\"display:none;\">\n",
              "\n",
              "  <svg xmlns=\"http://www.w3.org/2000/svg\" height=\"24px\" viewBox=\"0 -960 960 960\">\n",
              "    <path d=\"M120-120v-720h720v720H120Zm60-500h600v-160H180v160Zm220 220h160v-160H400v160Zm0 220h160v-160H400v160ZM180-400h160v-160H180v160Zm440 0h160v-160H620v160ZM180-180h160v-160H180v160Zm440 0h160v-160H620v160Z\"/>\n",
              "  </svg>\n",
              "    </button>\n",
              "\n",
              "  <style>\n",
              "    .colab-df-container {\n",
              "      display:flex;\n",
              "      gap: 12px;\n",
              "    }\n",
              "\n",
              "    .colab-df-convert {\n",
              "      background-color: #E8F0FE;\n",
              "      border: none;\n",
              "      border-radius: 50%;\n",
              "      cursor: pointer;\n",
              "      display: none;\n",
              "      fill: #1967D2;\n",
              "      height: 32px;\n",
              "      padding: 0 0 0 0;\n",
              "      width: 32px;\n",
              "    }\n",
              "\n",
              "    .colab-df-convert:hover {\n",
              "      background-color: #E2EBFA;\n",
              "      box-shadow: 0px 1px 2px rgba(60, 64, 67, 0.3), 0px 1px 3px 1px rgba(60, 64, 67, 0.15);\n",
              "      fill: #174EA6;\n",
              "    }\n",
              "\n",
              "    .colab-df-buttons div {\n",
              "      margin-bottom: 4px;\n",
              "    }\n",
              "\n",
              "    [theme=dark] .colab-df-convert {\n",
              "      background-color: #3B4455;\n",
              "      fill: #D2E3FC;\n",
              "    }\n",
              "\n",
              "    [theme=dark] .colab-df-convert:hover {\n",
              "      background-color: #434B5C;\n",
              "      box-shadow: 0px 1px 3px 1px rgba(0, 0, 0, 0.15);\n",
              "      filter: drop-shadow(0px 1px 2px rgba(0, 0, 0, 0.3));\n",
              "      fill: #FFFFFF;\n",
              "    }\n",
              "  </style>\n",
              "\n",
              "    <script>\n",
              "      const buttonEl =\n",
              "        document.querySelector('#df-b1d19663-5881-4309-9f5b-bd0f89b3fdd1 button.colab-df-convert');\n",
              "      buttonEl.style.display =\n",
              "        google.colab.kernel.accessAllowed ? 'block' : 'none';\n",
              "\n",
              "      async function convertToInteractive(key) {\n",
              "        const element = document.querySelector('#df-b1d19663-5881-4309-9f5b-bd0f89b3fdd1');\n",
              "        const dataTable =\n",
              "          await google.colab.kernel.invokeFunction('convertToInteractive',\n",
              "                                                    [key], {});\n",
              "        if (!dataTable) return;\n",
              "\n",
              "        const docLinkHtml = 'Like what you see? Visit the ' +\n",
              "          '<a target=\"_blank\" href=https://colab.research.google.com/notebooks/data_table.ipynb>data table notebook</a>'\n",
              "          + ' to learn more about interactive tables.';\n",
              "        element.innerHTML = '';\n",
              "        dataTable['output_type'] = 'display_data';\n",
              "        await google.colab.output.renderOutput(dataTable, element);\n",
              "        const docLink = document.createElement('div');\n",
              "        docLink.innerHTML = docLinkHtml;\n",
              "        element.appendChild(docLink);\n",
              "      }\n",
              "    </script>\n",
              "  </div>\n",
              "\n",
              "\n",
              "<div id=\"df-128a6fec-c75d-41c8-a038-b5b0b490e4c2\">\n",
              "  <button class=\"colab-df-quickchart\" onclick=\"quickchart('df-128a6fec-c75d-41c8-a038-b5b0b490e4c2')\"\n",
              "            title=\"Suggest charts\"\n",
              "            style=\"display:none;\">\n",
              "\n",
              "<svg xmlns=\"http://www.w3.org/2000/svg\" height=\"24px\"viewBox=\"0 0 24 24\"\n",
              "     width=\"24px\">\n",
              "    <g>\n",
              "        <path d=\"M19 3H5c-1.1 0-2 .9-2 2v14c0 1.1.9 2 2 2h14c1.1 0 2-.9 2-2V5c0-1.1-.9-2-2-2zM9 17H7v-7h2v7zm4 0h-2V7h2v10zm4 0h-2v-4h2v4z\"/>\n",
              "    </g>\n",
              "</svg>\n",
              "  </button>\n",
              "\n",
              "<style>\n",
              "  .colab-df-quickchart {\n",
              "      --bg-color: #E8F0FE;\n",
              "      --fill-color: #1967D2;\n",
              "      --hover-bg-color: #E2EBFA;\n",
              "      --hover-fill-color: #174EA6;\n",
              "      --disabled-fill-color: #AAA;\n",
              "      --disabled-bg-color: #DDD;\n",
              "  }\n",
              "\n",
              "  [theme=dark] .colab-df-quickchart {\n",
              "      --bg-color: #3B4455;\n",
              "      --fill-color: #D2E3FC;\n",
              "      --hover-bg-color: #434B5C;\n",
              "      --hover-fill-color: #FFFFFF;\n",
              "      --disabled-bg-color: #3B4455;\n",
              "      --disabled-fill-color: #666;\n",
              "  }\n",
              "\n",
              "  .colab-df-quickchart {\n",
              "    background-color: var(--bg-color);\n",
              "    border: none;\n",
              "    border-radius: 50%;\n",
              "    cursor: pointer;\n",
              "    display: none;\n",
              "    fill: var(--fill-color);\n",
              "    height: 32px;\n",
              "    padding: 0;\n",
              "    width: 32px;\n",
              "  }\n",
              "\n",
              "  .colab-df-quickchart:hover {\n",
              "    background-color: var(--hover-bg-color);\n",
              "    box-shadow: 0 1px 2px rgba(60, 64, 67, 0.3), 0 1px 3px 1px rgba(60, 64, 67, 0.15);\n",
              "    fill: var(--button-hover-fill-color);\n",
              "  }\n",
              "\n",
              "  .colab-df-quickchart-complete:disabled,\n",
              "  .colab-df-quickchart-complete:disabled:hover {\n",
              "    background-color: var(--disabled-bg-color);\n",
              "    fill: var(--disabled-fill-color);\n",
              "    box-shadow: none;\n",
              "  }\n",
              "\n",
              "  .colab-df-spinner {\n",
              "    border: 2px solid var(--fill-color);\n",
              "    border-color: transparent;\n",
              "    border-bottom-color: var(--fill-color);\n",
              "    animation:\n",
              "      spin 1s steps(1) infinite;\n",
              "  }\n",
              "\n",
              "  @keyframes spin {\n",
              "    0% {\n",
              "      border-color: transparent;\n",
              "      border-bottom-color: var(--fill-color);\n",
              "      border-left-color: var(--fill-color);\n",
              "    }\n",
              "    20% {\n",
              "      border-color: transparent;\n",
              "      border-left-color: var(--fill-color);\n",
              "      border-top-color: var(--fill-color);\n",
              "    }\n",
              "    30% {\n",
              "      border-color: transparent;\n",
              "      border-left-color: var(--fill-color);\n",
              "      border-top-color: var(--fill-color);\n",
              "      border-right-color: var(--fill-color);\n",
              "    }\n",
              "    40% {\n",
              "      border-color: transparent;\n",
              "      border-right-color: var(--fill-color);\n",
              "      border-top-color: var(--fill-color);\n",
              "    }\n",
              "    60% {\n",
              "      border-color: transparent;\n",
              "      border-right-color: var(--fill-color);\n",
              "    }\n",
              "    80% {\n",
              "      border-color: transparent;\n",
              "      border-right-color: var(--fill-color);\n",
              "      border-bottom-color: var(--fill-color);\n",
              "    }\n",
              "    90% {\n",
              "      border-color: transparent;\n",
              "      border-bottom-color: var(--fill-color);\n",
              "    }\n",
              "  }\n",
              "</style>\n",
              "\n",
              "  <script>\n",
              "    async function quickchart(key) {\n",
              "      const quickchartButtonEl =\n",
              "        document.querySelector('#' + key + ' button');\n",
              "      quickchartButtonEl.disabled = true;  // To prevent multiple clicks.\n",
              "      quickchartButtonEl.classList.add('colab-df-spinner');\n",
              "      try {\n",
              "        const charts = await google.colab.kernel.invokeFunction(\n",
              "            'suggestCharts', [key], {});\n",
              "      } catch (error) {\n",
              "        console.error('Error during call to suggestCharts:', error);\n",
              "      }\n",
              "      quickchartButtonEl.classList.remove('colab-df-spinner');\n",
              "      quickchartButtonEl.classList.add('colab-df-quickchart-complete');\n",
              "    }\n",
              "    (() => {\n",
              "      let quickchartButtonEl =\n",
              "        document.querySelector('#df-128a6fec-c75d-41c8-a038-b5b0b490e4c2 button');\n",
              "      quickchartButtonEl.style.display =\n",
              "        google.colab.kernel.accessAllowed ? 'block' : 'none';\n",
              "    })();\n",
              "  </script>\n",
              "</div>\n",
              "    </div>\n",
              "  </div>\n"
            ]
          },
          "metadata": {},
          "execution_count": 8
        }
      ],
      "source": [
        "data"
      ]
    },
    {
      "cell_type": "markdown",
      "metadata": {
        "id": "m2G5G9CP8Nzf"
      },
      "source": [
        "### Exploración del dataset"
      ]
    },
    {
      "cell_type": "code",
      "execution_count": null,
      "metadata": {
        "id": "2dpcdtfn8Tfk",
        "colab": {
          "base_uri": "https://localhost:8080/",
          "height": 206
        },
        "outputId": "6a0400be-36fa-4bc7-b352-a41165161142"
      },
      "outputs": [
        {
          "output_type": "execute_result",
          "data": {
            "text/plain": [
              "   carat      cut color clarity  depth  table  price     x     y     z\n",
              "0   0.23    Ideal     E     SI2   61.5   55.0    326  3.95  3.98  2.43\n",
              "1   0.21  Premium     E     SI1   59.8   61.0    326  3.89  3.84  2.31\n",
              "2   0.23     Good     E     VS1   56.9   65.0    327  4.05  4.07  2.31\n",
              "3   0.29  Premium     I     VS2   62.4   58.0    334  4.20  4.23  2.63\n",
              "4   0.31     Good     J     SI2   63.3   58.0    335  4.34  4.35  2.75"
            ],
            "text/html": [
              "\n",
              "  <div id=\"df-1d37bc15-99fd-484f-8a1b-82424243c3dd\" class=\"colab-df-container\">\n",
              "    <div>\n",
              "<style scoped>\n",
              "    .dataframe tbody tr th:only-of-type {\n",
              "        vertical-align: middle;\n",
              "    }\n",
              "\n",
              "    .dataframe tbody tr th {\n",
              "        vertical-align: top;\n",
              "    }\n",
              "\n",
              "    .dataframe thead th {\n",
              "        text-align: right;\n",
              "    }\n",
              "</style>\n",
              "<table border=\"1\" class=\"dataframe\">\n",
              "  <thead>\n",
              "    <tr style=\"text-align: right;\">\n",
              "      <th></th>\n",
              "      <th>carat</th>\n",
              "      <th>cut</th>\n",
              "      <th>color</th>\n",
              "      <th>clarity</th>\n",
              "      <th>depth</th>\n",
              "      <th>table</th>\n",
              "      <th>price</th>\n",
              "      <th>x</th>\n",
              "      <th>y</th>\n",
              "      <th>z</th>\n",
              "    </tr>\n",
              "  </thead>\n",
              "  <tbody>\n",
              "    <tr>\n",
              "      <th>0</th>\n",
              "      <td>0.23</td>\n",
              "      <td>Ideal</td>\n",
              "      <td>E</td>\n",
              "      <td>SI2</td>\n",
              "      <td>61.5</td>\n",
              "      <td>55.0</td>\n",
              "      <td>326</td>\n",
              "      <td>3.95</td>\n",
              "      <td>3.98</td>\n",
              "      <td>2.43</td>\n",
              "    </tr>\n",
              "    <tr>\n",
              "      <th>1</th>\n",
              "      <td>0.21</td>\n",
              "      <td>Premium</td>\n",
              "      <td>E</td>\n",
              "      <td>SI1</td>\n",
              "      <td>59.8</td>\n",
              "      <td>61.0</td>\n",
              "      <td>326</td>\n",
              "      <td>3.89</td>\n",
              "      <td>3.84</td>\n",
              "      <td>2.31</td>\n",
              "    </tr>\n",
              "    <tr>\n",
              "      <th>2</th>\n",
              "      <td>0.23</td>\n",
              "      <td>Good</td>\n",
              "      <td>E</td>\n",
              "      <td>VS1</td>\n",
              "      <td>56.9</td>\n",
              "      <td>65.0</td>\n",
              "      <td>327</td>\n",
              "      <td>4.05</td>\n",
              "      <td>4.07</td>\n",
              "      <td>2.31</td>\n",
              "    </tr>\n",
              "    <tr>\n",
              "      <th>3</th>\n",
              "      <td>0.29</td>\n",
              "      <td>Premium</td>\n",
              "      <td>I</td>\n",
              "      <td>VS2</td>\n",
              "      <td>62.4</td>\n",
              "      <td>58.0</td>\n",
              "      <td>334</td>\n",
              "      <td>4.20</td>\n",
              "      <td>4.23</td>\n",
              "      <td>2.63</td>\n",
              "    </tr>\n",
              "    <tr>\n",
              "      <th>4</th>\n",
              "      <td>0.31</td>\n",
              "      <td>Good</td>\n",
              "      <td>J</td>\n",
              "      <td>SI2</td>\n",
              "      <td>63.3</td>\n",
              "      <td>58.0</td>\n",
              "      <td>335</td>\n",
              "      <td>4.34</td>\n",
              "      <td>4.35</td>\n",
              "      <td>2.75</td>\n",
              "    </tr>\n",
              "  </tbody>\n",
              "</table>\n",
              "</div>\n",
              "    <div class=\"colab-df-buttons\">\n",
              "\n",
              "  <div class=\"colab-df-container\">\n",
              "    <button class=\"colab-df-convert\" onclick=\"convertToInteractive('df-1d37bc15-99fd-484f-8a1b-82424243c3dd')\"\n",
              "            title=\"Convert this dataframe to an interactive table.\"\n",
              "            style=\"display:none;\">\n",
              "\n",
              "  <svg xmlns=\"http://www.w3.org/2000/svg\" height=\"24px\" viewBox=\"0 -960 960 960\">\n",
              "    <path d=\"M120-120v-720h720v720H120Zm60-500h600v-160H180v160Zm220 220h160v-160H400v160Zm0 220h160v-160H400v160ZM180-400h160v-160H180v160Zm440 0h160v-160H620v160ZM180-180h160v-160H180v160Zm440 0h160v-160H620v160Z\"/>\n",
              "  </svg>\n",
              "    </button>\n",
              "\n",
              "  <style>\n",
              "    .colab-df-container {\n",
              "      display:flex;\n",
              "      gap: 12px;\n",
              "    }\n",
              "\n",
              "    .colab-df-convert {\n",
              "      background-color: #E8F0FE;\n",
              "      border: none;\n",
              "      border-radius: 50%;\n",
              "      cursor: pointer;\n",
              "      display: none;\n",
              "      fill: #1967D2;\n",
              "      height: 32px;\n",
              "      padding: 0 0 0 0;\n",
              "      width: 32px;\n",
              "    }\n",
              "\n",
              "    .colab-df-convert:hover {\n",
              "      background-color: #E2EBFA;\n",
              "      box-shadow: 0px 1px 2px rgba(60, 64, 67, 0.3), 0px 1px 3px 1px rgba(60, 64, 67, 0.15);\n",
              "      fill: #174EA6;\n",
              "    }\n",
              "\n",
              "    .colab-df-buttons div {\n",
              "      margin-bottom: 4px;\n",
              "    }\n",
              "\n",
              "    [theme=dark] .colab-df-convert {\n",
              "      background-color: #3B4455;\n",
              "      fill: #D2E3FC;\n",
              "    }\n",
              "\n",
              "    [theme=dark] .colab-df-convert:hover {\n",
              "      background-color: #434B5C;\n",
              "      box-shadow: 0px 1px 3px 1px rgba(0, 0, 0, 0.15);\n",
              "      filter: drop-shadow(0px 1px 2px rgba(0, 0, 0, 0.3));\n",
              "      fill: #FFFFFF;\n",
              "    }\n",
              "  </style>\n",
              "\n",
              "    <script>\n",
              "      const buttonEl =\n",
              "        document.querySelector('#df-1d37bc15-99fd-484f-8a1b-82424243c3dd button.colab-df-convert');\n",
              "      buttonEl.style.display =\n",
              "        google.colab.kernel.accessAllowed ? 'block' : 'none';\n",
              "\n",
              "      async function convertToInteractive(key) {\n",
              "        const element = document.querySelector('#df-1d37bc15-99fd-484f-8a1b-82424243c3dd');\n",
              "        const dataTable =\n",
              "          await google.colab.kernel.invokeFunction('convertToInteractive',\n",
              "                                                    [key], {});\n",
              "        if (!dataTable) return;\n",
              "\n",
              "        const docLinkHtml = 'Like what you see? Visit the ' +\n",
              "          '<a target=\"_blank\" href=https://colab.research.google.com/notebooks/data_table.ipynb>data table notebook</a>'\n",
              "          + ' to learn more about interactive tables.';\n",
              "        element.innerHTML = '';\n",
              "        dataTable['output_type'] = 'display_data';\n",
              "        await google.colab.output.renderOutput(dataTable, element);\n",
              "        const docLink = document.createElement('div');\n",
              "        docLink.innerHTML = docLinkHtml;\n",
              "        element.appendChild(docLink);\n",
              "      }\n",
              "    </script>\n",
              "  </div>\n",
              "\n",
              "\n",
              "<div id=\"df-24068ef5-2f70-4748-88dd-9cab345e435d\">\n",
              "  <button class=\"colab-df-quickchart\" onclick=\"quickchart('df-24068ef5-2f70-4748-88dd-9cab345e435d')\"\n",
              "            title=\"Suggest charts\"\n",
              "            style=\"display:none;\">\n",
              "\n",
              "<svg xmlns=\"http://www.w3.org/2000/svg\" height=\"24px\"viewBox=\"0 0 24 24\"\n",
              "     width=\"24px\">\n",
              "    <g>\n",
              "        <path d=\"M19 3H5c-1.1 0-2 .9-2 2v14c0 1.1.9 2 2 2h14c1.1 0 2-.9 2-2V5c0-1.1-.9-2-2-2zM9 17H7v-7h2v7zm4 0h-2V7h2v10zm4 0h-2v-4h2v4z\"/>\n",
              "    </g>\n",
              "</svg>\n",
              "  </button>\n",
              "\n",
              "<style>\n",
              "  .colab-df-quickchart {\n",
              "      --bg-color: #E8F0FE;\n",
              "      --fill-color: #1967D2;\n",
              "      --hover-bg-color: #E2EBFA;\n",
              "      --hover-fill-color: #174EA6;\n",
              "      --disabled-fill-color: #AAA;\n",
              "      --disabled-bg-color: #DDD;\n",
              "  }\n",
              "\n",
              "  [theme=dark] .colab-df-quickchart {\n",
              "      --bg-color: #3B4455;\n",
              "      --fill-color: #D2E3FC;\n",
              "      --hover-bg-color: #434B5C;\n",
              "      --hover-fill-color: #FFFFFF;\n",
              "      --disabled-bg-color: #3B4455;\n",
              "      --disabled-fill-color: #666;\n",
              "  }\n",
              "\n",
              "  .colab-df-quickchart {\n",
              "    background-color: var(--bg-color);\n",
              "    border: none;\n",
              "    border-radius: 50%;\n",
              "    cursor: pointer;\n",
              "    display: none;\n",
              "    fill: var(--fill-color);\n",
              "    height: 32px;\n",
              "    padding: 0;\n",
              "    width: 32px;\n",
              "  }\n",
              "\n",
              "  .colab-df-quickchart:hover {\n",
              "    background-color: var(--hover-bg-color);\n",
              "    box-shadow: 0 1px 2px rgba(60, 64, 67, 0.3), 0 1px 3px 1px rgba(60, 64, 67, 0.15);\n",
              "    fill: var(--button-hover-fill-color);\n",
              "  }\n",
              "\n",
              "  .colab-df-quickchart-complete:disabled,\n",
              "  .colab-df-quickchart-complete:disabled:hover {\n",
              "    background-color: var(--disabled-bg-color);\n",
              "    fill: var(--disabled-fill-color);\n",
              "    box-shadow: none;\n",
              "  }\n",
              "\n",
              "  .colab-df-spinner {\n",
              "    border: 2px solid var(--fill-color);\n",
              "    border-color: transparent;\n",
              "    border-bottom-color: var(--fill-color);\n",
              "    animation:\n",
              "      spin 1s steps(1) infinite;\n",
              "  }\n",
              "\n",
              "  @keyframes spin {\n",
              "    0% {\n",
              "      border-color: transparent;\n",
              "      border-bottom-color: var(--fill-color);\n",
              "      border-left-color: var(--fill-color);\n",
              "    }\n",
              "    20% {\n",
              "      border-color: transparent;\n",
              "      border-left-color: var(--fill-color);\n",
              "      border-top-color: var(--fill-color);\n",
              "    }\n",
              "    30% {\n",
              "      border-color: transparent;\n",
              "      border-left-color: var(--fill-color);\n",
              "      border-top-color: var(--fill-color);\n",
              "      border-right-color: var(--fill-color);\n",
              "    }\n",
              "    40% {\n",
              "      border-color: transparent;\n",
              "      border-right-color: var(--fill-color);\n",
              "      border-top-color: var(--fill-color);\n",
              "    }\n",
              "    60% {\n",
              "      border-color: transparent;\n",
              "      border-right-color: var(--fill-color);\n",
              "    }\n",
              "    80% {\n",
              "      border-color: transparent;\n",
              "      border-right-color: var(--fill-color);\n",
              "      border-bottom-color: var(--fill-color);\n",
              "    }\n",
              "    90% {\n",
              "      border-color: transparent;\n",
              "      border-bottom-color: var(--fill-color);\n",
              "    }\n",
              "  }\n",
              "</style>\n",
              "\n",
              "  <script>\n",
              "    async function quickchart(key) {\n",
              "      const quickchartButtonEl =\n",
              "        document.querySelector('#' + key + ' button');\n",
              "      quickchartButtonEl.disabled = true;  // To prevent multiple clicks.\n",
              "      quickchartButtonEl.classList.add('colab-df-spinner');\n",
              "      try {\n",
              "        const charts = await google.colab.kernel.invokeFunction(\n",
              "            'suggestCharts', [key], {});\n",
              "      } catch (error) {\n",
              "        console.error('Error during call to suggestCharts:', error);\n",
              "      }\n",
              "      quickchartButtonEl.classList.remove('colab-df-spinner');\n",
              "      quickchartButtonEl.classList.add('colab-df-quickchart-complete');\n",
              "    }\n",
              "    (() => {\n",
              "      let quickchartButtonEl =\n",
              "        document.querySelector('#df-24068ef5-2f70-4748-88dd-9cab345e435d button');\n",
              "      quickchartButtonEl.style.display =\n",
              "        google.colab.kernel.accessAllowed ? 'block' : 'none';\n",
              "    })();\n",
              "  </script>\n",
              "</div>\n",
              "    </div>\n",
              "  </div>\n"
            ]
          },
          "metadata": {},
          "execution_count": 9
        }
      ],
      "source": [
        "#Ver los primeros 5 registros del dataset\n",
        "data.head()"
      ]
    },
    {
      "cell_type": "code",
      "execution_count": null,
      "metadata": {
        "id": "GWJBdQMBSLa0",
        "colab": {
          "base_uri": "https://localhost:8080/"
        },
        "outputId": "d2d39ec8-3a70-43b7-ca30-bff4d6661e6b"
      },
      "outputs": [
        {
          "output_type": "execute_result",
          "data": {
            "text/plain": [
              "(53940, 10)"
            ]
          },
          "metadata": {},
          "execution_count": 10
        }
      ],
      "source": [
        "#Tamaño del dataset\n",
        "data.shape"
      ]
    },
    {
      "cell_type": "code",
      "execution_count": null,
      "metadata": {
        "id": "zk6r1CW5SN63",
        "colab": {
          "base_uri": "https://localhost:8080/"
        },
        "outputId": "0f142902-67f6-4b9c-f2ed-f6d73905648f"
      },
      "outputs": [
        {
          "output_type": "execute_result",
          "data": {
            "text/plain": [
              "carat      float64\n",
              "cut         object\n",
              "color       object\n",
              "clarity     object\n",
              "depth      float64\n",
              "table      float64\n",
              "price        int64\n",
              "x          float64\n",
              "y          float64\n",
              "z          float64\n",
              "dtype: object"
            ]
          },
          "metadata": {},
          "execution_count": 11
        }
      ],
      "source": [
        "#Tipos de datos\n",
        "data.dtypes"
      ]
    },
    {
      "cell_type": "code",
      "execution_count": null,
      "metadata": {
        "id": "PRjCeIz6SO-g",
        "colab": {
          "base_uri": "https://localhost:8080/"
        },
        "outputId": "e85b47bf-6ed7-4c6f-b89d-04406d33e1b2"
      },
      "outputs": [
        {
          "output_type": "execute_result",
          "data": {
            "text/plain": [
              "Index(['carat', 'cut', 'color', 'clarity', 'depth', 'table', 'price', 'x', 'y',\n",
              "       'z'],\n",
              "      dtype='object')"
            ]
          },
          "metadata": {},
          "execution_count": 12
        }
      ],
      "source": [
        "#Nombres de las columnas\n",
        "data.columns"
      ]
    },
    {
      "cell_type": "code",
      "execution_count": null,
      "metadata": {
        "id": "sBOYeiNy8wLU",
        "colab": {
          "base_uri": "https://localhost:8080/",
          "height": 320
        },
        "outputId": "dfb24480-cf12-41a5-c2c8-d2e922596c5d"
      },
      "outputs": [
        {
          "output_type": "execute_result",
          "data": {
            "text/plain": [
              "              carat         depth         table         price             x  \\\n",
              "count  53940.000000  53940.000000  53940.000000  53940.000000  53940.000000   \n",
              "mean       0.797940     61.749405     57.457184   3932.799722      5.731157   \n",
              "std        0.474011      1.432621      2.234491   3989.439738      1.121761   \n",
              "min        0.200000     43.000000     43.000000    326.000000      0.000000   \n",
              "25%        0.400000     61.000000     56.000000    950.000000      4.710000   \n",
              "50%        0.700000     61.800000     57.000000   2401.000000      5.700000   \n",
              "75%        1.040000     62.500000     59.000000   5324.250000      6.540000   \n",
              "max        5.010000     79.000000     95.000000  18823.000000     10.740000   \n",
              "\n",
              "                  y             z  \n",
              "count  53940.000000  53940.000000  \n",
              "mean       5.734526      3.538734  \n",
              "std        1.142135      0.705699  \n",
              "min        0.000000      0.000000  \n",
              "25%        4.720000      2.910000  \n",
              "50%        5.710000      3.530000  \n",
              "75%        6.540000      4.040000  \n",
              "max       58.900000     31.800000  "
            ],
            "text/html": [
              "\n",
              "  <div id=\"df-60f17391-e0a7-4696-94dd-6de24090a7e8\" class=\"colab-df-container\">\n",
              "    <div>\n",
              "<style scoped>\n",
              "    .dataframe tbody tr th:only-of-type {\n",
              "        vertical-align: middle;\n",
              "    }\n",
              "\n",
              "    .dataframe tbody tr th {\n",
              "        vertical-align: top;\n",
              "    }\n",
              "\n",
              "    .dataframe thead th {\n",
              "        text-align: right;\n",
              "    }\n",
              "</style>\n",
              "<table border=\"1\" class=\"dataframe\">\n",
              "  <thead>\n",
              "    <tr style=\"text-align: right;\">\n",
              "      <th></th>\n",
              "      <th>carat</th>\n",
              "      <th>depth</th>\n",
              "      <th>table</th>\n",
              "      <th>price</th>\n",
              "      <th>x</th>\n",
              "      <th>y</th>\n",
              "      <th>z</th>\n",
              "    </tr>\n",
              "  </thead>\n",
              "  <tbody>\n",
              "    <tr>\n",
              "      <th>count</th>\n",
              "      <td>53940.000000</td>\n",
              "      <td>53940.000000</td>\n",
              "      <td>53940.000000</td>\n",
              "      <td>53940.000000</td>\n",
              "      <td>53940.000000</td>\n",
              "      <td>53940.000000</td>\n",
              "      <td>53940.000000</td>\n",
              "    </tr>\n",
              "    <tr>\n",
              "      <th>mean</th>\n",
              "      <td>0.797940</td>\n",
              "      <td>61.749405</td>\n",
              "      <td>57.457184</td>\n",
              "      <td>3932.799722</td>\n",
              "      <td>5.731157</td>\n",
              "      <td>5.734526</td>\n",
              "      <td>3.538734</td>\n",
              "    </tr>\n",
              "    <tr>\n",
              "      <th>std</th>\n",
              "      <td>0.474011</td>\n",
              "      <td>1.432621</td>\n",
              "      <td>2.234491</td>\n",
              "      <td>3989.439738</td>\n",
              "      <td>1.121761</td>\n",
              "      <td>1.142135</td>\n",
              "      <td>0.705699</td>\n",
              "    </tr>\n",
              "    <tr>\n",
              "      <th>min</th>\n",
              "      <td>0.200000</td>\n",
              "      <td>43.000000</td>\n",
              "      <td>43.000000</td>\n",
              "      <td>326.000000</td>\n",
              "      <td>0.000000</td>\n",
              "      <td>0.000000</td>\n",
              "      <td>0.000000</td>\n",
              "    </tr>\n",
              "    <tr>\n",
              "      <th>25%</th>\n",
              "      <td>0.400000</td>\n",
              "      <td>61.000000</td>\n",
              "      <td>56.000000</td>\n",
              "      <td>950.000000</td>\n",
              "      <td>4.710000</td>\n",
              "      <td>4.720000</td>\n",
              "      <td>2.910000</td>\n",
              "    </tr>\n",
              "    <tr>\n",
              "      <th>50%</th>\n",
              "      <td>0.700000</td>\n",
              "      <td>61.800000</td>\n",
              "      <td>57.000000</td>\n",
              "      <td>2401.000000</td>\n",
              "      <td>5.700000</td>\n",
              "      <td>5.710000</td>\n",
              "      <td>3.530000</td>\n",
              "    </tr>\n",
              "    <tr>\n",
              "      <th>75%</th>\n",
              "      <td>1.040000</td>\n",
              "      <td>62.500000</td>\n",
              "      <td>59.000000</td>\n",
              "      <td>5324.250000</td>\n",
              "      <td>6.540000</td>\n",
              "      <td>6.540000</td>\n",
              "      <td>4.040000</td>\n",
              "    </tr>\n",
              "    <tr>\n",
              "      <th>max</th>\n",
              "      <td>5.010000</td>\n",
              "      <td>79.000000</td>\n",
              "      <td>95.000000</td>\n",
              "      <td>18823.000000</td>\n",
              "      <td>10.740000</td>\n",
              "      <td>58.900000</td>\n",
              "      <td>31.800000</td>\n",
              "    </tr>\n",
              "  </tbody>\n",
              "</table>\n",
              "</div>\n",
              "    <div class=\"colab-df-buttons\">\n",
              "\n",
              "  <div class=\"colab-df-container\">\n",
              "    <button class=\"colab-df-convert\" onclick=\"convertToInteractive('df-60f17391-e0a7-4696-94dd-6de24090a7e8')\"\n",
              "            title=\"Convert this dataframe to an interactive table.\"\n",
              "            style=\"display:none;\">\n",
              "\n",
              "  <svg xmlns=\"http://www.w3.org/2000/svg\" height=\"24px\" viewBox=\"0 -960 960 960\">\n",
              "    <path d=\"M120-120v-720h720v720H120Zm60-500h600v-160H180v160Zm220 220h160v-160H400v160Zm0 220h160v-160H400v160ZM180-400h160v-160H180v160Zm440 0h160v-160H620v160ZM180-180h160v-160H180v160Zm440 0h160v-160H620v160Z\"/>\n",
              "  </svg>\n",
              "    </button>\n",
              "\n",
              "  <style>\n",
              "    .colab-df-container {\n",
              "      display:flex;\n",
              "      gap: 12px;\n",
              "    }\n",
              "\n",
              "    .colab-df-convert {\n",
              "      background-color: #E8F0FE;\n",
              "      border: none;\n",
              "      border-radius: 50%;\n",
              "      cursor: pointer;\n",
              "      display: none;\n",
              "      fill: #1967D2;\n",
              "      height: 32px;\n",
              "      padding: 0 0 0 0;\n",
              "      width: 32px;\n",
              "    }\n",
              "\n",
              "    .colab-df-convert:hover {\n",
              "      background-color: #E2EBFA;\n",
              "      box-shadow: 0px 1px 2px rgba(60, 64, 67, 0.3), 0px 1px 3px 1px rgba(60, 64, 67, 0.15);\n",
              "      fill: #174EA6;\n",
              "    }\n",
              "\n",
              "    .colab-df-buttons div {\n",
              "      margin-bottom: 4px;\n",
              "    }\n",
              "\n",
              "    [theme=dark] .colab-df-convert {\n",
              "      background-color: #3B4455;\n",
              "      fill: #D2E3FC;\n",
              "    }\n",
              "\n",
              "    [theme=dark] .colab-df-convert:hover {\n",
              "      background-color: #434B5C;\n",
              "      box-shadow: 0px 1px 3px 1px rgba(0, 0, 0, 0.15);\n",
              "      filter: drop-shadow(0px 1px 2px rgba(0, 0, 0, 0.3));\n",
              "      fill: #FFFFFF;\n",
              "    }\n",
              "  </style>\n",
              "\n",
              "    <script>\n",
              "      const buttonEl =\n",
              "        document.querySelector('#df-60f17391-e0a7-4696-94dd-6de24090a7e8 button.colab-df-convert');\n",
              "      buttonEl.style.display =\n",
              "        google.colab.kernel.accessAllowed ? 'block' : 'none';\n",
              "\n",
              "      async function convertToInteractive(key) {\n",
              "        const element = document.querySelector('#df-60f17391-e0a7-4696-94dd-6de24090a7e8');\n",
              "        const dataTable =\n",
              "          await google.colab.kernel.invokeFunction('convertToInteractive',\n",
              "                                                    [key], {});\n",
              "        if (!dataTable) return;\n",
              "\n",
              "        const docLinkHtml = 'Like what you see? Visit the ' +\n",
              "          '<a target=\"_blank\" href=https://colab.research.google.com/notebooks/data_table.ipynb>data table notebook</a>'\n",
              "          + ' to learn more about interactive tables.';\n",
              "        element.innerHTML = '';\n",
              "        dataTable['output_type'] = 'display_data';\n",
              "        await google.colab.output.renderOutput(dataTable, element);\n",
              "        const docLink = document.createElement('div');\n",
              "        docLink.innerHTML = docLinkHtml;\n",
              "        element.appendChild(docLink);\n",
              "      }\n",
              "    </script>\n",
              "  </div>\n",
              "\n",
              "\n",
              "<div id=\"df-ee117815-112a-4102-8858-69fb5d73dc5e\">\n",
              "  <button class=\"colab-df-quickchart\" onclick=\"quickchart('df-ee117815-112a-4102-8858-69fb5d73dc5e')\"\n",
              "            title=\"Suggest charts\"\n",
              "            style=\"display:none;\">\n",
              "\n",
              "<svg xmlns=\"http://www.w3.org/2000/svg\" height=\"24px\"viewBox=\"0 0 24 24\"\n",
              "     width=\"24px\">\n",
              "    <g>\n",
              "        <path d=\"M19 3H5c-1.1 0-2 .9-2 2v14c0 1.1.9 2 2 2h14c1.1 0 2-.9 2-2V5c0-1.1-.9-2-2-2zM9 17H7v-7h2v7zm4 0h-2V7h2v10zm4 0h-2v-4h2v4z\"/>\n",
              "    </g>\n",
              "</svg>\n",
              "  </button>\n",
              "\n",
              "<style>\n",
              "  .colab-df-quickchart {\n",
              "      --bg-color: #E8F0FE;\n",
              "      --fill-color: #1967D2;\n",
              "      --hover-bg-color: #E2EBFA;\n",
              "      --hover-fill-color: #174EA6;\n",
              "      --disabled-fill-color: #AAA;\n",
              "      --disabled-bg-color: #DDD;\n",
              "  }\n",
              "\n",
              "  [theme=dark] .colab-df-quickchart {\n",
              "      --bg-color: #3B4455;\n",
              "      --fill-color: #D2E3FC;\n",
              "      --hover-bg-color: #434B5C;\n",
              "      --hover-fill-color: #FFFFFF;\n",
              "      --disabled-bg-color: #3B4455;\n",
              "      --disabled-fill-color: #666;\n",
              "  }\n",
              "\n",
              "  .colab-df-quickchart {\n",
              "    background-color: var(--bg-color);\n",
              "    border: none;\n",
              "    border-radius: 50%;\n",
              "    cursor: pointer;\n",
              "    display: none;\n",
              "    fill: var(--fill-color);\n",
              "    height: 32px;\n",
              "    padding: 0;\n",
              "    width: 32px;\n",
              "  }\n",
              "\n",
              "  .colab-df-quickchart:hover {\n",
              "    background-color: var(--hover-bg-color);\n",
              "    box-shadow: 0 1px 2px rgba(60, 64, 67, 0.3), 0 1px 3px 1px rgba(60, 64, 67, 0.15);\n",
              "    fill: var(--button-hover-fill-color);\n",
              "  }\n",
              "\n",
              "  .colab-df-quickchart-complete:disabled,\n",
              "  .colab-df-quickchart-complete:disabled:hover {\n",
              "    background-color: var(--disabled-bg-color);\n",
              "    fill: var(--disabled-fill-color);\n",
              "    box-shadow: none;\n",
              "  }\n",
              "\n",
              "  .colab-df-spinner {\n",
              "    border: 2px solid var(--fill-color);\n",
              "    border-color: transparent;\n",
              "    border-bottom-color: var(--fill-color);\n",
              "    animation:\n",
              "      spin 1s steps(1) infinite;\n",
              "  }\n",
              "\n",
              "  @keyframes spin {\n",
              "    0% {\n",
              "      border-color: transparent;\n",
              "      border-bottom-color: var(--fill-color);\n",
              "      border-left-color: var(--fill-color);\n",
              "    }\n",
              "    20% {\n",
              "      border-color: transparent;\n",
              "      border-left-color: var(--fill-color);\n",
              "      border-top-color: var(--fill-color);\n",
              "    }\n",
              "    30% {\n",
              "      border-color: transparent;\n",
              "      border-left-color: var(--fill-color);\n",
              "      border-top-color: var(--fill-color);\n",
              "      border-right-color: var(--fill-color);\n",
              "    }\n",
              "    40% {\n",
              "      border-color: transparent;\n",
              "      border-right-color: var(--fill-color);\n",
              "      border-top-color: var(--fill-color);\n",
              "    }\n",
              "    60% {\n",
              "      border-color: transparent;\n",
              "      border-right-color: var(--fill-color);\n",
              "    }\n",
              "    80% {\n",
              "      border-color: transparent;\n",
              "      border-right-color: var(--fill-color);\n",
              "      border-bottom-color: var(--fill-color);\n",
              "    }\n",
              "    90% {\n",
              "      border-color: transparent;\n",
              "      border-bottom-color: var(--fill-color);\n",
              "    }\n",
              "  }\n",
              "</style>\n",
              "\n",
              "  <script>\n",
              "    async function quickchart(key) {\n",
              "      const quickchartButtonEl =\n",
              "        document.querySelector('#' + key + ' button');\n",
              "      quickchartButtonEl.disabled = true;  // To prevent multiple clicks.\n",
              "      quickchartButtonEl.classList.add('colab-df-spinner');\n",
              "      try {\n",
              "        const charts = await google.colab.kernel.invokeFunction(\n",
              "            'suggestCharts', [key], {});\n",
              "      } catch (error) {\n",
              "        console.error('Error during call to suggestCharts:', error);\n",
              "      }\n",
              "      quickchartButtonEl.classList.remove('colab-df-spinner');\n",
              "      quickchartButtonEl.classList.add('colab-df-quickchart-complete');\n",
              "    }\n",
              "    (() => {\n",
              "      let quickchartButtonEl =\n",
              "        document.querySelector('#df-ee117815-112a-4102-8858-69fb5d73dc5e button');\n",
              "      quickchartButtonEl.style.display =\n",
              "        google.colab.kernel.accessAllowed ? 'block' : 'none';\n",
              "    })();\n",
              "  </script>\n",
              "</div>\n",
              "    </div>\n",
              "  </div>\n"
            ]
          },
          "metadata": {},
          "execution_count": 13
        }
      ],
      "source": [
        "data.describe()"
      ]
    },
    {
      "cell_type": "code",
      "execution_count": null,
      "metadata": {
        "id": "Nkdvu_BT8yoE",
        "colab": {
          "base_uri": "https://localhost:8080/",
          "height": 324
        },
        "outputId": "93f00a18-45a1-42bf-9d2a-2d36780866e3"
      },
      "outputs": [
        {
          "output_type": "stream",
          "name": "stderr",
          "text": [
            "<ipython-input-14-c44ded798807>:1: FutureWarning: The default value of numeric_only in DataFrame.corr is deprecated. In a future version, it will default to False. Select only valid columns or specify the value of numeric_only to silence this warning.\n",
            "  data.corr()\n"
          ]
        },
        {
          "output_type": "execute_result",
          "data": {
            "text/plain": [
              "          carat     depth     table     price         x         y         z\n",
              "carat  1.000000  0.028224  0.181618  0.921591  0.975094  0.951722  0.953387\n",
              "depth  0.028224  1.000000 -0.295779 -0.010647 -0.025289 -0.029341  0.094924\n",
              "table  0.181618 -0.295779  1.000000  0.127134  0.195344  0.183760  0.150929\n",
              "price  0.921591 -0.010647  0.127134  1.000000  0.884435  0.865421  0.861249\n",
              "x      0.975094 -0.025289  0.195344  0.884435  1.000000  0.974701  0.970772\n",
              "y      0.951722 -0.029341  0.183760  0.865421  0.974701  1.000000  0.952006\n",
              "z      0.953387  0.094924  0.150929  0.861249  0.970772  0.952006  1.000000"
            ],
            "text/html": [
              "\n",
              "  <div id=\"df-90d4a5ca-e881-4f22-9e1b-2735cb36e234\" class=\"colab-df-container\">\n",
              "    <div>\n",
              "<style scoped>\n",
              "    .dataframe tbody tr th:only-of-type {\n",
              "        vertical-align: middle;\n",
              "    }\n",
              "\n",
              "    .dataframe tbody tr th {\n",
              "        vertical-align: top;\n",
              "    }\n",
              "\n",
              "    .dataframe thead th {\n",
              "        text-align: right;\n",
              "    }\n",
              "</style>\n",
              "<table border=\"1\" class=\"dataframe\">\n",
              "  <thead>\n",
              "    <tr style=\"text-align: right;\">\n",
              "      <th></th>\n",
              "      <th>carat</th>\n",
              "      <th>depth</th>\n",
              "      <th>table</th>\n",
              "      <th>price</th>\n",
              "      <th>x</th>\n",
              "      <th>y</th>\n",
              "      <th>z</th>\n",
              "    </tr>\n",
              "  </thead>\n",
              "  <tbody>\n",
              "    <tr>\n",
              "      <th>carat</th>\n",
              "      <td>1.000000</td>\n",
              "      <td>0.028224</td>\n",
              "      <td>0.181618</td>\n",
              "      <td>0.921591</td>\n",
              "      <td>0.975094</td>\n",
              "      <td>0.951722</td>\n",
              "      <td>0.953387</td>\n",
              "    </tr>\n",
              "    <tr>\n",
              "      <th>depth</th>\n",
              "      <td>0.028224</td>\n",
              "      <td>1.000000</td>\n",
              "      <td>-0.295779</td>\n",
              "      <td>-0.010647</td>\n",
              "      <td>-0.025289</td>\n",
              "      <td>-0.029341</td>\n",
              "      <td>0.094924</td>\n",
              "    </tr>\n",
              "    <tr>\n",
              "      <th>table</th>\n",
              "      <td>0.181618</td>\n",
              "      <td>-0.295779</td>\n",
              "      <td>1.000000</td>\n",
              "      <td>0.127134</td>\n",
              "      <td>0.195344</td>\n",
              "      <td>0.183760</td>\n",
              "      <td>0.150929</td>\n",
              "    </tr>\n",
              "    <tr>\n",
              "      <th>price</th>\n",
              "      <td>0.921591</td>\n",
              "      <td>-0.010647</td>\n",
              "      <td>0.127134</td>\n",
              "      <td>1.000000</td>\n",
              "      <td>0.884435</td>\n",
              "      <td>0.865421</td>\n",
              "      <td>0.861249</td>\n",
              "    </tr>\n",
              "    <tr>\n",
              "      <th>x</th>\n",
              "      <td>0.975094</td>\n",
              "      <td>-0.025289</td>\n",
              "      <td>0.195344</td>\n",
              "      <td>0.884435</td>\n",
              "      <td>1.000000</td>\n",
              "      <td>0.974701</td>\n",
              "      <td>0.970772</td>\n",
              "    </tr>\n",
              "    <tr>\n",
              "      <th>y</th>\n",
              "      <td>0.951722</td>\n",
              "      <td>-0.029341</td>\n",
              "      <td>0.183760</td>\n",
              "      <td>0.865421</td>\n",
              "      <td>0.974701</td>\n",
              "      <td>1.000000</td>\n",
              "      <td>0.952006</td>\n",
              "    </tr>\n",
              "    <tr>\n",
              "      <th>z</th>\n",
              "      <td>0.953387</td>\n",
              "      <td>0.094924</td>\n",
              "      <td>0.150929</td>\n",
              "      <td>0.861249</td>\n",
              "      <td>0.970772</td>\n",
              "      <td>0.952006</td>\n",
              "      <td>1.000000</td>\n",
              "    </tr>\n",
              "  </tbody>\n",
              "</table>\n",
              "</div>\n",
              "    <div class=\"colab-df-buttons\">\n",
              "\n",
              "  <div class=\"colab-df-container\">\n",
              "    <button class=\"colab-df-convert\" onclick=\"convertToInteractive('df-90d4a5ca-e881-4f22-9e1b-2735cb36e234')\"\n",
              "            title=\"Convert this dataframe to an interactive table.\"\n",
              "            style=\"display:none;\">\n",
              "\n",
              "  <svg xmlns=\"http://www.w3.org/2000/svg\" height=\"24px\" viewBox=\"0 -960 960 960\">\n",
              "    <path d=\"M120-120v-720h720v720H120Zm60-500h600v-160H180v160Zm220 220h160v-160H400v160Zm0 220h160v-160H400v160ZM180-400h160v-160H180v160Zm440 0h160v-160H620v160ZM180-180h160v-160H180v160Zm440 0h160v-160H620v160Z\"/>\n",
              "  </svg>\n",
              "    </button>\n",
              "\n",
              "  <style>\n",
              "    .colab-df-container {\n",
              "      display:flex;\n",
              "      gap: 12px;\n",
              "    }\n",
              "\n",
              "    .colab-df-convert {\n",
              "      background-color: #E8F0FE;\n",
              "      border: none;\n",
              "      border-radius: 50%;\n",
              "      cursor: pointer;\n",
              "      display: none;\n",
              "      fill: #1967D2;\n",
              "      height: 32px;\n",
              "      padding: 0 0 0 0;\n",
              "      width: 32px;\n",
              "    }\n",
              "\n",
              "    .colab-df-convert:hover {\n",
              "      background-color: #E2EBFA;\n",
              "      box-shadow: 0px 1px 2px rgba(60, 64, 67, 0.3), 0px 1px 3px 1px rgba(60, 64, 67, 0.15);\n",
              "      fill: #174EA6;\n",
              "    }\n",
              "\n",
              "    .colab-df-buttons div {\n",
              "      margin-bottom: 4px;\n",
              "    }\n",
              "\n",
              "    [theme=dark] .colab-df-convert {\n",
              "      background-color: #3B4455;\n",
              "      fill: #D2E3FC;\n",
              "    }\n",
              "\n",
              "    [theme=dark] .colab-df-convert:hover {\n",
              "      background-color: #434B5C;\n",
              "      box-shadow: 0px 1px 3px 1px rgba(0, 0, 0, 0.15);\n",
              "      filter: drop-shadow(0px 1px 2px rgba(0, 0, 0, 0.3));\n",
              "      fill: #FFFFFF;\n",
              "    }\n",
              "  </style>\n",
              "\n",
              "    <script>\n",
              "      const buttonEl =\n",
              "        document.querySelector('#df-90d4a5ca-e881-4f22-9e1b-2735cb36e234 button.colab-df-convert');\n",
              "      buttonEl.style.display =\n",
              "        google.colab.kernel.accessAllowed ? 'block' : 'none';\n",
              "\n",
              "      async function convertToInteractive(key) {\n",
              "        const element = document.querySelector('#df-90d4a5ca-e881-4f22-9e1b-2735cb36e234');\n",
              "        const dataTable =\n",
              "          await google.colab.kernel.invokeFunction('convertToInteractive',\n",
              "                                                    [key], {});\n",
              "        if (!dataTable) return;\n",
              "\n",
              "        const docLinkHtml = 'Like what you see? Visit the ' +\n",
              "          '<a target=\"_blank\" href=https://colab.research.google.com/notebooks/data_table.ipynb>data table notebook</a>'\n",
              "          + ' to learn more about interactive tables.';\n",
              "        element.innerHTML = '';\n",
              "        dataTable['output_type'] = 'display_data';\n",
              "        await google.colab.output.renderOutput(dataTable, element);\n",
              "        const docLink = document.createElement('div');\n",
              "        docLink.innerHTML = docLinkHtml;\n",
              "        element.appendChild(docLink);\n",
              "      }\n",
              "    </script>\n",
              "  </div>\n",
              "\n",
              "\n",
              "<div id=\"df-42bf32ea-4013-4b5a-999d-aaaeefda3dbe\">\n",
              "  <button class=\"colab-df-quickchart\" onclick=\"quickchart('df-42bf32ea-4013-4b5a-999d-aaaeefda3dbe')\"\n",
              "            title=\"Suggest charts\"\n",
              "            style=\"display:none;\">\n",
              "\n",
              "<svg xmlns=\"http://www.w3.org/2000/svg\" height=\"24px\"viewBox=\"0 0 24 24\"\n",
              "     width=\"24px\">\n",
              "    <g>\n",
              "        <path d=\"M19 3H5c-1.1 0-2 .9-2 2v14c0 1.1.9 2 2 2h14c1.1 0 2-.9 2-2V5c0-1.1-.9-2-2-2zM9 17H7v-7h2v7zm4 0h-2V7h2v10zm4 0h-2v-4h2v4z\"/>\n",
              "    </g>\n",
              "</svg>\n",
              "  </button>\n",
              "\n",
              "<style>\n",
              "  .colab-df-quickchart {\n",
              "      --bg-color: #E8F0FE;\n",
              "      --fill-color: #1967D2;\n",
              "      --hover-bg-color: #E2EBFA;\n",
              "      --hover-fill-color: #174EA6;\n",
              "      --disabled-fill-color: #AAA;\n",
              "      --disabled-bg-color: #DDD;\n",
              "  }\n",
              "\n",
              "  [theme=dark] .colab-df-quickchart {\n",
              "      --bg-color: #3B4455;\n",
              "      --fill-color: #D2E3FC;\n",
              "      --hover-bg-color: #434B5C;\n",
              "      --hover-fill-color: #FFFFFF;\n",
              "      --disabled-bg-color: #3B4455;\n",
              "      --disabled-fill-color: #666;\n",
              "  }\n",
              "\n",
              "  .colab-df-quickchart {\n",
              "    background-color: var(--bg-color);\n",
              "    border: none;\n",
              "    border-radius: 50%;\n",
              "    cursor: pointer;\n",
              "    display: none;\n",
              "    fill: var(--fill-color);\n",
              "    height: 32px;\n",
              "    padding: 0;\n",
              "    width: 32px;\n",
              "  }\n",
              "\n",
              "  .colab-df-quickchart:hover {\n",
              "    background-color: var(--hover-bg-color);\n",
              "    box-shadow: 0 1px 2px rgba(60, 64, 67, 0.3), 0 1px 3px 1px rgba(60, 64, 67, 0.15);\n",
              "    fill: var(--button-hover-fill-color);\n",
              "  }\n",
              "\n",
              "  .colab-df-quickchart-complete:disabled,\n",
              "  .colab-df-quickchart-complete:disabled:hover {\n",
              "    background-color: var(--disabled-bg-color);\n",
              "    fill: var(--disabled-fill-color);\n",
              "    box-shadow: none;\n",
              "  }\n",
              "\n",
              "  .colab-df-spinner {\n",
              "    border: 2px solid var(--fill-color);\n",
              "    border-color: transparent;\n",
              "    border-bottom-color: var(--fill-color);\n",
              "    animation:\n",
              "      spin 1s steps(1) infinite;\n",
              "  }\n",
              "\n",
              "  @keyframes spin {\n",
              "    0% {\n",
              "      border-color: transparent;\n",
              "      border-bottom-color: var(--fill-color);\n",
              "      border-left-color: var(--fill-color);\n",
              "    }\n",
              "    20% {\n",
              "      border-color: transparent;\n",
              "      border-left-color: var(--fill-color);\n",
              "      border-top-color: var(--fill-color);\n",
              "    }\n",
              "    30% {\n",
              "      border-color: transparent;\n",
              "      border-left-color: var(--fill-color);\n",
              "      border-top-color: var(--fill-color);\n",
              "      border-right-color: var(--fill-color);\n",
              "    }\n",
              "    40% {\n",
              "      border-color: transparent;\n",
              "      border-right-color: var(--fill-color);\n",
              "      border-top-color: var(--fill-color);\n",
              "    }\n",
              "    60% {\n",
              "      border-color: transparent;\n",
              "      border-right-color: var(--fill-color);\n",
              "    }\n",
              "    80% {\n",
              "      border-color: transparent;\n",
              "      border-right-color: var(--fill-color);\n",
              "      border-bottom-color: var(--fill-color);\n",
              "    }\n",
              "    90% {\n",
              "      border-color: transparent;\n",
              "      border-bottom-color: var(--fill-color);\n",
              "    }\n",
              "  }\n",
              "</style>\n",
              "\n",
              "  <script>\n",
              "    async function quickchart(key) {\n",
              "      const quickchartButtonEl =\n",
              "        document.querySelector('#' + key + ' button');\n",
              "      quickchartButtonEl.disabled = true;  // To prevent multiple clicks.\n",
              "      quickchartButtonEl.classList.add('colab-df-spinner');\n",
              "      try {\n",
              "        const charts = await google.colab.kernel.invokeFunction(\n",
              "            'suggestCharts', [key], {});\n",
              "      } catch (error) {\n",
              "        console.error('Error during call to suggestCharts:', error);\n",
              "      }\n",
              "      quickchartButtonEl.classList.remove('colab-df-spinner');\n",
              "      quickchartButtonEl.classList.add('colab-df-quickchart-complete');\n",
              "    }\n",
              "    (() => {\n",
              "      let quickchartButtonEl =\n",
              "        document.querySelector('#df-42bf32ea-4013-4b5a-999d-aaaeefda3dbe button');\n",
              "      quickchartButtonEl.style.display =\n",
              "        google.colab.kernel.accessAllowed ? 'block' : 'none';\n",
              "    })();\n",
              "  </script>\n",
              "</div>\n",
              "    </div>\n",
              "  </div>\n"
            ]
          },
          "metadata": {},
          "execution_count": 14
        }
      ],
      "source": [
        "data.corr()"
      ]
    },
    {
      "cell_type": "code",
      "execution_count": null,
      "metadata": {
        "id": "w5CXpRyf-fGu",
        "colab": {
          "base_uri": "https://localhost:8080/"
        },
        "outputId": "e50a7790-e431-4949-e555-9e044c5ebfa4"
      },
      "outputs": [
        {
          "output_type": "execute_result",
          "data": {
            "text/plain": [
              "G    11292\n",
              "E     9797\n",
              "F     9542\n",
              "H     8304\n",
              "D     6775\n",
              "I     5422\n",
              "J     2808\n",
              "Name: color, dtype: int64"
            ]
          },
          "metadata": {},
          "execution_count": 15
        }
      ],
      "source": [
        "data[\"color\"].value_counts()"
      ]
    },
    {
      "cell_type": "code",
      "execution_count": null,
      "metadata": {
        "id": "LFQhzv8YSV8V",
        "colab": {
          "base_uri": "https://localhost:8080/"
        },
        "outputId": "a1f25a3d-9cef-4e9e-e8c5-de65f7c6eced"
      },
      "outputs": [
        {
          "output_type": "execute_result",
          "data": {
            "text/plain": [
              "3932.799721913237"
            ]
          },
          "metadata": {},
          "execution_count": 16
        }
      ],
      "source": [
        "data[\"price\"].mean()"
      ]
    },
    {
      "cell_type": "code",
      "source": [
        "data[\"cut\"].value_counts()"
      ],
      "metadata": {
        "colab": {
          "base_uri": "https://localhost:8080/"
        },
        "id": "CQ6qbLTI_fJo",
        "outputId": "15943496-91f5-4632-a692-999c5322166f"
      },
      "execution_count": null,
      "outputs": [
        {
          "output_type": "execute_result",
          "data": {
            "text/plain": [
              "Ideal        21551\n",
              "Premium      13791\n",
              "Very Good    12082\n",
              "Good          4906\n",
              "Fair          1610\n",
              "Name: cut, dtype: int64"
            ]
          },
          "metadata": {},
          "execution_count": 17
        }
      ]
    },
    {
      "cell_type": "markdown",
      "metadata": {
        "id": "8dNb3tFpAxJ2"
      },
      "source": [
        "![Captura.PNG](data:image/png;base64,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)\n"
      ]
    },
    {
      "cell_type": "markdown",
      "metadata": {
        "id": "ze7rRGUKCjWP"
      },
      "source": [
        "De la D a la F son sin color, del G al J son casi sin color, color tenue"
      ]
    },
    {
      "cell_type": "code",
      "execution_count": null,
      "metadata": {
        "id": "dsB7czGh-qq-",
        "colab": {
          "base_uri": "https://localhost:8080/"
        },
        "outputId": "6d872a46-a091-4eb6-87ee-bc8265702cb9"
      },
      "outputs": [
        {
          "output_type": "execute_result",
          "data": {
            "text/plain": [
              "SI1     13065\n",
              "VS2     12258\n",
              "SI2      9194\n",
              "VS1      8171\n",
              "VVS2     5066\n",
              "VVS1     3655\n",
              "IF       1790\n",
              "I1        741\n",
              "Name: clarity, dtype: int64"
            ]
          },
          "metadata": {},
          "execution_count": 18
        }
      ],
      "source": [
        "data[\"clarity\"].value_counts()"
      ]
    },
    {
      "cell_type": "markdown",
      "metadata": {
        "id": "HkkHp6JT-wxu"
      },
      "source": [
        "Orden de claridad:\n",
        "\n",
        "\n",
        "\n",
        "1.   IF\n",
        "2.   VVS1\n",
        "3.   VVS2\n",
        "4.   VS1\n",
        "5.   VS2\n",
        "6.   SI1\n",
        "7.   SI2\n",
        "8.   I1\n",
        "\n",
        "\n",
        "\n"
      ]
    },
    {
      "cell_type": "markdown",
      "metadata": {
        "id": "v3VE017PALfP"
      },
      "source": [
        "Del 1 al 5 es limpio a la vista, del 6 al 8 no es limpio a la vista"
      ]
    },
    {
      "cell_type": "markdown",
      "metadata": {
        "id": "9Oghy69p8Yd8"
      },
      "source": [
        "### Visualizaciones de los datos"
      ]
    },
    {
      "cell_type": "code",
      "execution_count": null,
      "metadata": {
        "id": "QGo1xr6USTBB",
        "colab": {
          "base_uri": "https://localhost:8080/"
        },
        "outputId": "c8da1120-15cf-42be-8c19-91ae2bb170a0"
      },
      "outputs": [
        {
          "output_type": "execute_result",
          "data": {
            "text/plain": [
              "326"
            ]
          },
          "metadata": {},
          "execution_count": 19
        }
      ],
      "source": [
        "data[\"price\"].min()"
      ]
    },
    {
      "cell_type": "code",
      "execution_count": null,
      "metadata": {
        "id": "gbGWLivWSUoU",
        "colab": {
          "base_uri": "https://localhost:8080/"
        },
        "outputId": "76f95a80-0c14-4960-e854-3993e331af0d"
      },
      "outputs": [
        {
          "output_type": "execute_result",
          "data": {
            "text/plain": [
              "18823"
            ]
          },
          "metadata": {},
          "execution_count": 20
        }
      ],
      "source": [
        "data[\"price\"].max()"
      ]
    },
    {
      "cell_type": "code",
      "execution_count": null,
      "metadata": {
        "id": "QVs7quXwSgb7",
        "colab": {
          "base_uri": "https://localhost:8080/",
          "height": 523
        },
        "outputId": "c8b86367-58f5-460f-b8d1-215f84ac43f6"
      },
      "outputs": [
        {
          "output_type": "execute_result",
          "data": {
            "text/plain": [
              "<seaborn.axisgrid.FacetGrid at 0x7f007fe65b10>"
            ]
          },
          "metadata": {},
          "execution_count": 21
        },
        {
          "output_type": "display_data",
          "data": {
            "text/plain": [
              "<Figure size 500x500 with 1 Axes>"
            ],
            "image/png": "[encoded data removed]"
          },
          "metadata": {}
        }
      ],
      "source": [
        "sns.displot(data[\"price\"])\n"
      ]
    },
    {
      "cell_type": "markdown",
      "metadata": {
        "id": "0rBYu5i8SldP"
      },
      "source": [
        "Se observa que el precio de los diamantes está en un rango entre 326 y 18823"
      ]
    },
    {
      "cell_type": "markdown",
      "source": [
        "Vemos que la grafica es descendente"
      ],
      "metadata": {
        "id": "fqh_DzgbAbFU"
      }
    },
    {
      "cell_type": "markdown",
      "metadata": {
        "id": "waEqWMxz8UAV"
      },
      "source": [
        "### Limpieza"
      ]
    },
    {
      "cell_type": "code",
      "execution_count": null,
      "metadata": {
        "colab": {
          "base_uri": "https://localhost:8080/"
        },
        "id": "yzTcC78b6DDd",
        "outputId": "7ee68e68-f596-495d-8b8c-de5abbb9c1f7"
      },
      "outputs": [
        {
          "output_type": "execute_result",
          "data": {
            "text/plain": [
              "carat      0\n",
              "cut        0\n",
              "color      0\n",
              "clarity    0\n",
              "depth      0\n",
              "table      0\n",
              "price      0\n",
              "x          0\n",
              "y          0\n",
              "z          0\n",
              "dtype: int64"
            ]
          },
          "metadata": {},
          "execution_count": 22
        }
      ],
      "source": [
        "data.isnull().sum()"
      ]
    },
    {
      "cell_type": "markdown",
      "metadata": {
        "id": "y6r2Rf1G6TCF"
      },
      "source": [
        "Vemos que no hay valores nulos, por lo cual podemos continuar con la parte de dummies"
      ]
    },
    {
      "cell_type": "markdown",
      "metadata": {
        "id": "eThmQftS6rrV"
      },
      "source": [
        "#Convertir variables categóricas en variables numéricas"
      ]
    },
    {
      "cell_type": "code",
      "execution_count": null,
      "metadata": {
        "colab": {
          "base_uri": "https://localhost:8080/"
        },
        "id": "917cvE6-6t8V",
        "outputId": "0c899623-a52b-43b6-966c-9f16b542bcc3"
      },
      "outputs": [
        {
          "output_type": "execute_result",
          "data": {
            "text/plain": [
              "carat      float64\n",
              "cut         object\n",
              "color       object\n",
              "clarity     object\n",
              "depth      float64\n",
              "table      float64\n",
              "price        int64\n",
              "x          float64\n",
              "y          float64\n",
              "z          float64\n",
              "dtype: object"
            ]
          },
          "metadata": {},
          "execution_count": 23
        }
      ],
      "source": [
        "data.dtypes"
      ]
    },
    {
      "cell_type": "markdown",
      "metadata": {
        "id": "gjwV1AfJ9MtV"
      },
      "source": [
        "Viendo esto podemos ver que algo tenemos que hacer con las columnas: cut, color y clarity ya que son object"
      ]
    },
    {
      "cell_type": "code",
      "execution_count": null,
      "metadata": {
        "id": "p_YaUexX6uzM"
      },
      "outputs": [],
      "source": [
        "data=pd.get_dummies(data, drop_first=True)"
      ]
    },
    {
      "cell_type": "markdown",
      "metadata": {
        "id": "zLOMkjlh6_fT"
      },
      "source": [
        "Con esto hacemos que todas las variables categoricas se vuelvan dummies sin tener que hacer una por una"
      ]
    },
    {
      "cell_type": "code",
      "execution_count": null,
      "metadata": {
        "colab": {
          "base_uri": "https://localhost:8080/",
          "height": 444
        },
        "id": "_DRm-rsf6xTw",
        "outputId": "012b886e-443a-4c76-f260-8e7e6b001b04"
      },
      "outputs": [
        {
          "output_type": "execute_result",
          "data": {
            "text/plain": [
              "       carat  depth  table  price     x     y     z  cut_Good  cut_Ideal  \\\n",
              "0       0.23   61.5   55.0    326  3.95  3.98  2.43         0          1   \n",
              "1       0.21   59.8   61.0    326  3.89  3.84  2.31         0          0   \n",
              "2       0.23   56.9   65.0    327  4.05  4.07  2.31         1          0   \n",
              "3       0.29   62.4   58.0    334  4.20  4.23  2.63         0          0   \n",
              "4       0.31   63.3   58.0    335  4.34  4.35  2.75         1          0   \n",
              "...      ...    ...    ...    ...   ...   ...   ...       ...        ...   \n",
              "53935   0.72   60.8   57.0   2757  5.75  5.76  3.50         0          1   \n",
              "53936   0.72   63.1   55.0   2757  5.69  5.75  3.61         1          0   \n",
              "53937   0.70   62.8   60.0   2757  5.66  5.68  3.56         0          0   \n",
              "53938   0.86   61.0   58.0   2757  6.15  6.12  3.74         0          0   \n",
              "53939   0.75   62.2   55.0   2757  5.83  5.87  3.64         0          1   \n",
              "\n",
              "       cut_Premium  ...  color_H  color_I  color_J  clarity_IF  clarity_SI1  \\\n",
              "0                0  ...        0        0        0           0            0   \n",
              "1                1  ...        0        0        0           0            1   \n",
              "2                0  ...        0        0        0           0            0   \n",
              "3                1  ...        0        1        0           0            0   \n",
              "4                0  ...        0        0        1           0            0   \n",
              "...            ...  ...      ...      ...      ...         ...          ...   \n",
              "53935            0  ...        0        0        0           0            1   \n",
              "53936            0  ...        0        0        0           0            1   \n",
              "53937            0  ...        0        0        0           0            1   \n",
              "53938            1  ...        1        0        0           0            0   \n",
              "53939            0  ...        0        0        0           0            0   \n",
              "\n",
              "       clarity_SI2  clarity_VS1  clarity_VS2  clarity_VVS1  clarity_VVS2  \n",
              "0                1            0            0             0             0  \n",
              "1                0            0            0             0             0  \n",
              "2                0            1            0             0             0  \n",
              "3                0            0            1             0             0  \n",
              "4                1            0            0             0             0  \n",
              "...            ...          ...          ...           ...           ...  \n",
              "53935            0            0            0             0             0  \n",
              "53936            0            0            0             0             0  \n",
              "53937            0            0            0             0             0  \n",
              "53938            1            0            0             0             0  \n",
              "53939            1            0            0             0             0  \n",
              "\n",
              "[53940 rows x 24 columns]"
            ],
            "text/html": [
              "\n",
              "  <div id=\"df-e5d0c593-27c2-45b7-989c-aa5819c4db3e\" class=\"colab-df-container\">\n",
              "    <div>\n",
              "<style scoped>\n",
              "    .dataframe tbody tr th:only-of-type {\n",
              "        vertical-align: middle;\n",
              "    }\n",
              "\n",
              "    .dataframe tbody tr th {\n",
              "        vertical-align: top;\n",
              "    }\n",
              "\n",
              "    .dataframe thead th {\n",
              "        text-align: right;\n",
              "    }\n",
              "</style>\n",
              "<table border=\"1\" class=\"dataframe\">\n",
              "  <thead>\n",
              "    <tr style=\"text-align: right;\">\n",
              "      <th></th>\n",
              "      <th>carat</th>\n",
              "      <th>depth</th>\n",
              "      <th>table</th>\n",
              "      <th>price</th>\n",
              "      <th>x</th>\n",
              "      <th>y</th>\n",
              "      <th>z</th>\n",
              "      <th>cut_Good</th>\n",
              "      <th>cut_Ideal</th>\n",
              "      <th>cut_Premium</th>\n",
              "      <th>...</th>\n",
              "      <th>color_H</th>\n",
              "      <th>color_I</th>\n",
              "      <th>color_J</th>\n",
              "      <th>clarity_IF</th>\n",
              "      <th>clarity_SI1</th>\n",
              "      <th>clarity_SI2</th>\n",
              "      <th>clarity_VS1</th>\n",
              "      <th>clarity_VS2</th>\n",
              "      <th>clarity_VVS1</th>\n",
              "      <th>clarity_VVS2</th>\n",
              "    </tr>\n",
              "  </thead>\n",
              "  <tbody>\n",
              "    <tr>\n",
              "      <th>0</th>\n",
              "      <td>0.23</td>\n",
              "      <td>61.5</td>\n",
              "      <td>55.0</td>\n",
              "      <td>326</td>\n",
              "      <td>3.95</td>\n",
              "      <td>3.98</td>\n",
              "      <td>2.43</td>\n",
              "      <td>0</td>\n",
              "      <td>1</td>\n",
              "      <td>0</td>\n",
              "      <td>...</td>\n",
              "      <td>0</td>\n",
              "      <td>0</td>\n",
              "      <td>0</td>\n",
              "      <td>0</td>\n",
              "      <td>0</td>\n",
              "      <td>1</td>\n",
              "      <td>0</td>\n",
              "      <td>0</td>\n",
              "      <td>0</td>\n",
              "      <td>0</td>\n",
              "    </tr>\n",
              "    <tr>\n",
              "      <th>1</th>\n",
              "      <td>0.21</td>\n",
              "      <td>59.8</td>\n",
              "      <td>61.0</td>\n",
              "      <td>326</td>\n",
              "      <td>3.89</td>\n",
              "      <td>3.84</td>\n",
              "      <td>2.31</td>\n",
              "      <td>0</td>\n",
              "      <td>0</td>\n",
              "      <td>1</td>\n",
              "      <td>...</td>\n",
              "      <td>0</td>\n",
              "      <td>0</td>\n",
              "      <td>0</td>\n",
              "      <td>0</td>\n",
              "      <td>1</td>\n",
              "      <td>0</td>\n",
              "      <td>0</td>\n",
              "      <td>0</td>\n",
              "      <td>0</td>\n",
              "      <td>0</td>\n",
              "    </tr>\n",
              "    <tr>\n",
              "      <th>2</th>\n",
              "      <td>0.23</td>\n",
              "      <td>56.9</td>\n",
              "      <td>65.0</td>\n",
              "      <td>327</td>\n",
              "      <td>4.05</td>\n",
              "      <td>4.07</td>\n",
              "      <td>2.31</td>\n",
              "      <td>1</td>\n",
              "      <td>0</td>\n",
              "      <td>0</td>\n",
              "      <td>...</td>\n",
              "      <td>0</td>\n",
              "      <td>0</td>\n",
              "      <td>0</td>\n",
              "      <td>0</td>\n",
              "      <td>0</td>\n",
              "      <td>0</td>\n",
              "      <td>1</td>\n",
              "      <td>0</td>\n",
              "      <td>0</td>\n",
              "      <td>0</td>\n",
              "    </tr>\n",
              "    <tr>\n",
              "      <th>3</th>\n",
              "      <td>0.29</td>\n",
              "      <td>62.4</td>\n",
              "      <td>58.0</td>\n",
              "      <td>334</td>\n",
              "      <td>4.20</td>\n",
              "      <td>4.23</td>\n",
              "      <td>2.63</td>\n",
              "      <td>0</td>\n",
              "      <td>0</td>\n",
              "      <td>1</td>\n",
              "      <td>...</td>\n",
              "      <td>0</td>\n",
              "      <td>1</td>\n",
              "      <td>0</td>\n",
              "      <td>0</td>\n",
              "      <td>0</td>\n",
              "      <td>0</td>\n",
              "      <td>0</td>\n",
              "      <td>1</td>\n",
              "      <td>0</td>\n",
              "      <td>0</td>\n",
              "    </tr>\n",
              "    <tr>\n",
              "      <th>4</th>\n",
              "      <td>0.31</td>\n",
              "      <td>63.3</td>\n",
              "      <td>58.0</td>\n",
              "      <td>335</td>\n",
              "      <td>4.34</td>\n",
              "      <td>4.35</td>\n",
              "      <td>2.75</td>\n",
              "      <td>1</td>\n",
              "      <td>0</td>\n",
              "      <td>0</td>\n",
              "      <td>...</td>\n",
              "      <td>0</td>\n",
              "      <td>0</td>\n",
              "      <td>1</td>\n",
              "      <td>0</td>\n",
              "      <td>0</td>\n",
              "      <td>1</td>\n",
              "      <td>0</td>\n",
              "      <td>0</td>\n",
              "      <td>0</td>\n",
              "      <td>0</td>\n",
              "    </tr>\n",
              "    <tr>\n",
              "      <th>...</th>\n",
              "      <td>...</td>\n",
              "      <td>...</td>\n",
              "      <td>...</td>\n",
              "      <td>...</td>\n",
              "      <td>...</td>\n",
              "      <td>...</td>\n",
              "      <td>...</td>\n",
              "      <td>...</td>\n",
              "      <td>...</td>\n",
              "      <td>...</td>\n",
              "      <td>...</td>\n",
              "      <td>...</td>\n",
              "      <td>...</td>\n",
              "      <td>...</td>\n",
              "      <td>...</td>\n",
              "      <td>...</td>\n",
              "      <td>...</td>\n",
              "      <td>...</td>\n",
              "      <td>...</td>\n",
              "      <td>...</td>\n",
              "      <td>...</td>\n",
              "    </tr>\n",
              "    <tr>\n",
              "      <th>53935</th>\n",
              "      <td>0.72</td>\n",
              "      <td>60.8</td>\n",
              "      <td>57.0</td>\n",
              "      <td>2757</td>\n",
              "      <td>5.75</td>\n",
              "      <td>5.76</td>\n",
              "      <td>3.50</td>\n",
              "      <td>0</td>\n",
              "      <td>1</td>\n",
              "      <td>0</td>\n",
              "      <td>...</td>\n",
              "      <td>0</td>\n",
              "      <td>0</td>\n",
              "      <td>0</td>\n",
              "      <td>0</td>\n",
              "      <td>1</td>\n",
              "      <td>0</td>\n",
              "      <td>0</td>\n",
              "      <td>0</td>\n",
              "      <td>0</td>\n",
              "      <td>0</td>\n",
              "    </tr>\n",
              "    <tr>\n",
              "      <th>53936</th>\n",
              "      <td>0.72</td>\n",
              "      <td>63.1</td>\n",
              "      <td>55.0</td>\n",
              "      <td>2757</td>\n",
              "      <td>5.69</td>\n",
              "      <td>5.75</td>\n",
              "      <td>3.61</td>\n",
              "      <td>1</td>\n",
              "      <td>0</td>\n",
              "      <td>0</td>\n",
              "      <td>...</td>\n",
              "      <td>0</td>\n",
              "      <td>0</td>\n",
              "      <td>0</td>\n",
              "      <td>0</td>\n",
              "      <td>1</td>\n",
              "      <td>0</td>\n",
              "      <td>0</td>\n",
              "      <td>0</td>\n",
              "      <td>0</td>\n",
              "      <td>0</td>\n",
              "    </tr>\n",
              "    <tr>\n",
              "      <th>53937</th>\n",
              "      <td>0.70</td>\n",
              "      <td>62.8</td>\n",
              "      <td>60.0</td>\n",
              "      <td>2757</td>\n",
              "      <td>5.66</td>\n",
              "      <td>5.68</td>\n",
              "      <td>3.56</td>\n",
              "      <td>0</td>\n",
              "      <td>0</td>\n",
              "      <td>0</td>\n",
              "      <td>...</td>\n",
              "      <td>0</td>\n",
              "      <td>0</td>\n",
              "      <td>0</td>\n",
              "      <td>0</td>\n",
              "      <td>1</td>\n",
              "      <td>0</td>\n",
              "      <td>0</td>\n",
              "      <td>0</td>\n",
              "      <td>0</td>\n",
              "      <td>0</td>\n",
              "    </tr>\n",
              "    <tr>\n",
              "      <th>53938</th>\n",
              "      <td>0.86</td>\n",
              "      <td>61.0</td>\n",
              "      <td>58.0</td>\n",
              "      <td>2757</td>\n",
              "      <td>6.15</td>\n",
              "      <td>6.12</td>\n",
              "      <td>3.74</td>\n",
              "      <td>0</td>\n",
              "      <td>0</td>\n",
              "      <td>1</td>\n",
              "      <td>...</td>\n",
              "      <td>1</td>\n",
              "      <td>0</td>\n",
              "      <td>0</td>\n",
              "      <td>0</td>\n",
              "      <td>0</td>\n",
              "      <td>1</td>\n",
              "      <td>0</td>\n",
              "      <td>0</td>\n",
              "      <td>0</td>\n",
              "      <td>0</td>\n",
              "    </tr>\n",
              "    <tr>\n",
              "      <th>53939</th>\n",
              "      <td>0.75</td>\n",
              "      <td>62.2</td>\n",
              "      <td>55.0</td>\n",
              "      <td>2757</td>\n",
              "      <td>5.83</td>\n",
              "      <td>5.87</td>\n",
              "      <td>3.64</td>\n",
              "      <td>0</td>\n",
              "      <td>1</td>\n",
              "      <td>0</td>\n",
              "      <td>...</td>\n",
              "      <td>0</td>\n",
              "      <td>0</td>\n",
              "      <td>0</td>\n",
              "      <td>0</td>\n",
              "      <td>0</td>\n",
              "      <td>1</td>\n",
              "      <td>0</td>\n",
              "      <td>0</td>\n",
              "      <td>0</td>\n",
              "      <td>0</td>\n",
              "    </tr>\n",
              "  </tbody>\n",
              "</table>\n",
              "<p>53940 rows × 24 columns</p>\n",
              "</div>\n",
              "    <div class=\"colab-df-buttons\">\n",
              "\n",
              "  <div class=\"colab-df-container\">\n",
              "    <button class=\"colab-df-convert\" onclick=\"convertToInteractive('df-e5d0c593-27c2-45b7-989c-aa5819c4db3e')\"\n",
              "            title=\"Convert this dataframe to an interactive table.\"\n",
              "            style=\"display:none;\">\n",
              "\n",
              "  <svg xmlns=\"http://www.w3.org/2000/svg\" height=\"24px\" viewBox=\"0 -960 960 960\">\n",
              "    <path d=\"M120-120v-720h720v720H120Zm60-500h600v-160H180v160Zm220 220h160v-160H400v160Zm0 220h160v-160H400v160ZM180-400h160v-160H180v160Zm440 0h160v-160H620v160ZM180-180h160v-160H180v160Zm440 0h160v-160H620v160Z\"/>\n",
              "  </svg>\n",
              "    </button>\n",
              "\n",
              "  <style>\n",
              "    .colab-df-container {\n",
              "      display:flex;\n",
              "      gap: 12px;\n",
              "    }\n",
              "\n",
              "    .colab-df-convert {\n",
              "      background-color: #E8F0FE;\n",
              "      border: none;\n",
              "      border-radius: 50%;\n",
              "      cursor: pointer;\n",
              "      display: none;\n",
              "      fill: #1967D2;\n",
              "      height: 32px;\n",
              "      padding: 0 0 0 0;\n",
              "      width: 32px;\n",
              "    }\n",
              "\n",
              "    .colab-df-convert:hover {\n",
              "      background-color: #E2EBFA;\n",
              "      box-shadow: 0px 1px 2px rgba(60, 64, 67, 0.3), 0px 1px 3px 1px rgba(60, 64, 67, 0.15);\n",
              "      fill: #174EA6;\n",
              "    }\n",
              "\n",
              "    .colab-df-buttons div {\n",
              "      margin-bottom: 4px;\n",
              "    }\n",
              "\n",
              "    [theme=dark] .colab-df-convert {\n",
              "      background-color: #3B4455;\n",
              "      fill: #D2E3FC;\n",
              "    }\n",
              "\n",
              "    [theme=dark] .colab-df-convert:hover {\n",
              "      background-color: #434B5C;\n",
              "      box-shadow: 0px 1px 3px 1px rgba(0, 0, 0, 0.15);\n",
              "      filter: drop-shadow(0px 1px 2px rgba(0, 0, 0, 0.3));\n",
              "      fill: #FFFFFF;\n",
              "    }\n",
              "  </style>\n",
              "\n",
              "    <script>\n",
              "      const buttonEl =\n",
              "        document.querySelector('#df-e5d0c593-27c2-45b7-989c-aa5819c4db3e button.colab-df-convert');\n",
              "      buttonEl.style.display =\n",
              "        google.colab.kernel.accessAllowed ? 'block' : 'none';\n",
              "\n",
              "      async function convertToInteractive(key) {\n",
              "        const element = document.querySelector('#df-e5d0c593-27c2-45b7-989c-aa5819c4db3e');\n",
              "        const dataTable =\n",
              "          await google.colab.kernel.invokeFunction('convertToInteractive',\n",
              "                                                    [key], {});\n",
              "        if (!dataTable) return;\n",
              "\n",
              "        const docLinkHtml = 'Like what you see? Visit the ' +\n",
              "          '<a target=\"_blank\" href=https://colab.research.google.com/notebooks/data_table.ipynb>data table notebook</a>'\n",
              "          + ' to learn more about interactive tables.';\n",
              "        element.innerHTML = '';\n",
              "        dataTable['output_type'] = 'display_data';\n",
              "        await google.colab.output.renderOutput(dataTable, element);\n",
              "        const docLink = document.createElement('div');\n",
              "        docLink.innerHTML = docLinkHtml;\n",
              "        element.appendChild(docLink);\n",
              "      }\n",
              "    </script>\n",
              "  </div>\n",
              "\n",
              "\n",
              "<div id=\"df-df1aa474-e970-4af2-8a68-0ae736672a62\">\n",
              "  <button class=\"colab-df-quickchart\" onclick=\"quickchart('df-df1aa474-e970-4af2-8a68-0ae736672a62')\"\n",
              "            title=\"Suggest charts\"\n",
              "            style=\"display:none;\">\n",
              "\n",
              "<svg xmlns=\"http://www.w3.org/2000/svg\" height=\"24px\"viewBox=\"0 0 24 24\"\n",
              "     width=\"24px\">\n",
              "    <g>\n",
              "        <path d=\"M19 3H5c-1.1 0-2 .9-2 2v14c0 1.1.9 2 2 2h14c1.1 0 2-.9 2-2V5c0-1.1-.9-2-2-2zM9 17H7v-7h2v7zm4 0h-2V7h2v10zm4 0h-2v-4h2v4z\"/>\n",
              "    </g>\n",
              "</svg>\n",
              "  </button>\n",
              "\n",
              "<style>\n",
              "  .colab-df-quickchart {\n",
              "      --bg-color: #E8F0FE;\n",
              "      --fill-color: #1967D2;\n",
              "      --hover-bg-color: #E2EBFA;\n",
              "      --hover-fill-color: #174EA6;\n",
              "      --disabled-fill-color: #AAA;\n",
              "      --disabled-bg-color: #DDD;\n",
              "  }\n",
              "\n",
              "  [theme=dark] .colab-df-quickchart {\n",
              "      --bg-color: #3B4455;\n",
              "      --fill-color: #D2E3FC;\n",
              "      --hover-bg-color: #434B5C;\n",
              "      --hover-fill-color: #FFFFFF;\n",
              "      --disabled-bg-color: #3B4455;\n",
              "      --disabled-fill-color: #666;\n",
              "  }\n",
              "\n",
              "  .colab-df-quickchart {\n",
              "    background-color: var(--bg-color);\n",
              "    border: none;\n",
              "    border-radius: 50%;\n",
              "    cursor: pointer;\n",
              "    display: none;\n",
              "    fill: var(--fill-color);\n",
              "    height: 32px;\n",
              "    padding: 0;\n",
              "    width: 32px;\n",
              "  }\n",
              "\n",
              "  .colab-df-quickchart:hover {\n",
              "    background-color: var(--hover-bg-color);\n",
              "    box-shadow: 0 1px 2px rgba(60, 64, 67, 0.3), 0 1px 3px 1px rgba(60, 64, 67, 0.15);\n",
              "    fill: var(--button-hover-fill-color);\n",
              "  }\n",
              "\n",
              "  .colab-df-quickchart-complete:disabled,\n",
              "  .colab-df-quickchart-complete:disabled:hover {\n",
              "    background-color: var(--disabled-bg-color);\n",
              "    fill: var(--disabled-fill-color);\n",
              "    box-shadow: none;\n",
              "  }\n",
              "\n",
              "  .colab-df-spinner {\n",
              "    border: 2px solid var(--fill-color);\n",
              "    border-color: transparent;\n",
              "    border-bottom-color: var(--fill-color);\n",
              "    animation:\n",
              "      spin 1s steps(1) infinite;\n",
              "  }\n",
              "\n",
              "  @keyframes spin {\n",
              "    0% {\n",
              "      border-color: transparent;\n",
              "      border-bottom-color: var(--fill-color);\n",
              "      border-left-color: var(--fill-color);\n",
              "    }\n",
              "    20% {\n",
              "      border-color: transparent;\n",
              "      border-left-color: var(--fill-color);\n",
              "      border-top-color: var(--fill-color);\n",
              "    }\n",
              "    30% {\n",
              "      border-color: transparent;\n",
              "      border-left-color: var(--fill-color);\n",
              "      border-top-color: var(--fill-color);\n",
              "      border-right-color: var(--fill-color);\n",
              "    }\n",
              "    40% {\n",
              "      border-color: transparent;\n",
              "      border-right-color: var(--fill-color);\n",
              "      border-top-color: var(--fill-color);\n",
              "    }\n",
              "    60% {\n",
              "      border-color: transparent;\n",
              "      border-right-color: var(--fill-color);\n",
              "    }\n",
              "    80% {\n",
              "      border-color: transparent;\n",
              "      border-right-color: var(--fill-color);\n",
              "      border-bottom-color: var(--fill-color);\n",
              "    }\n",
              "    90% {\n",
              "      border-color: transparent;\n",
              "      border-bottom-color: var(--fill-color);\n",
              "    }\n",
              "  }\n",
              "</style>\n",
              "\n",
              "  <script>\n",
              "    async function quickchart(key) {\n",
              "      const quickchartButtonEl =\n",
              "        document.querySelector('#' + key + ' button');\n",
              "      quickchartButtonEl.disabled = true;  // To prevent multiple clicks.\n",
              "      quickchartButtonEl.classList.add('colab-df-spinner');\n",
              "      try {\n",
              "        const charts = await google.colab.kernel.invokeFunction(\n",
              "            'suggestCharts', [key], {});\n",
              "      } catch (error) {\n",
              "        console.error('Error during call to suggestCharts:', error);\n",
              "      }\n",
              "      quickchartButtonEl.classList.remove('colab-df-spinner');\n",
              "      quickchartButtonEl.classList.add('colab-df-quickchart-complete');\n",
              "    }\n",
              "    (() => {\n",
              "      let quickchartButtonEl =\n",
              "        document.querySelector('#df-df1aa474-e970-4af2-8a68-0ae736672a62 button');\n",
              "      quickchartButtonEl.style.display =\n",
              "        google.colab.kernel.accessAllowed ? 'block' : 'none';\n",
              "    })();\n",
              "  </script>\n",
              "</div>\n",
              "    </div>\n",
              "  </div>\n"
            ]
          },
          "metadata": {},
          "execution_count": 25
        }
      ],
      "source": [
        "data"
      ]
    },
    {
      "cell_type": "code",
      "execution_count": null,
      "metadata": {
        "colab": {
          "base_uri": "https://localhost:8080/"
        },
        "id": "THSly20260MA",
        "outputId": "8ca06288-df52-449c-8d68-f8081e158a3d"
      },
      "outputs": [
        {
          "output_type": "execute_result",
          "data": {
            "text/plain": [
              "Index(['carat', 'depth', 'table', 'price', 'x', 'y', 'z', 'cut_Good',\n",
              "       'cut_Ideal', 'cut_Premium', 'cut_Very Good', 'color_E', 'color_F',\n",
              "       'color_G', 'color_H', 'color_I', 'color_J', 'clarity_IF', 'clarity_SI1',\n",
              "       'clarity_SI2', 'clarity_VS1', 'clarity_VS2', 'clarity_VVS1',\n",
              "       'clarity_VVS2'],\n",
              "      dtype='object')"
            ]
          },
          "metadata": {},
          "execution_count": 26
        }
      ],
      "source": [
        "data.columns #Muestra todas las columnas del dataset"
      ]
    },
    {
      "cell_type": "code",
      "execution_count": null,
      "metadata": {
        "colab": {
          "base_uri": "https://localhost:8080/"
        },
        "id": "gI7pcFun62SI",
        "outputId": "6095451f-18e0-40f0-9396-3e665110e3a2"
      },
      "outputs": [
        {
          "output_type": "execute_result",
          "data": {
            "text/plain": [
              "carat            float64\n",
              "depth            float64\n",
              "table            float64\n",
              "price              int64\n",
              "x                float64\n",
              "y                float64\n",
              "z                float64\n",
              "cut_Good           uint8\n",
              "cut_Ideal          uint8\n",
              "cut_Premium        uint8\n",
              "cut_Very Good      uint8\n",
              "color_E            uint8\n",
              "color_F            uint8\n",
              "color_G            uint8\n",
              "color_H            uint8\n",
              "color_I            uint8\n",
              "color_J            uint8\n",
              "clarity_IF         uint8\n",
              "clarity_SI1        uint8\n",
              "clarity_SI2        uint8\n",
              "clarity_VS1        uint8\n",
              "clarity_VS2        uint8\n",
              "clarity_VVS1       uint8\n",
              "clarity_VVS2       uint8\n",
              "dtype: object"
            ]
          },
          "metadata": {},
          "execution_count": 27
        }
      ],
      "source": [
        "data.dtypes"
      ]
    },
    {
      "cell_type": "markdown",
      "source": [
        "Y ahora ya podemos dividir los datos en variables a predecir y variables predictoras"
      ],
      "metadata": {
        "id": "Ivxam15_GYWH"
      }
    },
    {
      "cell_type": "markdown",
      "metadata": {
        "id": "ppQbLQdJ7QRk"
      },
      "source": [
        "#Dividir los datos en variable a predecir y variables predictoras"
      ]
    },
    {
      "cell_type": "code",
      "execution_count": null,
      "metadata": {
        "id": "IORk6FqS7ow0"
      },
      "outputs": [],
      "source": [
        "# Generamos X e y\n",
        "\n",
        "X = data.drop(columns = \"price\")   #variables predictora\n",
        "y = data[\"price\"]   #variable a predecir"
      ]
    },
    {
      "cell_type": "markdown",
      "metadata": {
        "id": "OiLiGcys-eSo"
      },
      "source": [
        "#Dividir los datos en entrenamiento y testeo"
      ]
    },
    {
      "cell_type": "code",
      "execution_count": null,
      "metadata": {
        "id": "CpcDtXJf-f9Z"
      },
      "outputs": [],
      "source": [
        "# Dividimos datos en train y test\n",
        "from sklearn.model_selection import train_test_split\n",
        "\n",
        "X_train, X_test, y_train, y_test = train_test_split(X, y, random_state=20)  #por default 25% de test\n"
      ]
    },
    {
      "cell_type": "code",
      "execution_count": null,
      "metadata": {
        "colab": {
          "base_uri": "https://localhost:8080/",
          "height": 461
        },
        "id": "q5hYBls7-6pD",
        "outputId": "8ac31992-87bd-49c4-f61c-ee73a07f9fbc"
      },
      "outputs": [
        {
          "output_type": "execute_result",
          "data": {
            "text/plain": [
              "       carat  depth  table     x     y     z  cut_Good  cut_Ideal  \\\n",
              "40412   0.55   61.7   55.0  5.29  5.31  3.27         0          1   \n",
              "9339    0.94   62.4   56.0  6.27  6.24  3.90         0          0   \n",
              "10739   0.33   60.0   59.0  4.49  4.47  2.69         0          0   \n",
              "34891   0.31   59.4   56.0  4.45  4.40  2.63         0          1   \n",
              "27286   2.01   62.8   59.0  7.99  8.04  5.03         0          0   \n",
              "...      ...    ...    ...   ...   ...   ...       ...        ...   \n",
              "23452   1.50   60.7   62.0  7.30  7.33  4.44         0          0   \n",
              "23775   1.51   61.9   57.0  7.35  7.42  4.57         0          1   \n",
              "37135   0.42   60.9   56.0  4.87  4.89  2.97         0          1   \n",
              "27098   2.05   59.7   59.0  8.39  8.27  4.97         0          0   \n",
              "48483   0.55   61.1   57.0  5.35  5.26  3.24         0          0   \n",
              "\n",
              "       cut_Premium  cut_Very Good  ...  color_H  color_I  color_J  clarity_IF  \\\n",
              "40412            0              0  ...        0        1        0           0   \n",
              "9339             1              0  ...        0        0        0           0   \n",
              "10739            1              0  ...        0        0        0           0   \n",
              "34891            0              0  ...        0        0        0           0   \n",
              "27286            0              1  ...        1        0        0           0   \n",
              "...            ...            ...  ...      ...      ...      ...         ...   \n",
              "23452            0              1  ...        0        0        0           0   \n",
              "23775            0              0  ...        0        0        0           0   \n",
              "37135            0              0  ...        0        0        0           0   \n",
              "27098            1              0  ...        0        0        0           0   \n",
              "48483            1              0  ...        1        0        0           0   \n",
              "\n",
              "       clarity_SI1  clarity_SI2  clarity_VS1  clarity_VS2  clarity_VVS1  \\\n",
              "40412            1            0            0            0             0   \n",
              "9339             1            0            0            0             0   \n",
              "10739            0            1            0            0             0   \n",
              "34891            0            0            0            1             0   \n",
              "27286            1            0            0            0             0   \n",
              "...            ...          ...          ...          ...           ...   \n",
              "23452            1            0            0            0             0   \n",
              "23775            1            0            0            0             0   \n",
              "37135            0            1            0            0             0   \n",
              "27098            0            1            0            0             0   \n",
              "48483            0            0            0            0             1   \n",
              "\n",
              "       clarity_VVS2  \n",
              "40412             0  \n",
              "9339              0  \n",
              "10739             0  \n",
              "34891             0  \n",
              "27286             0  \n",
              "...             ...  \n",
              "23452             0  \n",
              "23775             0  \n",
              "37135             0  \n",
              "27098             0  \n",
              "48483             0  \n",
              "\n",
              "[40455 rows x 23 columns]"
            ],
            "text/html": [
              "\n",
              "  <div id=\"df-d531a041-b183-4c2a-a60d-d7eb97834e9b\" class=\"colab-df-container\">\n",
              "    <div>\n",
              "<style scoped>\n",
              "    .dataframe tbody tr th:only-of-type {\n",
              "        vertical-align: middle;\n",
              "    }\n",
              "\n",
              "    .dataframe tbody tr th {\n",
              "        vertical-align: top;\n",
              "    }\n",
              "\n",
              "    .dataframe thead th {\n",
              "        text-align: right;\n",
              "    }\n",
              "</style>\n",
              "<table border=\"1\" class=\"dataframe\">\n",
              "  <thead>\n",
              "    <tr style=\"text-align: right;\">\n",
              "      <th></th>\n",
              "      <th>carat</th>\n",
              "      <th>depth</th>\n",
              "      <th>table</th>\n",
              "      <th>x</th>\n",
              "      <th>y</th>\n",
              "      <th>z</th>\n",
              "      <th>cut_Good</th>\n",
              "      <th>cut_Ideal</th>\n",
              "      <th>cut_Premium</th>\n",
              "      <th>cut_Very Good</th>\n",
              "      <th>...</th>\n",
              "      <th>color_H</th>\n",
              "      <th>color_I</th>\n",
              "      <th>color_J</th>\n",
              "      <th>clarity_IF</th>\n",
              "      <th>clarity_SI1</th>\n",
              "      <th>clarity_SI2</th>\n",
              "      <th>clarity_VS1</th>\n",
              "      <th>clarity_VS2</th>\n",
              "      <th>clarity_VVS1</th>\n",
              "      <th>clarity_VVS2</th>\n",
              "    </tr>\n",
              "  </thead>\n",
              "  <tbody>\n",
              "    <tr>\n",
              "      <th>40412</th>\n",
              "      <td>0.55</td>\n",
              "      <td>61.7</td>\n",
              "      <td>55.0</td>\n",
              "      <td>5.29</td>\n",
              "      <td>5.31</td>\n",
              "      <td>3.27</td>\n",
              "      <td>0</td>\n",
              "      <td>1</td>\n",
              "      <td>0</td>\n",
              "      <td>0</td>\n",
              "      <td>...</td>\n",
              "      <td>0</td>\n",
              "      <td>1</td>\n",
              "      <td>0</td>\n",
              "      <td>0</td>\n",
              "      <td>1</td>\n",
              "      <td>0</td>\n",
              "      <td>0</td>\n",
              "      <td>0</td>\n",
              "      <td>0</td>\n",
              "      <td>0</td>\n",
              "    </tr>\n",
              "    <tr>\n",
              "      <th>9339</th>\n",
              "      <td>0.94</td>\n",
              "      <td>62.4</td>\n",
              "      <td>56.0</td>\n",
              "      <td>6.27</td>\n",
              "      <td>6.24</td>\n",
              "      <td>3.90</td>\n",
              "      <td>0</td>\n",
              "      <td>0</td>\n",
              "      <td>1</td>\n",
              "      <td>0</td>\n",
              "      <td>...</td>\n",
              "      <td>0</td>\n",
              "      <td>0</td>\n",
              "      <td>0</td>\n",
              "      <td>0</td>\n",
              "      <td>1</td>\n",
              "      <td>0</td>\n",
              "      <td>0</td>\n",
              "      <td>0</td>\n",
              "      <td>0</td>\n",
              "      <td>0</td>\n",
              "    </tr>\n",
              "    <tr>\n",
              "      <th>10739</th>\n",
              "      <td>0.33</td>\n",
              "      <td>60.0</td>\n",
              "      <td>59.0</td>\n",
              "      <td>4.49</td>\n",
              "      <td>4.47</td>\n",
              "      <td>2.69</td>\n",
              "      <td>0</td>\n",
              "      <td>0</td>\n",
              "      <td>1</td>\n",
              "      <td>0</td>\n",
              "      <td>...</td>\n",
              "      <td>0</td>\n",
              "      <td>0</td>\n",
              "      <td>0</td>\n",
              "      <td>0</td>\n",
              "      <td>0</td>\n",
              "      <td>1</td>\n",
              "      <td>0</td>\n",
              "      <td>0</td>\n",
              "      <td>0</td>\n",
              "      <td>0</td>\n",
              "    </tr>\n",
              "    <tr>\n",
              "      <th>34891</th>\n",
              "      <td>0.31</td>\n",
              "      <td>59.4</td>\n",
              "      <td>56.0</td>\n",
              "      <td>4.45</td>\n",
              "      <td>4.40</td>\n",
              "      <td>2.63</td>\n",
              "      <td>0</td>\n",
              "      <td>1</td>\n",
              "      <td>0</td>\n",
              "      <td>0</td>\n",
              "      <td>...</td>\n",
              "      <td>0</td>\n",
              "      <td>0</td>\n",
              "      <td>0</td>\n",
              "      <td>0</td>\n",
              "      <td>0</td>\n",
              "      <td>0</td>\n",
              "      <td>0</td>\n",
              "      <td>1</td>\n",
              "      <td>0</td>\n",
              "      <td>0</td>\n",
              "    </tr>\n",
              "    <tr>\n",
              "      <th>27286</th>\n",
              "      <td>2.01</td>\n",
              "      <td>62.8</td>\n",
              "      <td>59.0</td>\n",
              "      <td>7.99</td>\n",
              "      <td>8.04</td>\n",
              "      <td>5.03</td>\n",
              "      <td>0</td>\n",
              "      <td>0</td>\n",
              "      <td>0</td>\n",
              "      <td>1</td>\n",
              "      <td>...</td>\n",
              "      <td>1</td>\n",
              "      <td>0</td>\n",
              "      <td>0</td>\n",
              "      <td>0</td>\n",
              "      <td>1</td>\n",
              "      <td>0</td>\n",
              "      <td>0</td>\n",
              "      <td>0</td>\n",
              "      <td>0</td>\n",
              "      <td>0</td>\n",
              "    </tr>\n",
              "    <tr>\n",
              "      <th>...</th>\n",
              "      <td>...</td>\n",
              "      <td>...</td>\n",
              "      <td>...</td>\n",
              "      <td>...</td>\n",
              "      <td>...</td>\n",
              "      <td>...</td>\n",
              "      <td>...</td>\n",
              "      <td>...</td>\n",
              "      <td>...</td>\n",
              "      <td>...</td>\n",
              "      <td>...</td>\n",
              "      <td>...</td>\n",
              "      <td>...</td>\n",
              "      <td>...</td>\n",
              "      <td>...</td>\n",
              "      <td>...</td>\n",
              "      <td>...</td>\n",
              "      <td>...</td>\n",
              "      <td>...</td>\n",
              "      <td>...</td>\n",
              "      <td>...</td>\n",
              "    </tr>\n",
              "    <tr>\n",
              "      <th>23452</th>\n",
              "      <td>1.50</td>\n",
              "      <td>60.7</td>\n",
              "      <td>62.0</td>\n",
              "      <td>7.30</td>\n",
              "      <td>7.33</td>\n",
              "      <td>4.44</td>\n",
              "      <td>0</td>\n",
              "      <td>0</td>\n",
              "      <td>0</td>\n",
              "      <td>1</td>\n",
              "      <td>...</td>\n",
              "      <td>0</td>\n",
              "      <td>0</td>\n",
              "      <td>0</td>\n",
              "      <td>0</td>\n",
              "      <td>1</td>\n",
              "      <td>0</td>\n",
              "      <td>0</td>\n",
              "      <td>0</td>\n",
              "      <td>0</td>\n",
              "      <td>0</td>\n",
              "    </tr>\n",
              "    <tr>\n",
              "      <th>23775</th>\n",
              "      <td>1.51</td>\n",
              "      <td>61.9</td>\n",
              "      <td>57.0</td>\n",
              "      <td>7.35</td>\n",
              "      <td>7.42</td>\n",
              "      <td>4.57</td>\n",
              "      <td>0</td>\n",
              "      <td>1</td>\n",
              "      <td>0</td>\n",
              "      <td>0</td>\n",
              "      <td>...</td>\n",
              "      <td>0</td>\n",
              "      <td>0</td>\n",
              "      <td>0</td>\n",
              "      <td>0</td>\n",
              "      <td>1</td>\n",
              "      <td>0</td>\n",
              "      <td>0</td>\n",
              "      <td>0</td>\n",
              "      <td>0</td>\n",
              "      <td>0</td>\n",
              "    </tr>\n",
              "    <tr>\n",
              "      <th>37135</th>\n",
              "      <td>0.42</td>\n",
              "      <td>60.9</td>\n",
              "      <td>56.0</td>\n",
              "      <td>4.87</td>\n",
              "      <td>4.89</td>\n",
              "      <td>2.97</td>\n",
              "      <td>0</td>\n",
              "      <td>1</td>\n",
              "      <td>0</td>\n",
              "      <td>0</td>\n",
              "      <td>...</td>\n",
              "      <td>0</td>\n",
              "      <td>0</td>\n",
              "      <td>0</td>\n",
              "      <td>0</td>\n",
              "      <td>0</td>\n",
              "      <td>1</td>\n",
              "      <td>0</td>\n",
              "      <td>0</td>\n",
              "      <td>0</td>\n",
              "      <td>0</td>\n",
              "    </tr>\n",
              "    <tr>\n",
              "      <th>27098</th>\n",
              "      <td>2.05</td>\n",
              "      <td>59.7</td>\n",
              "      <td>59.0</td>\n",
              "      <td>8.39</td>\n",
              "      <td>8.27</td>\n",
              "      <td>4.97</td>\n",
              "      <td>0</td>\n",
              "      <td>0</td>\n",
              "      <td>1</td>\n",
              "      <td>0</td>\n",
              "      <td>...</td>\n",
              "      <td>0</td>\n",
              "      <td>0</td>\n",
              "      <td>0</td>\n",
              "      <td>0</td>\n",
              "      <td>0</td>\n",
              "      <td>1</td>\n",
              "      <td>0</td>\n",
              "      <td>0</td>\n",
              "      <td>0</td>\n",
              "      <td>0</td>\n",
              "    </tr>\n",
              "    <tr>\n",
              "      <th>48483</th>\n",
              "      <td>0.55</td>\n",
              "      <td>61.1</td>\n",
              "      <td>57.0</td>\n",
              "      <td>5.35</td>\n",
              "      <td>5.26</td>\n",
              "      <td>3.24</td>\n",
              "      <td>0</td>\n",
              "      <td>0</td>\n",
              "      <td>1</td>\n",
              "      <td>0</td>\n",
              "      <td>...</td>\n",
              "      <td>1</td>\n",
              "      <td>0</td>\n",
              "      <td>0</td>\n",
              "      <td>0</td>\n",
              "      <td>0</td>\n",
              "      <td>0</td>\n",
              "      <td>0</td>\n",
              "      <td>0</td>\n",
              "      <td>1</td>\n",
              "      <td>0</td>\n",
              "    </tr>\n",
              "  </tbody>\n",
              "</table>\n",
              "<p>40455 rows × 23 columns</p>\n",
              "</div>\n",
              "    <div class=\"colab-df-buttons\">\n",
              "\n",
              "  <div class=\"colab-df-container\">\n",
              "    <button class=\"colab-df-convert\" onclick=\"convertToInteractive('df-d531a041-b183-4c2a-a60d-d7eb97834e9b')\"\n",
              "            title=\"Convert this dataframe to an interactive table.\"\n",
              "            style=\"display:none;\">\n",
              "\n",
              "  <svg xmlns=\"http://www.w3.org/2000/svg\" height=\"24px\" viewBox=\"0 -960 960 960\">\n",
              "    <path d=\"M120-120v-720h720v720H120Zm60-500h600v-160H180v160Zm220 220h160v-160H400v160Zm0 220h160v-160H400v160ZM180-400h160v-160H180v160Zm440 0h160v-160H620v160ZM180-180h160v-160H180v160Zm440 0h160v-160H620v160Z\"/>\n",
              "  </svg>\n",
              "    </button>\n",
              "\n",
              "  <style>\n",
              "    .colab-df-container {\n",
              "      display:flex;\n",
              "      gap: 12px;\n",
              "    }\n",
              "\n",
              "    .colab-df-convert {\n",
              "      background-color: #E8F0FE;\n",
              "      border: none;\n",
              "      border-radius: 50%;\n",
              "      cursor: pointer;\n",
              "      display: none;\n",
              "      fill: #1967D2;\n",
              "      height: 32px;\n",
              "      padding: 0 0 0 0;\n",
              "      width: 32px;\n",
              "    }\n",
              "\n",
              "    .colab-df-convert:hover {\n",
              "      background-color: #E2EBFA;\n",
              "      box-shadow: 0px 1px 2px rgba(60, 64, 67, 0.3), 0px 1px 3px 1px rgba(60, 64, 67, 0.15);\n",
              "      fill: #174EA6;\n",
              "    }\n",
              "\n",
              "    .colab-df-buttons div {\n",
              "      margin-bottom: 4px;\n",
              "    }\n",
              "\n",
              "    [theme=dark] .colab-df-convert {\n",
              "      background-color: #3B4455;\n",
              "      fill: #D2E3FC;\n",
              "    }\n",
              "\n",
              "    [theme=dark] .colab-df-convert:hover {\n",
              "      background-color: #434B5C;\n",
              "      box-shadow: 0px 1px 3px 1px rgba(0, 0, 0, 0.15);\n",
              "      filter: drop-shadow(0px 1px 2px rgba(0, 0, 0, 0.3));\n",
              "      fill: #FFFFFF;\n",
              "    }\n",
              "  </style>\n",
              "\n",
              "    <script>\n",
              "      const buttonEl =\n",
              "        document.querySelector('#df-d531a041-b183-4c2a-a60d-d7eb97834e9b button.colab-df-convert');\n",
              "      buttonEl.style.display =\n",
              "        google.colab.kernel.accessAllowed ? 'block' : 'none';\n",
              "\n",
              "      async function convertToInteractive(key) {\n",
              "        const element = document.querySelector('#df-d531a041-b183-4c2a-a60d-d7eb97834e9b');\n",
              "        const dataTable =\n",
              "          await google.colab.kernel.invokeFunction('convertToInteractive',\n",
              "                                                    [key], {});\n",
              "        if (!dataTable) return;\n",
              "\n",
              "        const docLinkHtml = 'Like what you see? Visit the ' +\n",
              "          '<a target=\"_blank\" href=https://colab.research.google.com/notebooks/data_table.ipynb>data table notebook</a>'\n",
              "          + ' to learn more about interactive tables.';\n",
              "        element.innerHTML = '';\n",
              "        dataTable['output_type'] = 'display_data';\n",
              "        await google.colab.output.renderOutput(dataTable, element);\n",
              "        const docLink = document.createElement('div');\n",
              "        docLink.innerHTML = docLinkHtml;\n",
              "        element.appendChild(docLink);\n",
              "      }\n",
              "    </script>\n",
              "  </div>\n",
              "\n",
              "\n",
              "<div id=\"df-05225618-8658-451d-83bd-12176c060e70\">\n",
              "  <button class=\"colab-df-quickchart\" onclick=\"quickchart('df-05225618-8658-451d-83bd-12176c060e70')\"\n",
              "            title=\"Suggest charts\"\n",
              "            style=\"display:none;\">\n",
              "\n",
              "<svg xmlns=\"http://www.w3.org/2000/svg\" height=\"24px\"viewBox=\"0 0 24 24\"\n",
              "     width=\"24px\">\n",
              "    <g>\n",
              "        <path d=\"M19 3H5c-1.1 0-2 .9-2 2v14c0 1.1.9 2 2 2h14c1.1 0 2-.9 2-2V5c0-1.1-.9-2-2-2zM9 17H7v-7h2v7zm4 0h-2V7h2v10zm4 0h-2v-4h2v4z\"/>\n",
              "    </g>\n",
              "</svg>\n",
              "  </button>\n",
              "\n",
              "<style>\n",
              "  .colab-df-quickchart {\n",
              "      --bg-color: #E8F0FE;\n",
              "      --fill-color: #1967D2;\n",
              "      --hover-bg-color: #E2EBFA;\n",
              "      --hover-fill-color: #174EA6;\n",
              "      --disabled-fill-color: #AAA;\n",
              "      --disabled-bg-color: #DDD;\n",
              "  }\n",
              "\n",
              "  [theme=dark] .colab-df-quickchart {\n",
              "      --bg-color: #3B4455;\n",
              "      --fill-color: #D2E3FC;\n",
              "      --hover-bg-color: #434B5C;\n",
              "      --hover-fill-color: #FFFFFF;\n",
              "      --disabled-bg-color: #3B4455;\n",
              "      --disabled-fill-color: #666;\n",
              "  }\n",
              "\n",
              "  .colab-df-quickchart {\n",
              "    background-color: var(--bg-color);\n",
              "    border: none;\n",
              "    border-radius: 50%;\n",
              "    cursor: pointer;\n",
              "    display: none;\n",
              "    fill: var(--fill-color);\n",
              "    height: 32px;\n",
              "    padding: 0;\n",
              "    width: 32px;\n",
              "  }\n",
              "\n",
              "  .colab-df-quickchart:hover {\n",
              "    background-color: var(--hover-bg-color);\n",
              "    box-shadow: 0 1px 2px rgba(60, 64, 67, 0.3), 0 1px 3px 1px rgba(60, 64, 67, 0.15);\n",
              "    fill: var(--button-hover-fill-color);\n",
              "  }\n",
              "\n",
              "  .colab-df-quickchart-complete:disabled,\n",
              "  .colab-df-quickchart-complete:disabled:hover {\n",
              "    background-color: var(--disabled-bg-color);\n",
              "    fill: var(--disabled-fill-color);\n",
              "    box-shadow: none;\n",
              "  }\n",
              "\n",
              "  .colab-df-spinner {\n",
              "    border: 2px solid var(--fill-color);\n",
              "    border-color: transparent;\n",
              "    border-bottom-color: var(--fill-color);\n",
              "    animation:\n",
              "      spin 1s steps(1) infinite;\n",
              "  }\n",
              "\n",
              "  @keyframes spin {\n",
              "    0% {\n",
              "      border-color: transparent;\n",
              "      border-bottom-color: var(--fill-color);\n",
              "      border-left-color: var(--fill-color);\n",
              "    }\n",
              "    20% {\n",
              "      border-color: transparent;\n",
              "      border-left-color: var(--fill-color);\n",
              "      border-top-color: var(--fill-color);\n",
              "    }\n",
              "    30% {\n",
              "      border-color: transparent;\n",
              "      border-left-color: var(--fill-color);\n",
              "      border-top-color: var(--fill-color);\n",
              "      border-right-color: var(--fill-color);\n",
              "    }\n",
              "    40% {\n",
              "      border-color: transparent;\n",
              "      border-right-color: var(--fill-color);\n",
              "      border-top-color: var(--fill-color);\n",
              "    }\n",
              "    60% {\n",
              "      border-color: transparent;\n",
              "      border-right-color: var(--fill-color);\n",
              "    }\n",
              "    80% {\n",
              "      border-color: transparent;\n",
              "      border-right-color: var(--fill-color);\n",
              "      border-bottom-color: var(--fill-color);\n",
              "    }\n",
              "    90% {\n",
              "      border-color: transparent;\n",
              "      border-bottom-color: var(--fill-color);\n",
              "    }\n",
              "  }\n",
              "</style>\n",
              "\n",
              "  <script>\n",
              "    async function quickchart(key) {\n",
              "      const quickchartButtonEl =\n",
              "        document.querySelector('#' + key + ' button');\n",
              "      quickchartButtonEl.disabled = true;  // To prevent multiple clicks.\n",
              "      quickchartButtonEl.classList.add('colab-df-spinner');\n",
              "      try {\n",
              "        const charts = await google.colab.kernel.invokeFunction(\n",
              "            'suggestCharts', [key], {});\n",
              "      } catch (error) {\n",
              "        console.error('Error during call to suggestCharts:', error);\n",
              "      }\n",
              "      quickchartButtonEl.classList.remove('colab-df-spinner');\n",
              "      quickchartButtonEl.classList.add('colab-df-quickchart-complete');\n",
              "    }\n",
              "    (() => {\n",
              "      let quickchartButtonEl =\n",
              "        document.querySelector('#df-05225618-8658-451d-83bd-12176c060e70 button');\n",
              "      quickchartButtonEl.style.display =\n",
              "        google.colab.kernel.accessAllowed ? 'block' : 'none';\n",
              "    })();\n",
              "  </script>\n",
              "</div>\n",
              "    </div>\n",
              "  </div>\n"
            ]
          },
          "metadata": {},
          "execution_count": 30
        }
      ],
      "source": [
        "X_train"
      ]
    },
    {
      "cell_type": "code",
      "execution_count": null,
      "metadata": {
        "colab": {
          "base_uri": "https://localhost:8080/"
        },
        "id": "traCsVOy_Ofl",
        "outputId": "d4fd4cb3-4dc0-4001-819d-7d0ab4a6e231"
      },
      "outputs": [
        {
          "output_type": "execute_result",
          "data": {
            "text/plain": [
              "40412     1134\n",
              "9339      4580\n",
              "10739      594\n",
              "34891      879\n",
              "27286    17759\n",
              "         ...  \n",
              "23452    11442\n",
              "23775    11834\n",
              "37135      971\n",
              "27098    17237\n",
              "48483     1980\n",
              "Name: price, Length: 40455, dtype: int64"
            ]
          },
          "metadata": {},
          "execution_count": 31
        }
      ],
      "source": [
        "y_train"
      ]
    },
    {
      "cell_type": "code",
      "execution_count": null,
      "metadata": {
        "colab": {
          "base_uri": "https://localhost:8080/",
          "height": 461
        },
        "id": "Iz_Fwo0w_Qk1",
        "outputId": "b62bc7aa-457f-449d-b9f1-eb2ca6eba258"
      },
      "outputs": [
        {
          "output_type": "execute_result",
          "data": {
            "text/plain": [
              "       carat  depth  table     x     y     z  cut_Good  cut_Ideal  \\\n",
              "20244   1.52   62.1   66.0  7.33  7.13  4.50         0          0   \n",
              "45013   0.54   62.0   58.0  5.21  5.18  3.22         0          0   \n",
              "53351   0.70   62.0   60.0  5.70  5.59  3.50         0          0   \n",
              "47212   0.59   62.2   58.0  5.35  5.39  3.34         0          1   \n",
              "1460    0.86   61.8   58.0  6.12  6.15  3.79         0          0   \n",
              "...      ...    ...    ...   ...   ...   ...       ...        ...   \n",
              "25096   1.51   62.4   58.0  7.26  7.33  4.55         0          0   \n",
              "9778    1.00   63.1   57.0  6.32  6.39  4.01         0          1   \n",
              "51623   0.70   59.6   63.0  5.72  5.65  3.39         0          0   \n",
              "45757   0.58   62.2   57.0  5.37  5.33  3.33         0          1   \n",
              "50228   0.71   62.7   57.0  5.71  5.64  3.56         0          0   \n",
              "\n",
              "       cut_Premium  cut_Very Good  ...  color_H  color_I  color_J  clarity_IF  \\\n",
              "20244            0              0  ...        1        0        0           0   \n",
              "45013            1              0  ...        0        0        0           0   \n",
              "53351            1              0  ...        0        0        0           0   \n",
              "47212            0              0  ...        0        0        0           0   \n",
              "1460             1              0  ...        0        0        0           0   \n",
              "...            ...            ...  ...      ...      ...      ...         ...   \n",
              "25096            0              1  ...        0        0        0           0   \n",
              "9778             0              0  ...        0        1        0           0   \n",
              "51623            0              1  ...        0        0        0           0   \n",
              "45757            0              0  ...        0        0        0           0   \n",
              "50228            1              0  ...        1        0        0           0   \n",
              "\n",
              "       clarity_SI1  clarity_SI2  clarity_VS1  clarity_VS2  clarity_VVS1  \\\n",
              "20244            0            0            0            1             0   \n",
              "45013            0            0            0            1             0   \n",
              "53351            0            0            0            1             0   \n",
              "47212            0            0            0            1             0   \n",
              "1460             0            1            0            0             0   \n",
              "...            ...          ...          ...          ...           ...   \n",
              "25096            0            0            0            1             0   \n",
              "9778             0            0            1            0             0   \n",
              "51623            1            0            0            0             0   \n",
              "45757            1            0            0            0             0   \n",
              "50228            0            1            0            0             0   \n",
              "\n",
              "       clarity_VVS2  \n",
              "20244             0  \n",
              "45013             0  \n",
              "53351             0  \n",
              "47212             0  \n",
              "1460              0  \n",
              "...             ...  \n",
              "25096             0  \n",
              "9778              0  \n",
              "51623             0  \n",
              "45757             0  \n",
              "50228             0  \n",
              "\n",
              "[13485 rows x 23 columns]"
            ],
            "text/html": [
              "\n",
              "  <div id=\"df-70cae366-76dc-46a4-89dc-f09c4d4d907e\" class=\"colab-df-container\">\n",
              "    <div>\n",
              "<style scoped>\n",
              "    .dataframe tbody tr th:only-of-type {\n",
              "        vertical-align: middle;\n",
              "    }\n",
              "\n",
              "    .dataframe tbody tr th {\n",
              "        vertical-align: top;\n",
              "    }\n",
              "\n",
              "    .dataframe thead th {\n",
              "        text-align: right;\n",
              "    }\n",
              "</style>\n",
              "<table border=\"1\" class=\"dataframe\">\n",
              "  <thead>\n",
              "    <tr style=\"text-align: right;\">\n",
              "      <th></th>\n",
              "      <th>carat</th>\n",
              "      <th>depth</th>\n",
              "      <th>table</th>\n",
              "      <th>x</th>\n",
              "      <th>y</th>\n",
              "      <th>z</th>\n",
              "      <th>cut_Good</th>\n",
              "      <th>cut_Ideal</th>\n",
              "      <th>cut_Premium</th>\n",
              "      <th>cut_Very Good</th>\n",
              "      <th>...</th>\n",
              "      <th>color_H</th>\n",
              "      <th>color_I</th>\n",
              "      <th>color_J</th>\n",
              "      <th>clarity_IF</th>\n",
              "      <th>clarity_SI1</th>\n",
              "      <th>clarity_SI2</th>\n",
              "      <th>clarity_VS1</th>\n",
              "      <th>clarity_VS2</th>\n",
              "      <th>clarity_VVS1</th>\n",
              "      <th>clarity_VVS2</th>\n",
              "    </tr>\n",
              "  </thead>\n",
              "  <tbody>\n",
              "    <tr>\n",
              "      <th>20244</th>\n",
              "      <td>1.52</td>\n",
              "      <td>62.1</td>\n",
              "      <td>66.0</td>\n",
              "      <td>7.33</td>\n",
              "      <td>7.13</td>\n",
              "      <td>4.50</td>\n",
              "      <td>0</td>\n",
              "      <td>0</td>\n",
              "      <td>0</td>\n",
              "      <td>0</td>\n",
              "      <td>...</td>\n",
              "      <td>1</td>\n",
              "      <td>0</td>\n",
              "      <td>0</td>\n",
              "      <td>0</td>\n",
              "      <td>0</td>\n",
              "      <td>0</td>\n",
              "      <td>0</td>\n",
              "      <td>1</td>\n",
              "      <td>0</td>\n",
              "      <td>0</td>\n",
              "    </tr>\n",
              "    <tr>\n",
              "      <th>45013</th>\n",
              "      <td>0.54</td>\n",
              "      <td>62.0</td>\n",
              "      <td>58.0</td>\n",
              "      <td>5.21</td>\n",
              "      <td>5.18</td>\n",
              "      <td>3.22</td>\n",
              "      <td>0</td>\n",
              "      <td>0</td>\n",
              "      <td>1</td>\n",
              "      <td>0</td>\n",
              "      <td>...</td>\n",
              "      <td>0</td>\n",
              "      <td>0</td>\n",
              "      <td>0</td>\n",
              "      <td>0</td>\n",
              "      <td>0</td>\n",
              "      <td>0</td>\n",
              "      <td>0</td>\n",
              "      <td>1</td>\n",
              "      <td>0</td>\n",
              "      <td>0</td>\n",
              "    </tr>\n",
              "    <tr>\n",
              "      <th>53351</th>\n",
              "      <td>0.70</td>\n",
              "      <td>62.0</td>\n",
              "      <td>60.0</td>\n",
              "      <td>5.70</td>\n",
              "      <td>5.59</td>\n",
              "      <td>3.50</td>\n",
              "      <td>0</td>\n",
              "      <td>0</td>\n",
              "      <td>1</td>\n",
              "      <td>0</td>\n",
              "      <td>...</td>\n",
              "      <td>0</td>\n",
              "      <td>0</td>\n",
              "      <td>0</td>\n",
              "      <td>0</td>\n",
              "      <td>0</td>\n",
              "      <td>0</td>\n",
              "      <td>0</td>\n",
              "      <td>1</td>\n",
              "      <td>0</td>\n",
              "      <td>0</td>\n",
              "    </tr>\n",
              "    <tr>\n",
              "      <th>47212</th>\n",
              "      <td>0.59</td>\n",
              "      <td>62.2</td>\n",
              "      <td>58.0</td>\n",
              "      <td>5.35</td>\n",
              "      <td>5.39</td>\n",
              "      <td>3.34</td>\n",
              "      <td>0</td>\n",
              "      <td>1</td>\n",
              "      <td>0</td>\n",
              "      <td>0</td>\n",
              "      <td>...</td>\n",
              "      <td>0</td>\n",
              "      <td>0</td>\n",
              "      <td>0</td>\n",
              "      <td>0</td>\n",
              "      <td>0</td>\n",
              "      <td>0</td>\n",
              "      <td>0</td>\n",
              "      <td>1</td>\n",
              "      <td>0</td>\n",
              "      <td>0</td>\n",
              "    </tr>\n",
              "    <tr>\n",
              "      <th>1460</th>\n",
              "      <td>0.86</td>\n",
              "      <td>61.8</td>\n",
              "      <td>58.0</td>\n",
              "      <td>6.12</td>\n",
              "      <td>6.15</td>\n",
              "      <td>3.79</td>\n",
              "      <td>0</td>\n",
              "      <td>0</td>\n",
              "      <td>1</td>\n",
              "      <td>0</td>\n",
              "      <td>...</td>\n",
              "      <td>0</td>\n",
              "      <td>0</td>\n",
              "      <td>0</td>\n",
              "      <td>0</td>\n",
              "      <td>0</td>\n",
              "      <td>1</td>\n",
              "      <td>0</td>\n",
              "      <td>0</td>\n",
              "      <td>0</td>\n",
              "      <td>0</td>\n",
              "    </tr>\n",
              "    <tr>\n",
              "      <th>...</th>\n",
              "      <td>...</td>\n",
              "      <td>...</td>\n",
              "      <td>...</td>\n",
              "      <td>...</td>\n",
              "      <td>...</td>\n",
              "      <td>...</td>\n",
              "      <td>...</td>\n",
              "      <td>...</td>\n",
              "      <td>...</td>\n",
              "      <td>...</td>\n",
              "      <td>...</td>\n",
              "      <td>...</td>\n",
              "      <td>...</td>\n",
              "      <td>...</td>\n",
              "      <td>...</td>\n",
              "      <td>...</td>\n",
              "      <td>...</td>\n",
              "      <td>...</td>\n",
              "      <td>...</td>\n",
              "      <td>...</td>\n",
              "      <td>...</td>\n",
              "    </tr>\n",
              "    <tr>\n",
              "      <th>25096</th>\n",
              "      <td>1.51</td>\n",
              "      <td>62.4</td>\n",
              "      <td>58.0</td>\n",
              "      <td>7.26</td>\n",
              "      <td>7.33</td>\n",
              "      <td>4.55</td>\n",
              "      <td>0</td>\n",
              "      <td>0</td>\n",
              "      <td>0</td>\n",
              "      <td>1</td>\n",
              "      <td>...</td>\n",
              "      <td>0</td>\n",
              "      <td>0</td>\n",
              "      <td>0</td>\n",
              "      <td>0</td>\n",
              "      <td>0</td>\n",
              "      <td>0</td>\n",
              "      <td>0</td>\n",
              "      <td>1</td>\n",
              "      <td>0</td>\n",
              "      <td>0</td>\n",
              "    </tr>\n",
              "    <tr>\n",
              "      <th>9778</th>\n",
              "      <td>1.00</td>\n",
              "      <td>63.1</td>\n",
              "      <td>57.0</td>\n",
              "      <td>6.32</td>\n",
              "      <td>6.39</td>\n",
              "      <td>4.01</td>\n",
              "      <td>0</td>\n",
              "      <td>1</td>\n",
              "      <td>0</td>\n",
              "      <td>0</td>\n",
              "      <td>...</td>\n",
              "      <td>0</td>\n",
              "      <td>1</td>\n",
              "      <td>0</td>\n",
              "      <td>0</td>\n",
              "      <td>0</td>\n",
              "      <td>0</td>\n",
              "      <td>1</td>\n",
              "      <td>0</td>\n",
              "      <td>0</td>\n",
              "      <td>0</td>\n",
              "    </tr>\n",
              "    <tr>\n",
              "      <th>51623</th>\n",
              "      <td>0.70</td>\n",
              "      <td>59.6</td>\n",
              "      <td>63.0</td>\n",
              "      <td>5.72</td>\n",
              "      <td>5.65</td>\n",
              "      <td>3.39</td>\n",
              "      <td>0</td>\n",
              "      <td>0</td>\n",
              "      <td>0</td>\n",
              "      <td>1</td>\n",
              "      <td>...</td>\n",
              "      <td>0</td>\n",
              "      <td>0</td>\n",
              "      <td>0</td>\n",
              "      <td>0</td>\n",
              "      <td>1</td>\n",
              "      <td>0</td>\n",
              "      <td>0</td>\n",
              "      <td>0</td>\n",
              "      <td>0</td>\n",
              "      <td>0</td>\n",
              "    </tr>\n",
              "    <tr>\n",
              "      <th>45757</th>\n",
              "      <td>0.58</td>\n",
              "      <td>62.2</td>\n",
              "      <td>57.0</td>\n",
              "      <td>5.37</td>\n",
              "      <td>5.33</td>\n",
              "      <td>3.33</td>\n",
              "      <td>0</td>\n",
              "      <td>1</td>\n",
              "      <td>0</td>\n",
              "      <td>0</td>\n",
              "      <td>...</td>\n",
              "      <td>0</td>\n",
              "      <td>0</td>\n",
              "      <td>0</td>\n",
              "      <td>0</td>\n",
              "      <td>1</td>\n",
              "      <td>0</td>\n",
              "      <td>0</td>\n",
              "      <td>0</td>\n",
              "      <td>0</td>\n",
              "      <td>0</td>\n",
              "    </tr>\n",
              "    <tr>\n",
              "      <th>50228</th>\n",
              "      <td>0.71</td>\n",
              "      <td>62.7</td>\n",
              "      <td>57.0</td>\n",
              "      <td>5.71</td>\n",
              "      <td>5.64</td>\n",
              "      <td>3.56</td>\n",
              "      <td>0</td>\n",
              "      <td>0</td>\n",
              "      <td>1</td>\n",
              "      <td>0</td>\n",
              "      <td>...</td>\n",
              "      <td>1</td>\n",
              "      <td>0</td>\n",
              "      <td>0</td>\n",
              "      <td>0</td>\n",
              "      <td>0</td>\n",
              "      <td>1</td>\n",
              "      <td>0</td>\n",
              "      <td>0</td>\n",
              "      <td>0</td>\n",
              "      <td>0</td>\n",
              "    </tr>\n",
              "  </tbody>\n",
              "</table>\n",
              "<p>13485 rows × 23 columns</p>\n",
              "</div>\n",
              "    <div class=\"colab-df-buttons\">\n",
              "\n",
              "  <div class=\"colab-df-container\">\n",
              "    <button class=\"colab-df-convert\" onclick=\"convertToInteractive('df-70cae366-76dc-46a4-89dc-f09c4d4d907e')\"\n",
              "            title=\"Convert this dataframe to an interactive table.\"\n",
              "            style=\"display:none;\">\n",
              "\n",
              "  <svg xmlns=\"http://www.w3.org/2000/svg\" height=\"24px\" viewBox=\"0 -960 960 960\">\n",
              "    <path d=\"M120-120v-720h720v720H120Zm60-500h600v-160H180v160Zm220 220h160v-160H400v160Zm0 220h160v-160H400v160ZM180-400h160v-160H180v160Zm440 0h160v-160H620v160ZM180-180h160v-160H180v160Zm440 0h160v-160H620v160Z\"/>\n",
              "  </svg>\n",
              "    </button>\n",
              "\n",
              "  <style>\n",
              "    .colab-df-container {\n",
              "      display:flex;\n",
              "      gap: 12px;\n",
              "    }\n",
              "\n",
              "    .colab-df-convert {\n",
              "      background-color: #E8F0FE;\n",
              "      border: none;\n",
              "      border-radius: 50%;\n",
              "      cursor: pointer;\n",
              "      display: none;\n",
              "      fill: #1967D2;\n",
              "      height: 32px;\n",
              "      padding: 0 0 0 0;\n",
              "      width: 32px;\n",
              "    }\n",
              "\n",
              "    .colab-df-convert:hover {\n",
              "      background-color: #E2EBFA;\n",
              "      box-shadow: 0px 1px 2px rgba(60, 64, 67, 0.3), 0px 1px 3px 1px rgba(60, 64, 67, 0.15);\n",
              "      fill: #174EA6;\n",
              "    }\n",
              "\n",
              "    .colab-df-buttons div {\n",
              "      margin-bottom: 4px;\n",
              "    }\n",
              "\n",
              "    [theme=dark] .colab-df-convert {\n",
              "      background-color: #3B4455;\n",
              "      fill: #D2E3FC;\n",
              "    }\n",
              "\n",
              "    [theme=dark] .colab-df-convert:hover {\n",
              "      background-color: #434B5C;\n",
              "      box-shadow: 0px 1px 3px 1px rgba(0, 0, 0, 0.15);\n",
              "      filter: drop-shadow(0px 1px 2px rgba(0, 0, 0, 0.3));\n",
              "      fill: #FFFFFF;\n",
              "    }\n",
              "  </style>\n",
              "\n",
              "    <script>\n",
              "      const buttonEl =\n",
              "        document.querySelector('#df-70cae366-76dc-46a4-89dc-f09c4d4d907e button.colab-df-convert');\n",
              "      buttonEl.style.display =\n",
              "        google.colab.kernel.accessAllowed ? 'block' : 'none';\n",
              "\n",
              "      async function convertToInteractive(key) {\n",
              "        const element = document.querySelector('#df-70cae366-76dc-46a4-89dc-f09c4d4d907e');\n",
              "        const dataTable =\n",
              "          await google.colab.kernel.invokeFunction('convertToInteractive',\n",
              "                                                    [key], {});\n",
              "        if (!dataTable) return;\n",
              "\n",
              "        const docLinkHtml = 'Like what you see? Visit the ' +\n",
              "          '<a target=\"_blank\" href=https://colab.research.google.com/notebooks/data_table.ipynb>data table notebook</a>'\n",
              "          + ' to learn more about interactive tables.';\n",
              "        element.innerHTML = '';\n",
              "        dataTable['output_type'] = 'display_data';\n",
              "        await google.colab.output.renderOutput(dataTable, element);\n",
              "        const docLink = document.createElement('div');\n",
              "        docLink.innerHTML = docLinkHtml;\n",
              "        element.appendChild(docLink);\n",
              "      }\n",
              "    </script>\n",
              "  </div>\n",
              "\n",
              "\n",
              "<div id=\"df-3d27c353-c14c-46d2-9e1f-968e19db4c85\">\n",
              "  <button class=\"colab-df-quickchart\" onclick=\"quickchart('df-3d27c353-c14c-46d2-9e1f-968e19db4c85')\"\n",
              "            title=\"Suggest charts\"\n",
              "            style=\"display:none;\">\n",
              "\n",
              "<svg xmlns=\"http://www.w3.org/2000/svg\" height=\"24px\"viewBox=\"0 0 24 24\"\n",
              "     width=\"24px\">\n",
              "    <g>\n",
              "        <path d=\"M19 3H5c-1.1 0-2 .9-2 2v14c0 1.1.9 2 2 2h14c1.1 0 2-.9 2-2V5c0-1.1-.9-2-2-2zM9 17H7v-7h2v7zm4 0h-2V7h2v10zm4 0h-2v-4h2v4z\"/>\n",
              "    </g>\n",
              "</svg>\n",
              "  </button>\n",
              "\n",
              "<style>\n",
              "  .colab-df-quickchart {\n",
              "      --bg-color: #E8F0FE;\n",
              "      --fill-color: #1967D2;\n",
              "      --hover-bg-color: #E2EBFA;\n",
              "      --hover-fill-color: #174EA6;\n",
              "      --disabled-fill-color: #AAA;\n",
              "      --disabled-bg-color: #DDD;\n",
              "  }\n",
              "\n",
              "  [theme=dark] .colab-df-quickchart {\n",
              "      --bg-color: #3B4455;\n",
              "      --fill-color: #D2E3FC;\n",
              "      --hover-bg-color: #434B5C;\n",
              "      --hover-fill-color: #FFFFFF;\n",
              "      --disabled-bg-color: #3B4455;\n",
              "      --disabled-fill-color: #666;\n",
              "  }\n",
              "\n",
              "  .colab-df-quickchart {\n",
              "    background-color: var(--bg-color);\n",
              "    border: none;\n",
              "    border-radius: 50%;\n",
              "    cursor: pointer;\n",
              "    display: none;\n",
              "    fill: var(--fill-color);\n",
              "    height: 32px;\n",
              "    padding: 0;\n",
              "    width: 32px;\n",
              "  }\n",
              "\n",
              "  .colab-df-quickchart:hover {\n",
              "    background-color: var(--hover-bg-color);\n",
              "    box-shadow: 0 1px 2px rgba(60, 64, 67, 0.3), 0 1px 3px 1px rgba(60, 64, 67, 0.15);\n",
              "    fill: var(--button-hover-fill-color);\n",
              "  }\n",
              "\n",
              "  .colab-df-quickchart-complete:disabled,\n",
              "  .colab-df-quickchart-complete:disabled:hover {\n",
              "    background-color: var(--disabled-bg-color);\n",
              "    fill: var(--disabled-fill-color);\n",
              "    box-shadow: none;\n",
              "  }\n",
              "\n",
              "  .colab-df-spinner {\n",
              "    border: 2px solid var(--fill-color);\n",
              "    border-color: transparent;\n",
              "    border-bottom-color: var(--fill-color);\n",
              "    animation:\n",
              "      spin 1s steps(1) infinite;\n",
              "  }\n",
              "\n",
              "  @keyframes spin {\n",
              "    0% {\n",
              "      border-color: transparent;\n",
              "      border-bottom-color: var(--fill-color);\n",
              "      border-left-color: var(--fill-color);\n",
              "    }\n",
              "    20% {\n",
              "      border-color: transparent;\n",
              "      border-left-color: var(--fill-color);\n",
              "      border-top-color: var(--fill-color);\n",
              "    }\n",
              "    30% {\n",
              "      border-color: transparent;\n",
              "      border-left-color: var(--fill-color);\n",
              "      border-top-color: var(--fill-color);\n",
              "      border-right-color: var(--fill-color);\n",
              "    }\n",
              "    40% {\n",
              "      border-color: transparent;\n",
              "      border-right-color: var(--fill-color);\n",
              "      border-top-color: var(--fill-color);\n",
              "    }\n",
              "    60% {\n",
              "      border-color: transparent;\n",
              "      border-right-color: var(--fill-color);\n",
              "    }\n",
              "    80% {\n",
              "      border-color: transparent;\n",
              "      border-right-color: var(--fill-color);\n",
              "      border-bottom-color: var(--fill-color);\n",
              "    }\n",
              "    90% {\n",
              "      border-color: transparent;\n",
              "      border-bottom-color: var(--fill-color);\n",
              "    }\n",
              "  }\n",
              "</style>\n",
              "\n",
              "  <script>\n",
              "    async function quickchart(key) {\n",
              "      const quickchartButtonEl =\n",
              "        document.querySelector('#' + key + ' button');\n",
              "      quickchartButtonEl.disabled = true;  // To prevent multiple clicks.\n",
              "      quickchartButtonEl.classList.add('colab-df-spinner');\n",
              "      try {\n",
              "        const charts = await google.colab.kernel.invokeFunction(\n",
              "            'suggestCharts', [key], {});\n",
              "      } catch (error) {\n",
              "        console.error('Error during call to suggestCharts:', error);\n",
              "      }\n",
              "      quickchartButtonEl.classList.remove('colab-df-spinner');\n",
              "      quickchartButtonEl.classList.add('colab-df-quickchart-complete');\n",
              "    }\n",
              "    (() => {\n",
              "      let quickchartButtonEl =\n",
              "        document.querySelector('#df-3d27c353-c14c-46d2-9e1f-968e19db4c85 button');\n",
              "      quickchartButtonEl.style.display =\n",
              "        google.colab.kernel.accessAllowed ? 'block' : 'none';\n",
              "    })();\n",
              "  </script>\n",
              "</div>\n",
              "    </div>\n",
              "  </div>\n"
            ]
          },
          "metadata": {},
          "execution_count": 32
        }
      ],
      "source": [
        "X_test"
      ]
    },
    {
      "cell_type": "code",
      "execution_count": null,
      "metadata": {
        "colab": {
          "base_uri": "https://localhost:8080/"
        },
        "id": "i0aW8hbT_WbN",
        "outputId": "b3305fc0-c5c4-44c3-be8a-600e01ca6bcf"
      },
      "outputs": [
        {
          "output_type": "execute_result",
          "data": {
            "text/plain": [
              "20244     8674\n",
              "45013     1637\n",
              "53351     2657\n",
              "47212     1838\n",
              "1460      2980\n",
              "         ...  \n",
              "25096    13623\n",
              "9778      4664\n",
              "51623     2396\n",
              "45757     1705\n",
              "50228     2231\n",
              "Name: price, Length: 13485, dtype: int64"
            ]
          },
          "metadata": {},
          "execution_count": 33
        }
      ],
      "source": [
        "y_test"
      ]
    },
    {
      "cell_type": "code",
      "execution_count": null,
      "metadata": {
        "colab": {
          "base_uri": "https://localhost:8080/"
        },
        "id": "z2KnhLG9DO6T",
        "outputId": "8e40f413-f79d-46c6-f10c-5e53f8557400"
      },
      "outputs": [
        {
          "output_type": "stream",
          "name": "stdout",
          "text": [
            "El tamaño de X_train es:  (40455, 23)\n",
            "El tamaño de X_test es:  (13485, 23)\n",
            "El tamaño de y_train es:  (40455,)\n",
            "El tamaño de y_test es:  (13485,)\n"
          ]
        }
      ],
      "source": [
        "print(\"El tamaño de X_train es: \", X_train.shape)\n",
        "print(\"El tamaño de X_test es: \",X_test.shape)\n",
        "print(\"El tamaño de y_train es: \",y_train.shape)\n",
        "print(\"El tamaño de y_test es: \",y_test.shape)"
      ]
    },
    {
      "cell_type": "markdown",
      "metadata": {
        "id": "-Hm1PCKm_9Pg"
      },
      "source": [
        "#Entrenamiento"
      ]
    },
    {
      "cell_type": "markdown",
      "metadata": {
        "id": "YKP6Pim-DS-6"
      },
      "source": [
        "##KNN"
      ]
    },
    {
      "cell_type": "code",
      "execution_count": null,
      "metadata": {
        "id": "4xfy8S0D__fx"
      },
      "outputs": [],
      "source": [
        "# Importamos el modelo que utilizaremos. KNN:\n",
        "\n",
        "from sklearn.neighbors import KNeighborsRegressor"
      ]
    },
    {
      "cell_type": "code",
      "execution_count": null,
      "metadata": {
        "id": "9X8CVgZhD49o"
      },
      "outputs": [],
      "source": [
        "# Instanciamos el modelo que utilizaremos KKN con el hiperárametro de cantidad de vecinos, en este caso 8\n",
        "\n",
        "knn_k8 = KNeighborsRegressor(n_neighbors = 8)"
      ]
    },
    {
      "cell_type": "code",
      "execution_count": null,
      "metadata": {
        "colab": {
          "base_uri": "https://localhost:8080/",
          "height": 74
        },
        "id": "extended-prophet",
        "outputId": "786135dd-aee0-4582-a366-05d0d59896d3"
      },
      "outputs": [
        {
          "output_type": "execute_result",
          "data": {
            "text/plain": [
              "KNeighborsRegressor(n_neighbors=8)"
            ],
            "text/html": [
              "<style>#sk-container-id-2 {color: black;background-color: white;}#sk-container-id-2 pre{padding: 0;}#sk-container-id-2 div.sk-toggleable {background-color: white;}#sk-container-id-2 label.sk-toggleable__label {cursor: pointer;display: block;width: 100%;margin-bottom: 0;padding: 0.3em;box-sizing: border-box;text-align: center;}#sk-container-id-2 label.sk-toggleable__label-arrow:before {content: \"▸\";float: left;margin-right: 0.25em;color: #696969;}#sk-container-id-2 label.sk-toggleable__label-arrow:hover:before {color: black;}#sk-container-id-2 div.sk-estimator:hover label.sk-toggleable__label-arrow:before {color: black;}#sk-container-id-2 div.sk-toggleable__content {max-height: 0;max-width: 0;overflow: hidden;text-align: left;background-color: #f0f8ff;}#sk-container-id-2 div.sk-toggleable__content pre {margin: 0.2em;color: black;border-radius: 0.25em;background-color: #f0f8ff;}#sk-container-id-2 input.sk-toggleable__control:checked~div.sk-toggleable__content {max-height: 200px;max-width: 100%;overflow: auto;}#sk-container-id-2 input.sk-toggleable__control:checked~label.sk-toggleable__label-arrow:before {content: \"▾\";}#sk-container-id-2 div.sk-estimator input.sk-toggleable__control:checked~label.sk-toggleable__label {background-color: #d4ebff;}#sk-container-id-2 div.sk-label input.sk-toggleable__control:checked~label.sk-toggleable__label {background-color: #d4ebff;}#sk-container-id-2 input.sk-hidden--visually {border: 0;clip: rect(1px 1px 1px 1px);clip: rect(1px, 1px, 1px, 1px);height: 1px;margin: -1px;overflow: hidden;padding: 0;position: absolute;width: 1px;}#sk-container-id-2 div.sk-estimator {font-family: monospace;background-color: #f0f8ff;border: 1px dotted black;border-radius: 0.25em;box-sizing: border-box;margin-bottom: 0.5em;}#sk-container-id-2 div.sk-estimator:hover {background-color: #d4ebff;}#sk-container-id-2 div.sk-parallel-item::after {content: \"\";width: 100%;border-bottom: 1px solid gray;flex-grow: 1;}#sk-container-id-2 div.sk-label:hover label.sk-toggleable__label {background-color: #d4ebff;}#sk-container-id-2 div.sk-serial::before {content: \"\";position: absolute;border-left: 1px solid gray;box-sizing: border-box;top: 0;bottom: 0;left: 50%;z-index: 0;}#sk-container-id-2 div.sk-serial {display: flex;flex-direction: column;align-items: center;background-color: white;padding-right: 0.2em;padding-left: 0.2em;position: relative;}#sk-container-id-2 div.sk-item {position: relative;z-index: 1;}#sk-container-id-2 div.sk-parallel {display: flex;align-items: stretch;justify-content: center;background-color: white;position: relative;}#sk-container-id-2 div.sk-item::before, #sk-container-id-2 div.sk-parallel-item::before {content: \"\";position: absolute;border-left: 1px solid gray;box-sizing: border-box;top: 0;bottom: 0;left: 50%;z-index: -1;}#sk-container-id-2 div.sk-parallel-item {display: flex;flex-direction: column;z-index: 1;position: relative;background-color: white;}#sk-container-id-2 div.sk-parallel-item:first-child::after {align-self: flex-end;width: 50%;}#sk-container-id-2 div.sk-parallel-item:last-child::after {align-self: flex-start;width: 50%;}#sk-container-id-2 div.sk-parallel-item:only-child::after {width: 0;}#sk-container-id-2 div.sk-dashed-wrapped {border: 1px dashed gray;margin: 0 0.4em 0.5em 0.4em;box-sizing: border-box;padding-bottom: 0.4em;background-color: white;}#sk-container-id-2 div.sk-label label {font-family: monospace;font-weight: bold;display: inline-block;line-height: 1.2em;}#sk-container-id-2 div.sk-label-container {text-align: center;}#sk-container-id-2 div.sk-container {/* jupyter's `normalize.less` sets `[hidden] { display: none; }` but bootstrap.min.css set `[hidden] { display: none !important; }` so we also need the `!important` here to be able to override the default hidden behavior on the sphinx rendered scikit-learn.org. See: https://github.com/scikit-learn/scikit-learn/issues/21755 */display: inline-block !important;position: relative;}#sk-container-id-2 div.sk-text-repr-fallback {display: none;}</style><div id=\"sk-container-id-2\" class=\"sk-top-container\"><div class=\"sk-text-repr-fallback\"><pre>KNeighborsRegressor(n_neighbors=8)</pre><b>In a Jupyter environment, please rerun this cell to show the HTML representation or trust the notebook. <br />On GitHub, the HTML representation is unable to render, please try loading this page with nbviewer.org.</b></div><div class=\"sk-container\" hidden><div class=\"sk-item\"><div class=\"sk-estimator sk-toggleable\"><input class=\"sk-toggleable__control sk-hidden--visually\" id=\"sk-estimator-id-2\" type=\"checkbox\" checked><label for=\"sk-estimator-id-2\" class=\"sk-toggleable__label sk-toggleable__label-arrow\">KNeighborsRegressor</label><div class=\"sk-toggleable__content\"><pre>KNeighborsRegressor(n_neighbors=8)</pre></div></div></div></div></div>"
            ]
          },
          "metadata": {},
          "execution_count": 22
        }
      ],
      "source": [
        "knn_k8"
      ]
    },
    {
      "cell_type": "code",
      "execution_count": null,
      "metadata": {
        "colab": {
          "base_uri": "https://localhost:8080/",
          "height": 74
        },
        "id": "satisfactory-capability",
        "outputId": "eedd840c-8b32-44fa-9178-9561fb7f806d"
      },
      "outputs": [
        {
          "output_type": "execute_result",
          "data": {
            "text/plain": [
              "KNeighborsRegressor(n_neighbors=8)"
            ],
            "text/html": [
              "<style>#sk-container-id-3 {color: black;background-color: white;}#sk-container-id-3 pre{padding: 0;}#sk-container-id-3 div.sk-toggleable {background-color: white;}#sk-container-id-3 label.sk-toggleable__label {cursor: pointer;display: block;width: 100%;margin-bottom: 0;padding: 0.3em;box-sizing: border-box;text-align: center;}#sk-container-id-3 label.sk-toggleable__label-arrow:before {content: \"▸\";float: left;margin-right: 0.25em;color: #696969;}#sk-container-id-3 label.sk-toggleable__label-arrow:hover:before {color: black;}#sk-container-id-3 div.sk-estimator:hover label.sk-toggleable__label-arrow:before {color: black;}#sk-container-id-3 div.sk-toggleable__content {max-height: 0;max-width: 0;overflow: hidden;text-align: left;background-color: #f0f8ff;}#sk-container-id-3 div.sk-toggleable__content pre {margin: 0.2em;color: black;border-radius: 0.25em;background-color: #f0f8ff;}#sk-container-id-3 input.sk-toggleable__control:checked~div.sk-toggleable__content {max-height: 200px;max-width: 100%;overflow: auto;}#sk-container-id-3 input.sk-toggleable__control:checked~label.sk-toggleable__label-arrow:before {content: \"▾\";}#sk-container-id-3 div.sk-estimator input.sk-toggleable__control:checked~label.sk-toggleable__label {background-color: #d4ebff;}#sk-container-id-3 div.sk-label input.sk-toggleable__control:checked~label.sk-toggleable__label {background-color: #d4ebff;}#sk-container-id-3 input.sk-hidden--visually {border: 0;clip: rect(1px 1px 1px 1px);clip: rect(1px, 1px, 1px, 1px);height: 1px;margin: -1px;overflow: hidden;padding: 0;position: absolute;width: 1px;}#sk-container-id-3 div.sk-estimator {font-family: monospace;background-color: #f0f8ff;border: 1px dotted black;border-radius: 0.25em;box-sizing: border-box;margin-bottom: 0.5em;}#sk-container-id-3 div.sk-estimator:hover {background-color: #d4ebff;}#sk-container-id-3 div.sk-parallel-item::after {content: \"\";width: 100%;border-bottom: 1px solid gray;flex-grow: 1;}#sk-container-id-3 div.sk-label:hover label.sk-toggleable__label {background-color: #d4ebff;}#sk-container-id-3 div.sk-serial::before {content: \"\";position: absolute;border-left: 1px solid gray;box-sizing: border-box;top: 0;bottom: 0;left: 50%;z-index: 0;}#sk-container-id-3 div.sk-serial {display: flex;flex-direction: column;align-items: center;background-color: white;padding-right: 0.2em;padding-left: 0.2em;position: relative;}#sk-container-id-3 div.sk-item {position: relative;z-index: 1;}#sk-container-id-3 div.sk-parallel {display: flex;align-items: stretch;justify-content: center;background-color: white;position: relative;}#sk-container-id-3 div.sk-item::before, #sk-container-id-3 div.sk-parallel-item::before {content: \"\";position: absolute;border-left: 1px solid gray;box-sizing: border-box;top: 0;bottom: 0;left: 50%;z-index: -1;}#sk-container-id-3 div.sk-parallel-item {display: flex;flex-direction: column;z-index: 1;position: relative;background-color: white;}#sk-container-id-3 div.sk-parallel-item:first-child::after {align-self: flex-end;width: 50%;}#sk-container-id-3 div.sk-parallel-item:last-child::after {align-self: flex-start;width: 50%;}#sk-container-id-3 div.sk-parallel-item:only-child::after {width: 0;}#sk-container-id-3 div.sk-dashed-wrapped {border: 1px dashed gray;margin: 0 0.4em 0.5em 0.4em;box-sizing: border-box;padding-bottom: 0.4em;background-color: white;}#sk-container-id-3 div.sk-label label {font-family: monospace;font-weight: bold;display: inline-block;line-height: 1.2em;}#sk-container-id-3 div.sk-label-container {text-align: center;}#sk-container-id-3 div.sk-container {/* jupyter's `normalize.less` sets `[hidden] { display: none; }` but bootstrap.min.css set `[hidden] { display: none !important; }` so we also need the `!important` here to be able to override the default hidden behavior on the sphinx rendered scikit-learn.org. See: https://github.com/scikit-learn/scikit-learn/issues/21755 */display: inline-block !important;position: relative;}#sk-container-id-3 div.sk-text-repr-fallback {display: none;}</style><div id=\"sk-container-id-3\" class=\"sk-top-container\"><div class=\"sk-text-repr-fallback\"><pre>KNeighborsRegressor(n_neighbors=8)</pre><b>In a Jupyter environment, please rerun this cell to show the HTML representation or trust the notebook. <br />On GitHub, the HTML representation is unable to render, please try loading this page with nbviewer.org.</b></div><div class=\"sk-container\" hidden><div class=\"sk-item\"><div class=\"sk-estimator sk-toggleable\"><input class=\"sk-toggleable__control sk-hidden--visually\" id=\"sk-estimator-id-3\" type=\"checkbox\" checked><label for=\"sk-estimator-id-3\" class=\"sk-toggleable__label sk-toggleable__label-arrow\">KNeighborsRegressor</label><div class=\"sk-toggleable__content\"><pre>KNeighborsRegressor(n_neighbors=8)</pre></div></div></div></div></div>"
            ]
          },
          "metadata": {},
          "execution_count": 23
        }
      ],
      "source": [
        "# Entrenamos el modelo\n",
        "\n",
        "knn_k8.fit(X_train, y_train)"
      ]
    },
    {
      "cell_type": "markdown",
      "source": [
        "##### Evaluación de datos de train"
      ],
      "metadata": {
        "id": "dZ8klFnVhKiL"
      }
    },
    {
      "cell_type": "code",
      "source": [
        "from sklearn.metrics import r2_score\n",
        "y_pred_knn8_train= knn_k8.predict(X_train)\n",
        "r2_train_knn8 = r2_score(y_train, y_pred_knn8_train)\n",
        "r2_train_knn8"
      ],
      "metadata": {
        "colab": {
          "base_uri": "https://localhost:8080/"
        },
        "id": "vF5ZgHN5eNyu",
        "outputId": "08e10b70-3d92-4e4f-f2e4-4ebd45d6a602"
      },
      "execution_count": null,
      "outputs": [
        {
          "output_type": "execute_result",
          "data": {
            "text/plain": [
              "0.9507990948703336"
            ]
          },
          "metadata": {},
          "execution_count": 24
        }
      ]
    },
    {
      "cell_type": "markdown",
      "metadata": {
        "id": "thqPoSbthd-q"
      },
      "source": [
        "##### Probar el modelo y medir la performance"
      ]
    },
    {
      "cell_type": "code",
      "execution_count": null,
      "metadata": {
        "id": "pvl0edg9_BOY",
        "colab": {
          "base_uri": "https://localhost:8080/"
        },
        "outputId": "1f0395b5-836f-42c7-c993-137fe959f995"
      },
      "outputs": [
        {
          "output_type": "execute_result",
          "data": {
            "text/plain": [
              "array([6634.875, 1453.125, 2860.75 , ..., 2389.375, 1899.875, 2422.625])"
            ]
          },
          "metadata": {},
          "execution_count": 25
        }
      ],
      "source": [
        "# Probamos nuestro modelo con los datos de test\n",
        "\n",
        "y_pred_data_knn8 = knn_k8.predict(X_test)\n",
        "y_pred_data_knn8"
      ]
    },
    {
      "cell_type": "code",
      "execution_count": null,
      "metadata": {
        "id": "zU-tB0mseOZK",
        "colab": {
          "base_uri": "https://localhost:8080/"
        },
        "outputId": "60b6b5fb-c7c8-4bc7-ef19-16549977f656"
      },
      "outputs": [
        {
          "output_type": "execute_result",
          "data": {
            "text/plain": [
              "0.9343853906491799"
            ]
          },
          "metadata": {},
          "execution_count": 26
        }
      ],
      "source": [
        "# La métrica que se utiliza para medir la performance de un modelo de regresión lineal es R2\n",
        "r2_knn = r2_score(y_test,y_pred_data_knn8)\n",
        "r2_knn\n",
        "\n",
        "#Cuanto más cerca de 1 mejor el modelo"
      ]
    },
    {
      "cell_type": "markdown",
      "source": [
        "#Regresion Lineal"
      ],
      "metadata": {
        "id": "KNkra4Yv5gD2"
      }
    },
    {
      "cell_type": "code",
      "execution_count": null,
      "metadata": {
        "id": "B0PkGmhveOZI"
      },
      "outputs": [],
      "source": [
        "# Importamos el modelo que utilizaremos. Regresión lineal:\n",
        "\n",
        "from sklearn.linear_model import LinearRegression"
      ]
    },
    {
      "cell_type": "code",
      "execution_count": null,
      "metadata": {
        "id": "0AdlL0NkeOZI"
      },
      "outputs": [],
      "source": [
        "# Definimos un objeto con el modelo importado, en este caso los hiperparametros son por default por lo que el parentesis está vacio\n",
        "\n",
        "modelo_rl = LinearRegression()"
      ]
    },
    {
      "cell_type": "code",
      "execution_count": null,
      "metadata": {
        "id": "H5GBHuMweOZI",
        "colab": {
          "base_uri": "https://localhost:8080/",
          "height": 74
        },
        "outputId": "52320b37-627d-4e82-ed00-567506ef9484"
      },
      "outputs": [
        {
          "output_type": "execute_result",
          "data": {
            "text/plain": [
              "LinearRegression()"
            ],
            "text/html": [
              "<style>#sk-container-id-4 {color: black;background-color: white;}#sk-container-id-4 pre{padding: 0;}#sk-container-id-4 div.sk-toggleable {background-color: white;}#sk-container-id-4 label.sk-toggleable__label {cursor: pointer;display: block;width: 100%;margin-bottom: 0;padding: 0.3em;box-sizing: border-box;text-align: center;}#sk-container-id-4 label.sk-toggleable__label-arrow:before {content: \"▸\";float: left;margin-right: 0.25em;color: #696969;}#sk-container-id-4 label.sk-toggleable__label-arrow:hover:before {color: black;}#sk-container-id-4 div.sk-estimator:hover label.sk-toggleable__label-arrow:before {color: black;}#sk-container-id-4 div.sk-toggleable__content {max-height: 0;max-width: 0;overflow: hidden;text-align: left;background-color: #f0f8ff;}#sk-container-id-4 div.sk-toggleable__content pre {margin: 0.2em;color: black;border-radius: 0.25em;background-color: #f0f8ff;}#sk-container-id-4 input.sk-toggleable__control:checked~div.sk-toggleable__content {max-height: 200px;max-width: 100%;overflow: auto;}#sk-container-id-4 input.sk-toggleable__control:checked~label.sk-toggleable__label-arrow:before {content: \"▾\";}#sk-container-id-4 div.sk-estimator input.sk-toggleable__control:checked~label.sk-toggleable__label {background-color: #d4ebff;}#sk-container-id-4 div.sk-label input.sk-toggleable__control:checked~label.sk-toggleable__label {background-color: #d4ebff;}#sk-container-id-4 input.sk-hidden--visually {border: 0;clip: rect(1px 1px 1px 1px);clip: rect(1px, 1px, 1px, 1px);height: 1px;margin: -1px;overflow: hidden;padding: 0;position: absolute;width: 1px;}#sk-container-id-4 div.sk-estimator {font-family: monospace;background-color: #f0f8ff;border: 1px dotted black;border-radius: 0.25em;box-sizing: border-box;margin-bottom: 0.5em;}#sk-container-id-4 div.sk-estimator:hover {background-color: #d4ebff;}#sk-container-id-4 div.sk-parallel-item::after {content: \"\";width: 100%;border-bottom: 1px solid gray;flex-grow: 1;}#sk-container-id-4 div.sk-label:hover label.sk-toggleable__label {background-color: #d4ebff;}#sk-container-id-4 div.sk-serial::before {content: \"\";position: absolute;border-left: 1px solid gray;box-sizing: border-box;top: 0;bottom: 0;left: 50%;z-index: 0;}#sk-container-id-4 div.sk-serial {display: flex;flex-direction: column;align-items: center;background-color: white;padding-right: 0.2em;padding-left: 0.2em;position: relative;}#sk-container-id-4 div.sk-item {position: relative;z-index: 1;}#sk-container-id-4 div.sk-parallel {display: flex;align-items: stretch;justify-content: center;background-color: white;position: relative;}#sk-container-id-4 div.sk-item::before, #sk-container-id-4 div.sk-parallel-item::before {content: \"\";position: absolute;border-left: 1px solid gray;box-sizing: border-box;top: 0;bottom: 0;left: 50%;z-index: -1;}#sk-container-id-4 div.sk-parallel-item {display: flex;flex-direction: column;z-index: 1;position: relative;background-color: white;}#sk-container-id-4 div.sk-parallel-item:first-child::after {align-self: flex-end;width: 50%;}#sk-container-id-4 div.sk-parallel-item:last-child::after {align-self: flex-start;width: 50%;}#sk-container-id-4 div.sk-parallel-item:only-child::after {width: 0;}#sk-container-id-4 div.sk-dashed-wrapped {border: 1px dashed gray;margin: 0 0.4em 0.5em 0.4em;box-sizing: border-box;padding-bottom: 0.4em;background-color: white;}#sk-container-id-4 div.sk-label label {font-family: monospace;font-weight: bold;display: inline-block;line-height: 1.2em;}#sk-container-id-4 div.sk-label-container {text-align: center;}#sk-container-id-4 div.sk-container {/* jupyter's `normalize.less` sets `[hidden] { display: none; }` but bootstrap.min.css set `[hidden] { display: none !important; }` so we also need the `!important` here to be able to override the default hidden behavior on the sphinx rendered scikit-learn.org. See: https://github.com/scikit-learn/scikit-learn/issues/21755 */display: inline-block !important;position: relative;}#sk-container-id-4 div.sk-text-repr-fallback {display: none;}</style><div id=\"sk-container-id-4\" class=\"sk-top-container\"><div class=\"sk-text-repr-fallback\"><pre>LinearRegression()</pre><b>In a Jupyter environment, please rerun this cell to show the HTML representation or trust the notebook. <br />On GitHub, the HTML representation is unable to render, please try loading this page with nbviewer.org.</b></div><div class=\"sk-container\" hidden><div class=\"sk-item\"><div class=\"sk-estimator sk-toggleable\"><input class=\"sk-toggleable__control sk-hidden--visually\" id=\"sk-estimator-id-4\" type=\"checkbox\" checked><label for=\"sk-estimator-id-4\" class=\"sk-toggleable__label sk-toggleable__label-arrow\">LinearRegression</label><div class=\"sk-toggleable__content\"><pre>LinearRegression()</pre></div></div></div></div></div>"
            ]
          },
          "metadata": {},
          "execution_count": 29
        }
      ],
      "source": [
        "# Realizamos el entrenamiento del modelo con el método fit y los datos de entrenamiento\n",
        "\n",
        "modelo_rl.fit(X_train, y_train)"
      ]
    },
    {
      "cell_type": "code",
      "execution_count": null,
      "metadata": {
        "id": "hvKveSmreOZJ",
        "colab": {
          "base_uri": "https://localhost:8080/"
        },
        "outputId": "1b5e72c8-7958-4b4b-c8b5-a8f0654f2703"
      },
      "outputs": [
        {
          "output_type": "execute_result",
          "data": {
            "text/plain": [
              "array([ 1.11032433e+04, -6.03186855e+01, -3.07448184e+01, -9.22041728e+02,\n",
              "        5.75298309e-01, -6.29806564e+01,  6.41477718e+02,  8.66939046e+02,\n",
              "        8.02632807e+02,  7.72017136e+02, -2.11446490e+02, -2.60181664e+02,\n",
              "       -4.77241287e+02, -9.79435887e+02, -1.44568473e+03, -2.32071663e+03,\n",
              "        5.42196209e+03,  3.70902347e+03,  2.75744676e+03,  4.62982528e+03,\n",
              "        4.32943759e+03,  5.05171077e+03,  5.01557344e+03])"
            ]
          },
          "metadata": {},
          "execution_count": 30
        }
      ],
      "source": [
        "# Coeficiente (la pendiente de la recta)\n",
        "\n",
        "modelo_rl.coef_\n"
      ]
    },
    {
      "cell_type": "code",
      "execution_count": null,
      "metadata": {
        "id": "WeHmEW0beOZJ",
        "colab": {
          "base_uri": "https://localhost:8080/"
        },
        "outputId": "69e63caf-3487-48d8-b571-0650e0226fb1"
      },
      "outputs": [
        {
          "output_type": "execute_result",
          "data": {
            "text/plain": [
              "1843.6433610079403"
            ]
          },
          "metadata": {},
          "execution_count": 31
        }
      ],
      "source": [
        "# Intercepto (el punto de comienzo de la recta en el eje y)\n",
        "\n",
        "modelo_rl.intercept_"
      ]
    },
    {
      "cell_type": "markdown",
      "source": [
        "##### Evaluación de datos de train"
      ],
      "metadata": {
        "id": "z4zjQMuahC0T"
      }
    },
    {
      "cell_type": "code",
      "source": [
        "y_pred_rl_train= modelo_rl.predict(X_train)\n",
        "r2_train_rl = r2_score(y_train, y_pred_rl_train)\n",
        "r2_train_rl"
      ],
      "metadata": {
        "colab": {
          "base_uri": "https://localhost:8080/"
        },
        "id": "l0F9ksK2fCmg",
        "outputId": "c4c53e86-f0e7-4248-8cef-c3028077b6bc"
      },
      "execution_count": null,
      "outputs": [
        {
          "output_type": "execute_result",
          "data": {
            "text/plain": [
              "0.9193208070553841"
            ]
          },
          "metadata": {},
          "execution_count": 32
        }
      ]
    },
    {
      "cell_type": "markdown",
      "metadata": {
        "id": "a-IRxOabhcsy"
      },
      "source": [
        "##### Probar el modelo y medir la performance"
      ]
    },
    {
      "cell_type": "code",
      "execution_count": null,
      "metadata": {
        "id": "D2KwsJlieOZK",
        "colab": {
          "base_uri": "https://localhost:8080/"
        },
        "outputId": "7a1747da-fac2-4330-bb1b-5326930874a8"
      },
      "outputs": [
        {
          "output_type": "execute_result",
          "data": {
            "text/plain": [
              "array([9257.74958438, 1967.61083018, 3479.23576306, ..., 2869.25791529,\n",
              "       1937.00512991, 1287.32884637])"
            ]
          },
          "metadata": {},
          "execution_count": 33
        }
      ],
      "source": [
        "# Probar el modelo con predict y los datos de test\n",
        "\n",
        "y_pred_lineal = modelo_rl.predict(X_test)\n",
        "y_pred_lineal"
      ]
    },
    {
      "cell_type": "code",
      "execution_count": null,
      "metadata": {
        "id": "yV7OYVciEQa_",
        "colab": {
          "base_uri": "https://localhost:8080/"
        },
        "outputId": "2e3dc896-30bb-40a3-c02b-4a4ed6695766"
      },
      "outputs": [
        {
          "output_type": "execute_result",
          "data": {
            "text/plain": [
              "0.9210494781954062"
            ]
          },
          "metadata": {},
          "execution_count": 34
        }
      ],
      "source": [
        "r2_lineal = r2_score(y_test, y_pred_lineal)\n",
        "r2_lineal"
      ]
    },
    {
      "cell_type": "code",
      "execution_count": null,
      "metadata": {
        "id": "IiUrXxh7EQa_",
        "colab": {
          "base_uri": "https://localhost:8080/"
        },
        "outputId": "d48a5555-98ed-455d-db49-393e25880fc1"
      },
      "outputs": [
        {
          "output_type": "stream",
          "name": "stdout",
          "text": [
            "El R2 del modelo es 0.92\n"
          ]
        }
      ],
      "source": [
        "print(\"El R2 del modelo es\", round(r2_lineal,2))"
      ]
    },
    {
      "cell_type": "markdown",
      "source": [
        "#Regresion Lineal sin intercepto"
      ],
      "metadata": {
        "id": "85R2rKm89NnH"
      }
    },
    {
      "cell_type": "code",
      "execution_count": null,
      "metadata": {
        "id": "dDgIFYRjeOZK"
      },
      "outputs": [],
      "source": [
        "# Al momento de instanciar el modelo se definen los hiperparámetros\n",
        "\n",
        "modelo_rl_sin_inter = LinearRegression(fit_intercept = False)\n"
      ]
    },
    {
      "cell_type": "code",
      "execution_count": null,
      "metadata": {
        "id": "zGqaZ5uheOZL",
        "colab": {
          "base_uri": "https://localhost:8080/",
          "height": 74
        },
        "outputId": "6f878ac3-ea19-4554-8be7-8fb7b7f7518f"
      },
      "outputs": [
        {
          "output_type": "execute_result",
          "data": {
            "text/plain": [
              "LinearRegression(fit_intercept=False)"
            ],
            "text/html": [
              "<style>#sk-container-id-5 {color: black;background-color: white;}#sk-container-id-5 pre{padding: 0;}#sk-container-id-5 div.sk-toggleable {background-color: white;}#sk-container-id-5 label.sk-toggleable__label {cursor: pointer;display: block;width: 100%;margin-bottom: 0;padding: 0.3em;box-sizing: border-box;text-align: center;}#sk-container-id-5 label.sk-toggleable__label-arrow:before {content: \"▸\";float: left;margin-right: 0.25em;color: #696969;}#sk-container-id-5 label.sk-toggleable__label-arrow:hover:before {color: black;}#sk-container-id-5 div.sk-estimator:hover label.sk-toggleable__label-arrow:before {color: black;}#sk-container-id-5 div.sk-toggleable__content {max-height: 0;max-width: 0;overflow: hidden;text-align: left;background-color: #f0f8ff;}#sk-container-id-5 div.sk-toggleable__content pre {margin: 0.2em;color: black;border-radius: 0.25em;background-color: #f0f8ff;}#sk-container-id-5 input.sk-toggleable__control:checked~div.sk-toggleable__content {max-height: 200px;max-width: 100%;overflow: auto;}#sk-container-id-5 input.sk-toggleable__control:checked~label.sk-toggleable__label-arrow:before {content: \"▾\";}#sk-container-id-5 div.sk-estimator input.sk-toggleable__control:checked~label.sk-toggleable__label {background-color: #d4ebff;}#sk-container-id-5 div.sk-label input.sk-toggleable__control:checked~label.sk-toggleable__label {background-color: #d4ebff;}#sk-container-id-5 input.sk-hidden--visually {border: 0;clip: rect(1px 1px 1px 1px);clip: rect(1px, 1px, 1px, 1px);height: 1px;margin: -1px;overflow: hidden;padding: 0;position: absolute;width: 1px;}#sk-container-id-5 div.sk-estimator {font-family: monospace;background-color: #f0f8ff;border: 1px dotted black;border-radius: 0.25em;box-sizing: border-box;margin-bottom: 0.5em;}#sk-container-id-5 div.sk-estimator:hover {background-color: #d4ebff;}#sk-container-id-5 div.sk-parallel-item::after {content: \"\";width: 100%;border-bottom: 1px solid gray;flex-grow: 1;}#sk-container-id-5 div.sk-label:hover label.sk-toggleable__label {background-color: #d4ebff;}#sk-container-id-5 div.sk-serial::before {content: \"\";position: absolute;border-left: 1px solid gray;box-sizing: border-box;top: 0;bottom: 0;left: 50%;z-index: 0;}#sk-container-id-5 div.sk-serial {display: flex;flex-direction: column;align-items: center;background-color: white;padding-right: 0.2em;padding-left: 0.2em;position: relative;}#sk-container-id-5 div.sk-item {position: relative;z-index: 1;}#sk-container-id-5 div.sk-parallel {display: flex;align-items: stretch;justify-content: center;background-color: white;position: relative;}#sk-container-id-5 div.sk-item::before, #sk-container-id-5 div.sk-parallel-item::before {content: \"\";position: absolute;border-left: 1px solid gray;box-sizing: border-box;top: 0;bottom: 0;left: 50%;z-index: -1;}#sk-container-id-5 div.sk-parallel-item {display: flex;flex-direction: column;z-index: 1;position: relative;background-color: white;}#sk-container-id-5 div.sk-parallel-item:first-child::after {align-self: flex-end;width: 50%;}#sk-container-id-5 div.sk-parallel-item:last-child::after {align-self: flex-start;width: 50%;}#sk-container-id-5 div.sk-parallel-item:only-child::after {width: 0;}#sk-container-id-5 div.sk-dashed-wrapped {border: 1px dashed gray;margin: 0 0.4em 0.5em 0.4em;box-sizing: border-box;padding-bottom: 0.4em;background-color: white;}#sk-container-id-5 div.sk-label label {font-family: monospace;font-weight: bold;display: inline-block;line-height: 1.2em;}#sk-container-id-5 div.sk-label-container {text-align: center;}#sk-container-id-5 div.sk-container {/* jupyter's `normalize.less` sets `[hidden] { display: none; }` but bootstrap.min.css set `[hidden] { display: none !important; }` so we also need the `!important` here to be able to override the default hidden behavior on the sphinx rendered scikit-learn.org. See: https://github.com/scikit-learn/scikit-learn/issues/21755 */display: inline-block !important;position: relative;}#sk-container-id-5 div.sk-text-repr-fallback {display: none;}</style><div id=\"sk-container-id-5\" class=\"sk-top-container\"><div class=\"sk-text-repr-fallback\"><pre>LinearRegression(fit_intercept=False)</pre><b>In a Jupyter environment, please rerun this cell to show the HTML representation or trust the notebook. <br />On GitHub, the HTML representation is unable to render, please try loading this page with nbviewer.org.</b></div><div class=\"sk-container\" hidden><div class=\"sk-item\"><div class=\"sk-estimator sk-toggleable\"><input class=\"sk-toggleable__control sk-hidden--visually\" id=\"sk-estimator-id-5\" type=\"checkbox\" checked><label for=\"sk-estimator-id-5\" class=\"sk-toggleable__label sk-toggleable__label-arrow\">LinearRegression</label><div class=\"sk-toggleable__content\"><pre>LinearRegression(fit_intercept=False)</pre></div></div></div></div></div>"
            ]
          },
          "metadata": {},
          "execution_count": 37
        }
      ],
      "source": [
        "# Se entena el modelo sin intercepto (se usa x_train con el reshape ya realizado)\n",
        "\n",
        "modelo_rl_sin_inter.fit(X_train, y_train)"
      ]
    },
    {
      "cell_type": "code",
      "execution_count": null,
      "metadata": {
        "id": "x21lnH79eOZL",
        "colab": {
          "base_uri": "https://localhost:8080/"
        },
        "outputId": "cac98e7a-cf1a-412d-fda6-025247e85550"
      },
      "outputs": [
        {
          "output_type": "execute_result",
          "data": {
            "text/plain": [
              "array([ 1.10335256e+04, -4.20206600e+01, -2.16831227e+01, -8.74124297e+02,\n",
              "        5.86113723e+00, -1.00864649e+02,  6.76566510e+02,  9.35431427e+02,\n",
              "        8.53358068e+02,  8.21965743e+02, -2.09136499e+02, -2.58555742e+02,\n",
              "       -4.76654396e+02, -9.78863603e+02, -1.44503979e+03, -2.32000540e+03,\n",
              "        5.45251024e+03,  3.72833001e+03,  2.77802943e+03,  4.65323412e+03,\n",
              "        4.35115184e+03,  5.07917622e+03,  5.04066812e+03])"
            ]
          },
          "metadata": {},
          "execution_count": 38
        }
      ],
      "source": [
        "# El coeficiente del modelo (la pendiente de la recta)\n",
        "\n",
        "modelo_rl_sin_inter.coef_"
      ]
    },
    {
      "cell_type": "code",
      "execution_count": null,
      "metadata": {
        "id": "24FQkHG7eOZL",
        "colab": {
          "base_uri": "https://localhost:8080/"
        },
        "outputId": "dedfe163-bcc3-4796-ee5a-9c22a430bf60"
      },
      "outputs": [
        {
          "output_type": "execute_result",
          "data": {
            "text/plain": [
              "0.0"
            ]
          },
          "metadata": {},
          "execution_count": 39
        }
      ],
      "source": [
        "# El intercepto es 0 debido a que eso es lo que se ha definido\n",
        "\n",
        "modelo_rl_sin_inter.intercept_"
      ]
    },
    {
      "cell_type": "markdown",
      "source": [
        "##### Evaluación de datos de train"
      ],
      "metadata": {
        "id": "3p9WgW0DgIPq"
      }
    },
    {
      "cell_type": "code",
      "source": [
        "y_pred_rl_sin_train= modelo_rl_sin_inter.predict(X_train)\n",
        "r2_train_rl_no_inter= r2_score(y_train, y_pred_rl_sin_train)\n",
        "r2_train_rl_no_inter"
      ],
      "metadata": {
        "colab": {
          "base_uri": "https://localhost:8080/"
        },
        "outputId": "0ad9cccb-e1e2-48ff-cc0e-057ba79c24a4",
        "id": "Lacx9vV9gIPx"
      },
      "execution_count": null,
      "outputs": [
        {
          "output_type": "execute_result",
          "data": {
            "text/plain": [
              "0.919290465709544"
            ]
          },
          "metadata": {},
          "execution_count": 40
        }
      ]
    },
    {
      "cell_type": "markdown",
      "metadata": {
        "id": "KPgBuaVO4tfA"
      },
      "source": [
        "##### Probar el modelo y medir la performance"
      ]
    },
    {
      "cell_type": "code",
      "execution_count": null,
      "metadata": {
        "id": "eiadR7NYeOZL"
      },
      "outputs": [],
      "source": [
        "# Probar nuestro modelo con los datos de test\n",
        "\n",
        "y_pred_sin_inter = modelo_rl_sin_inter.predict(X_test)"
      ]
    },
    {
      "cell_type": "code",
      "execution_count": null,
      "metadata": {
        "id": "PxKfwKWl_wfp",
        "colab": {
          "base_uri": "https://localhost:8080/"
        },
        "outputId": "3af96379-1cd6-41fa-b13a-bf0c3e189a6b"
      },
      "outputs": [
        {
          "output_type": "execute_result",
          "data": {
            "text/plain": [
              "0.9209774749942177"
            ]
          },
          "metadata": {},
          "execution_count": 42
        }
      ],
      "source": [
        "# Evaluamos el modelo con distintas métricas\n",
        "\n",
        "r2_sin_inter = r2_score(y_test, y_pred_sin_inter)\n",
        "r2_sin_inter"
      ]
    },
    {
      "cell_type": "code",
      "execution_count": null,
      "metadata": {
        "id": "3KD_EIqQ9Y1y",
        "colab": {
          "base_uri": "https://localhost:8080/"
        },
        "outputId": "c1d43f73-0a02-41f0-8985-dd7afe7c31da"
      },
      "outputs": [
        {
          "output_type": "stream",
          "name": "stdout",
          "text": [
            "El R2 del modelo sin intercepto es 0.92\n"
          ]
        }
      ],
      "source": [
        "print(\"El R2 del modelo sin intercepto es\", round(r2_sin_inter,2))"
      ]
    },
    {
      "cell_type": "markdown",
      "metadata": {
        "id": "kpl2dsUu4tfC"
      },
      "source": [
        "##### Comparar la performance de ambos modelos entrenados"
      ]
    },
    {
      "cell_type": "code",
      "execution_count": null,
      "metadata": {
        "id": "Q03sYc_qeOZL",
        "colab": {
          "base_uri": "https://localhost:8080/"
        },
        "outputId": "a08b96b2-1eaf-4cb9-c942-e51275fadd7f"
      },
      "outputs": [
        {
          "output_type": "stream",
          "name": "stdout",
          "text": [
            "el R2 del modelo con intercepto es  0.9210494781954062\n",
            "el R2 del modelo sin intercepto es  0.9209774749942177\n"
          ]
        }
      ],
      "source": [
        "# Es muy bueno pero levemente peor que el anterior\n",
        "\n",
        "print(\"el R2 del modelo con intercepto es \", r2_lineal)\n",
        "print(\"el R2 del modelo sin intercepto es \", r2_sin_inter)"
      ]
    },
    {
      "cell_type": "markdown",
      "source": [
        "# Árbol de decisión"
      ],
      "metadata": {
        "id": "itcQyqEJiEo9"
      }
    },
    {
      "cell_type": "code",
      "source": [
        "# Importamos el modelo que utilizaremos: árbol de decisión\n",
        "\n",
        "from sklearn.tree import DecisionTreeRegressor"
      ],
      "metadata": {
        "id": "cRHDTA7jlJ9J"
      },
      "execution_count": null,
      "outputs": []
    },
    {
      "cell_type": "code",
      "source": [
        "# Instanciamos el modelo que utilizaremos con el hiperparámetro max_depth=4\n",
        "\n",
        "arbol_depth4 = DecisionTreeRegressor(max_depth=4)"
      ],
      "metadata": {
        "id": "3WgcRFppv7C0"
      },
      "execution_count": null,
      "outputs": []
    },
    {
      "cell_type": "code",
      "execution_count": null,
      "metadata": {
        "colab": {
          "base_uri": "https://localhost:8080/",
          "height": 74
        },
        "id": "t2DAabqmnIHe",
        "outputId": "651228fa-3021-4f30-e980-14aeaf8b2d1b"
      },
      "outputs": [
        {
          "output_type": "execute_result",
          "data": {
            "text/plain": [
              "DecisionTreeRegressor(max_depth=4)"
            ],
            "text/html": [
              "<style>#sk-container-id-6 {color: black;background-color: white;}#sk-container-id-6 pre{padding: 0;}#sk-container-id-6 div.sk-toggleable {background-color: white;}#sk-container-id-6 label.sk-toggleable__label {cursor: pointer;display: block;width: 100%;margin-bottom: 0;padding: 0.3em;box-sizing: border-box;text-align: center;}#sk-container-id-6 label.sk-toggleable__label-arrow:before {content: \"▸\";float: left;margin-right: 0.25em;color: #696969;}#sk-container-id-6 label.sk-toggleable__label-arrow:hover:before {color: black;}#sk-container-id-6 div.sk-estimator:hover label.sk-toggleable__label-arrow:before {color: black;}#sk-container-id-6 div.sk-toggleable__content {max-height: 0;max-width: 0;overflow: hidden;text-align: left;background-color: #f0f8ff;}#sk-container-id-6 div.sk-toggleable__content pre {margin: 0.2em;color: black;border-radius: 0.25em;background-color: #f0f8ff;}#sk-container-id-6 input.sk-toggleable__control:checked~div.sk-toggleable__content {max-height: 200px;max-width: 100%;overflow: auto;}#sk-container-id-6 input.sk-toggleable__control:checked~label.sk-toggleable__label-arrow:before {content: \"▾\";}#sk-container-id-6 div.sk-estimator input.sk-toggleable__control:checked~label.sk-toggleable__label {background-color: #d4ebff;}#sk-container-id-6 div.sk-label input.sk-toggleable__control:checked~label.sk-toggleable__label {background-color: #d4ebff;}#sk-container-id-6 input.sk-hidden--visually {border: 0;clip: rect(1px 1px 1px 1px);clip: rect(1px, 1px, 1px, 1px);height: 1px;margin: -1px;overflow: hidden;padding: 0;position: absolute;width: 1px;}#sk-container-id-6 div.sk-estimator {font-family: monospace;background-color: #f0f8ff;border: 1px dotted black;border-radius: 0.25em;box-sizing: border-box;margin-bottom: 0.5em;}#sk-container-id-6 div.sk-estimator:hover {background-color: #d4ebff;}#sk-container-id-6 div.sk-parallel-item::after {content: \"\";width: 100%;border-bottom: 1px solid gray;flex-grow: 1;}#sk-container-id-6 div.sk-label:hover label.sk-toggleable__label {background-color: #d4ebff;}#sk-container-id-6 div.sk-serial::before {content: \"\";position: absolute;border-left: 1px solid gray;box-sizing: border-box;top: 0;bottom: 0;left: 50%;z-index: 0;}#sk-container-id-6 div.sk-serial {display: flex;flex-direction: column;align-items: center;background-color: white;padding-right: 0.2em;padding-left: 0.2em;position: relative;}#sk-container-id-6 div.sk-item {position: relative;z-index: 1;}#sk-container-id-6 div.sk-parallel {display: flex;align-items: stretch;justify-content: center;background-color: white;position: relative;}#sk-container-id-6 div.sk-item::before, #sk-container-id-6 div.sk-parallel-item::before {content: \"\";position: absolute;border-left: 1px solid gray;box-sizing: border-box;top: 0;bottom: 0;left: 50%;z-index: -1;}#sk-container-id-6 div.sk-parallel-item {display: flex;flex-direction: column;z-index: 1;position: relative;background-color: white;}#sk-container-id-6 div.sk-parallel-item:first-child::after {align-self: flex-end;width: 50%;}#sk-container-id-6 div.sk-parallel-item:last-child::after {align-self: flex-start;width: 50%;}#sk-container-id-6 div.sk-parallel-item:only-child::after {width: 0;}#sk-container-id-6 div.sk-dashed-wrapped {border: 1px dashed gray;margin: 0 0.4em 0.5em 0.4em;box-sizing: border-box;padding-bottom: 0.4em;background-color: white;}#sk-container-id-6 div.sk-label label {font-family: monospace;font-weight: bold;display: inline-block;line-height: 1.2em;}#sk-container-id-6 div.sk-label-container {text-align: center;}#sk-container-id-6 div.sk-container {/* jupyter's `normalize.less` sets `[hidden] { display: none; }` but bootstrap.min.css set `[hidden] { display: none !important; }` so we also need the `!important` here to be able to override the default hidden behavior on the sphinx rendered scikit-learn.org. See: https://github.com/scikit-learn/scikit-learn/issues/21755 */display: inline-block !important;position: relative;}#sk-container-id-6 div.sk-text-repr-fallback {display: none;}</style><div id=\"sk-container-id-6\" class=\"sk-top-container\"><div class=\"sk-text-repr-fallback\"><pre>DecisionTreeRegressor(max_depth=4)</pre><b>In a Jupyter environment, please rerun this cell to show the HTML representation or trust the notebook. <br />On GitHub, the HTML representation is unable to render, please try loading this page with nbviewer.org.</b></div><div class=\"sk-container\" hidden><div class=\"sk-item\"><div class=\"sk-estimator sk-toggleable\"><input class=\"sk-toggleable__control sk-hidden--visually\" id=\"sk-estimator-id-6\" type=\"checkbox\" checked><label for=\"sk-estimator-id-6\" class=\"sk-toggleable__label sk-toggleable__label-arrow\">DecisionTreeRegressor</label><div class=\"sk-toggleable__content\"><pre>DecisionTreeRegressor(max_depth=4)</pre></div></div></div></div></div>"
            ]
          },
          "metadata": {},
          "execution_count": 47
        }
      ],
      "source": [
        "# Entrenamos el modelo\n",
        "\n",
        "arbol_depth4.fit(X_train, y_train)"
      ]
    },
    {
      "cell_type": "code",
      "execution_count": null,
      "metadata": {
        "id": "democratic-parker",
        "colab": {
          "base_uri": "https://localhost:8080/"
        },
        "outputId": "2fb316cd-73e1-4107-aa3b-b0703ec5cfd1"
      },
      "outputs": [
        {
          "output_type": "execute_result",
          "data": {
            "text/plain": [
              "31"
            ]
          },
          "metadata": {},
          "execution_count": 48
        }
      ],
      "source": [
        "arbol_depth4.tree_.node_count"
      ]
    },
    {
      "cell_type": "code",
      "execution_count": null,
      "metadata": {
        "id": "alternate-symphony",
        "colab": {
          "base_uri": "https://localhost:8080/"
        },
        "outputId": "3284b124-8180-40f3-8e5f-4590bbac03c7"
      },
      "outputs": [
        {
          "output_type": "execute_result",
          "data": {
            "text/plain": [
              "4"
            ]
          },
          "metadata": {},
          "execution_count": 49
        }
      ],
      "source": [
        "arbol_depth4.tree_.max_depth"
      ]
    },
    {
      "cell_type": "markdown",
      "source": [
        "##### Evaluación de datos de train"
      ],
      "metadata": {
        "id": "w7hZqKpoJzTG"
      }
    },
    {
      "cell_type": "code",
      "source": [
        "from sklearn.metrics import r2_score\n",
        "y_pred_depth4_train= arbol_depth4.predict(X_train)\n",
        "r2_train_arbol2 = r2_score(y_train, y_pred_depth4_train)\n",
        "r2_train_arbol2"
      ],
      "metadata": {
        "colab": {
          "base_uri": "https://localhost:8080/"
        },
        "id": "Ej0hAmbjMcvh",
        "outputId": "547eb4d0-0713-41f7-df9d-ba0f25d60ef8"
      },
      "execution_count": null,
      "outputs": [
        {
          "output_type": "execute_result",
          "data": {
            "text/plain": [
              "0.8944876385613247"
            ]
          },
          "metadata": {},
          "execution_count": 50
        }
      ]
    },
    {
      "cell_type": "markdown",
      "source": [
        "##### Probamos y evaluamos nuestro modelo"
      ],
      "metadata": {
        "id": "LLYky_5gOd2X"
      }
    },
    {
      "cell_type": "code",
      "source": [
        "# Probamos nuestro modelo con los datos de test\n",
        "\n",
        "y_pred_arbol = arbol_depth4.predict(X_test)\n",
        "y_pred_arbol"
      ],
      "metadata": {
        "id": "D_zZcSF8Jn53",
        "colab": {
          "base_uri": "https://localhost:8080/"
        },
        "outputId": "578c3fd8-ec26-4b65-97db-98a8f302ab09"
      },
      "execution_count": null,
      "outputs": [
        {
          "output_type": "execute_result",
          "data": {
            "text/plain": [
              "array([7388.07406598, 1648.2870695 , 2492.43494253, ..., 2492.43494253,\n",
              "       1648.2870695 , 2492.43494253])"
            ]
          },
          "metadata": {},
          "execution_count": 51
        }
      ]
    },
    {
      "cell_type": "code",
      "source": [
        "# Visualizamos el modelo entrenado\n",
        "from sklearn import tree\n",
        "plt.figure(figsize = (10,10))\n",
        "tree.plot_tree(arbol_depth4, feature_names=data.columns[:-1],filled=True,rounded=True)"
      ],
      "metadata": {
        "colab": {
          "base_uri": "https://localhost:8080/",
          "height": 1000
        },
        "id": "Wnfc6VYEwDHi",
        "outputId": "38495fed-80bc-4d49-f9b9-439bab64056b"
      },
      "execution_count": null,
      "outputs": [
        {
          "output_type": "execute_result",
          "data": {
            "text/plain": [
              "[Text(0.5, 0.9, 'carat <= 0.995\\nsquared_error = 15990421.279\\nsamples = 40455\\nvalue = 3938.457'),\n",
              " Text(0.25, 0.7, 'x <= 5.535\\nsquared_error = 1252224.843\\nsamples = 26160\\nvalue = 1631.108'),\n",
              " Text(0.125, 0.5, 'x <= 4.995\\nsquared_error = 276859.181\\nsamples = 18728\\nvalue = 1056.972'),\n",
              " Text(0.0625, 0.3, 'price <= 4.625\\nsquared_error = 55845.498\\nsamples = 13237\\nvalue = 787.299'),\n",
              " Text(0.03125, 0.1, 'squared_error = 34688.691\\nsamples = 8969\\nvalue = 700.359'),\n",
              " Text(0.09375, 0.1, 'squared_error = 51042.119\\nsamples = 4268\\nvalue = 970.0'),\n",
              " Text(0.1875, 0.3, 'clarity_VVS1 <= 0.5\\nsquared_error = 211716.74\\nsamples = 5491\\nvalue = 1707.066'),\n",
              " Text(0.15625, 0.1, 'squared_error = 191035.207\\nsamples = 4849\\nvalue = 1648.287'),\n",
              " Text(0.21875, 0.1, 'squared_error = 144734.336\\nsamples = 642\\nvalue = 2151.019'),\n",
              " Text(0.375, 0.5, 'carat <= 0.895\\nsquared_error = 786267.107\\nsamples = 7432\\nvalue = 3077.881'),\n",
              " Text(0.3125, 0.3, 'x <= 5.745\\nsquared_error = 410702.13\\nsamples = 5383\\nvalue = 2736.718'),\n",
              " Text(0.28125, 0.1, 'squared_error = 289828.255\\nsamples = 2175\\nvalue = 2492.435'),\n",
              " Text(0.34375, 0.1, 'squared_error = 424764.368\\nsamples = 3208\\nvalue = 2902.34'),\n",
              " Text(0.4375, 0.3, 'clarity_SI1 <= 0.5\\nsquared_error = 663829.364\\nsamples = 2049\\nvalue = 3974.162'),\n",
              " Text(0.40625, 0.1, 'squared_error = 737360.364\\nsamples = 1447\\nvalue = 4151.086'),\n",
              " Text(0.46875, 0.1, 'squared_error = 230996.169\\nsamples = 602\\nvalue = 3548.897'),\n",
              " Text(0.75, 0.7, 'x <= 7.195\\nsquared_error = 15389478.281\\nsamples = 14295\\nvalue = 8160.93'),\n",
              " Text(0.625, 0.5, 'clarity_SI1 <= 0.5\\nsquared_error = 4720146.863\\nsamples = 9659\\nvalue = 6146.311'),\n",
              " Text(0.5625, 0.3, 'clarity_IF <= 0.5\\nsquared_error = 5001920.822\\nsamples = 7151\\nvalue = 6667.896'),\n",
              " Text(0.53125, 0.1, 'squared_error = 5668012.177\\nsamples = 4577\\nvalue = 7388.074'),\n",
              " Text(0.59375, 0.1, 'squared_error = 1255311.938\\nsamples = 2574\\nvalue = 5387.298'),\n",
              " Text(0.6875, 0.3, 'carat <= 1.195\\nsquared_error = 929332.157\\nsamples = 2508\\nvalue = 4659.13'),\n",
              " Text(0.65625, 0.1, 'squared_error = 318863.327\\nsamples = 1865\\nvalue = 4311.391'),\n",
              " Text(0.71875, 0.1, 'squared_error = 1331962.792\\nsamples = 643\\nvalue = 5667.734'),\n",
              " Text(0.875, 0.5, 'x <= 7.815\\nsquared_error = 11544319.917\\nsamples = 4636\\nvalue = 12358.343'),\n",
              " Text(0.8125, 0.3, 'clarity_SI1 <= 0.5\\nsquared_error = 8633863.508\\nsamples = 2957\\nvalue = 10950.517'),\n",
              " Text(0.78125, 0.1, 'squared_error = 8521508.773\\nsamples = 2325\\nvalue = 11545.815'),\n",
              " Text(0.84375, 0.1, 'squared_error = 2947496.166\\nsamples = 632\\nvalue = 8760.538'),\n",
              " Text(0.9375, 0.3, 'color_I <= 0.5\\nsquared_error = 7032018.688\\nsamples = 1679\\nvalue = 14837.761'),\n",
              " Text(0.90625, 0.1, 'squared_error = 6796445.061\\nsamples = 1357\\nvalue = 15128.713'),\n",
              " Text(0.96875, 0.1, 'squared_error = 6164583.133\\nsamples = 322\\nvalue = 13611.606')]"
            ]
          },
          "metadata": {},
          "execution_count": 52
        },
        {
          "output_type": "display_data",
          "data": {
            "text/plain": [
              "<Figure size 1000x1000 with 1 Axes>"
            ],
            "image/png": "[encoded data removed]"
          },
          "metadata": {}
        }
      ]
    },
    {
      "cell_type": "code",
      "execution_count": null,
      "metadata": {
        "id": "KdCK1gXNDuQ7",
        "colab": {
          "base_uri": "https://localhost:8080/"
        },
        "outputId": "591aaa4a-6794-4ca9-c4f9-068d93c68575"
      },
      "outputs": [
        {
          "output_type": "execute_result",
          "data": {
            "text/plain": [
              "0.8902448032138188"
            ]
          },
          "metadata": {},
          "execution_count": 53
        }
      ],
      "source": [
        "# Evaluamos el modelo con r2\n",
        "\n",
        "r2_depth4 = r2_score(y_test, y_pred_arbol)\n",
        "r2_depth4"
      ]
    },
    {
      "cell_type": "code",
      "execution_count": null,
      "metadata": {
        "colab": {
          "base_uri": "https://localhost:8080/"
        },
        "outputId": "d64523af-7e87-46b5-ed05-ee29c6b5a6d4",
        "id": "eJdHHi6pDuQ8"
      },
      "outputs": [
        {
          "output_type": "stream",
          "name": "stdout",
          "text": [
            "El R2 del modelo sin intercepto es 0.89\n"
          ]
        }
      ],
      "source": [
        "print(\"El R2 del modelo sin intercepto es\", round(r2_depth4,2))"
      ]
    },
    {
      "cell_type": "markdown",
      "source": [
        "#Conclusion"
      ],
      "metadata": {
        "id": "VESqQ8jOLLdU"
      }
    },
    {
      "cell_type": "code",
      "metadata": {
        "id": "omlBX97Yn7xK",
        "colab": {
          "base_uri": "https://localhost:8080/",
          "height": 727
        },
        "outputId": "b2fc6124-045b-4df7-a6f6-78c19c439b59"
      },
      "source": [
        "import numpy as np\n",
        "modelos = ['KNN', 'LinReg', 'LinReg sin intercepto', 'Arboles de decisión']\n",
        "entrenamiento = [95, 91, 91, 89]\n",
        "testeo = [93, 92, 92, 89]\n",
        "\n",
        "#Obtenemos la posicion de cada etiqueta en el eje de X\n",
        "x = np.arange(len(modelos))\n",
        "#tamaño de cada barra\n",
        "width = 0.35\n",
        "\n",
        "fig, ax = plt.subplots(figsize=(13, 7))\n",
        "\n",
        "#Generamos las barras para el conjunto de hombres\n",
        "rects1 = ax.bar(x - width/2, entrenamiento, width, label='Entrenamiento')\n",
        "#Generamos las barras para el conjunto de mujeres\n",
        "rects2 = ax.bar(x + width/2, testeo, width, label='Testeo')\n",
        "\n",
        "#Añadimos las etiquetas de identificacion de valores en el grafico\n",
        "ax.set_ylabel('score')\n",
        "ax.set_title('Comparación de Modelos')\n",
        "ax.set_xticks(x)\n",
        "ax.set_xticklabels(modelos)\n",
        "#Añadimos un legen() esto permite mmostrar con colores a que pertence cada valor.\n",
        "ax.legend()\n",
        "\n",
        "def autolabel(rects):\n",
        "    \"\"\"Funcion para agregar una etiqueta con el valor en cada barra\"\"\"\n",
        "    for rect in rects:\n",
        "        height = rect.get_height()\n",
        "        ax.annotate('{}'.format(height),\n",
        "                    xy=(rect.get_x() + rect.get_width() / 2, height),\n",
        "                    xytext=(0, 3),  # 3 points vertical offset\n",
        "                    textcoords=\"offset points\",\n",
        "                    ha='center', va='bottom')\n",
        "\n",
        "#Añadimos las etiquetas para cada barra\n",
        "autolabel(rects1)\n",
        "autolabel(rects2)\n",
        "fig.tight_layout()\n",
        "plt.savefig('doble_barra.png')\n",
        "#Mostramos la grafica con el metodo show()\n",
        "plt.show()"
      ],
      "execution_count": null,
      "outputs": [
        {
          "output_type": "display_data",
          "data": {
            "text/plain": [
              "<Figure size 1300x700 with 1 Axes>"
            ],
            "image/png": "[encoded data removed]"
          },
          "metadata": {}
        }
      ]
    },
    {
      "cell_type": "markdown",
      "source": [
        "El mejor modelo es KNN por su aproximado a 1"
      ],
      "metadata": {
        "id": "Ky__Z1_iRaAi"
      }
    }
  ],
  "metadata": {
    "colab": {
      "provenance": [],
      "gpuType": "T4",
      "include_colab_link": true
    },
    "kernelspec": {
      "display_name": "Python 3",
      "name": "python3"
    },
    "language_info": {
      "codemirror_mode": {
        "name": "ipython",
        "version": 3
      },
      "file_extension": ".py",
      "mimetype": "text/x-python",
      "name": "python",
      "nbconvert_exporter": "python",
      "pygments_lexer": "ipython3",
      "version": "3.7.10"
    },
    "accelerator": "GPU"
  },
  "nbformat": 4,
  "nbformat_minor": 0
}